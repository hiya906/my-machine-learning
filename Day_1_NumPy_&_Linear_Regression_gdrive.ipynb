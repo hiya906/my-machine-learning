{
  "nbformat": 4,
  "nbformat_minor": 0,
  "metadata": {
    "colab": {
      "name": "Day 1. NumPy & Linear Regression_gdrive.ipynb",
      "version": "0.3.2",
      "provenance": [],
      "collapsed_sections": [
        "xEqlMgYea7Ab",
        "8ZhDc0H-dI3h",
        "HKINVvyLfvfb",
        "ZGboIEPcgkNH",
        "DgphIJWBkMH-",
        "vtFDxDiOWSqf",
        "mbTJsURVIVdC",
        "CiyDC9FzIVdE",
        "t0WmGfvRIVdI",
        "7ASp1X1bIVdK",
        "XxUu1iLUGYPC",
        "NQBll0-xIVdQ",
        "tt2v4YxDIVdS",
        "k_HhGvvpIo5t",
        "M8SW-KCYIVdU",
        "XlR6KKeqIVdX",
        "l2PlW4-iKUQt",
        "MDEx4rC2rJgr",
        "2Sr5IkelrJgv",
        "JliK8k76rJg5",
        "UAjFnkrzrJhA",
        "-Le9EEsVQ282",
        "CwS5dapbUbQc"
      ],
      "toc_visible": true,
      "include_colab_link": true
    },
    "kernelspec": {
      "name": "python3",
      "display_name": "Python 3"
    }
  },
  "cells": [
    {
      "cell_type": "markdown",
      "metadata": {
        "id": "view-in-github",
        "colab_type": "text"
      },
      "source": [
        "<a href=\"https://colab.research.google.com/github/hiya906/my-machine-learning/blob/master/Day_1_NumPy_%26_Linear_Regression_gdrive.ipynb\" target=\"_parent\"><img src=\"https://colab.research.google.com/assets/colab-badge.svg\" alt=\"Open In Colab\"/></a>"
      ]
    },
    {
      "cell_type": "markdown",
      "metadata": {
        "id": "byJzQYggCxfU",
        "colab_type": "text"
      },
      "source": [
        "#사용법\n",
        "\n",
        "1. 우측 상단 '로그인'\n",
        "\n",
        "2. 좌측 상단 '실습 모드에서 열기'\n",
        "\n",
        "※ 각각의 셀은 셀 좌측 상단 실행 버튼을 통해 실행할 수 있습니다.\n",
        "\n",
        "※ 실행 중 '경고: 이 노트는 Google에서 작성하지 않았습니다.'라는 창이 뜰 경우, '실행 전에 모든 런타임 재설정'란에 체크 후 '무시하고 계속하기'를 하시면 됩니다."
      ]
    },
    {
      "cell_type": "code",
      "metadata": {
        "id": "IywNmlU2sRWS",
        "colab_type": "code",
        "colab": {}
      },
      "source": [
        "import os\n",
        "\n",
        "os.mkdir('/content/bb')\n",
        "\n",
        "\n"
      ],
      "execution_count": 0,
      "outputs": []
    },
    {
      "cell_type": "markdown",
      "metadata": {
        "id": "xEqlMgYea7Ab",
        "colab_type": "text"
      },
      "source": [
        "# NumPy Tutorial\n",
        "\n",
        "기본적인 Python 문법은 알고있다고 가정합니다.\n",
        "\n",
        "기초 문법은 아래 링크에 잘 정리되어 있으니, 참고하시기 바랍니다.\n",
        "\n",
        "https://wikidocs.net/book/1"
      ]
    },
    {
      "cell_type": "markdown",
      "metadata": {
        "id": "OcTFemOpoyV4",
        "colab_type": "text"
      },
      "source": [
        "## 슬라이드 내용입니다."
      ]
    },
    {
      "cell_type": "code",
      "metadata": {
        "id": "8fmAFIHnuIAA",
        "colab_type": "code",
        "cellView": "both",
        "colab": {}
      },
      "source": [
        "import numpy as np\n",
        "\n",
        "\n",
        "# 두 개의 행렬을 생성합니다.\n",
        "py_mat_a = [[1, 2],\n",
        "            [3, 4]]\n",
        "py_mat_b = [[2, 1],\n",
        "            [4, 3]]\n",
        "\n",
        "result = []\n",
        "\n",
        "\n",
        "#행렬 곱 by 파이썬 기본연산\n",
        "for i in range(2):\n",
        "    row = []\n",
        "    for j in range(2):\n",
        "        n = 0\n",
        "        for k in range(2):\n",
        "            n += py_mat_a[i][k] * py_mat_b[k][j]\n",
        "        row.append(n)\n",
        "    result.append(row)\n",
        "    \n",
        "print(result)\n",
        "    \n",
        "#행렬 곱 by NumPy\n",
        "np_mat_a = np.array(py_mat_a)\n",
        "np_mat_b = np.array(py_mat_b)\n",
        "\n",
        "\n",
        "result = np.matmul(np_mat_a, np_mat_b)\n",
        "\n",
        "print(result)"
      ],
      "execution_count": 0,
      "outputs": []
    },
    {
      "cell_type": "markdown",
      "metadata": {
        "id": "Znn5IkDBbfc_",
        "colab_type": "text"
      },
      "source": [
        "### 배열 생성"
      ]
    },
    {
      "cell_type": "code",
      "metadata": {
        "id": "wU1sQ88BZgRD",
        "colab_type": "code",
        "colab": {}
      },
      "source": [
        "# 파이썬 리스트로부터 배열 생성\n",
        "py_list = [[1, 0, 0], [0, 1, 0], [0, 0, 1]]\n",
        "\n",
        "numpy_int_arr = np.array(py_list, dtype=int)\n",
        "numpy_float_arr = np.array(py_list, dtype=float)\n",
        "\n",
        "print('Numpy int array')\n",
        "print(numpy_int_arr)\n",
        "print('Numpy float array')\n",
        "print(numpy_float_arr)"
      ],
      "execution_count": 0,
      "outputs": []
    },
    {
      "cell_type": "code",
      "metadata": {
        "id": "7jKfoA-nZysW",
        "colab_type": "code",
        "colab": {}
      },
      "source": [
        "# 특정 값으로 채워진 배열\n",
        "a = np.zeros((2,2))   \t\n",
        "print(a)              \t      \t\n",
        "\n",
        "b = np.ones((1,2))   \t\n",
        "print(b)   \n",
        "           \t\n",
        "c = np.full((2,2), 7)  \t\n",
        "print(c)               \t\t\n",
        "\n",
        "d = np.eye(2)         \t\n",
        "print(d)             \t\t                    "
      ],
      "execution_count": 0,
      "outputs": []
    },
    {
      "cell_type": "code",
      "metadata": {
        "id": "iWWiKu7IaA3J",
        "colab_type": "code",
        "colab": {}
      },
      "source": [
        "# 무작위 값으로 채워진 배열\n",
        "e = np.random.random((2,2)) \n",
        "print(e) \n"
      ],
      "execution_count": 0,
      "outputs": []
    },
    {
      "cell_type": "markdown",
      "metadata": {
        "id": "NC2f9gPGbi8s",
        "colab_type": "text"
      },
      "source": [
        "### 배열 조작"
      ]
    },
    {
      "cell_type": "code",
      "metadata": {
        "id": "GkKmHrpDaHN5",
        "colab_type": "code",
        "colab": {}
      },
      "source": [
        "# 배열의 모양 파악\n",
        "arr = np.array([[1, 2, 3], [4, 5, 6]])\n",
        "print(arr.shape)\n"
      ],
      "execution_count": 0,
      "outputs": []
    },
    {
      "cell_type": "code",
      "metadata": {
        "id": "aeX1pcdbaOVm",
        "colab_type": "code",
        "colab": {}
      },
      "source": [
        "# 배열 전치\n",
        "\n",
        "arr = np.ones((1, 2, 3))\n",
        "arr_trans = np.transpose(arr)\n",
        "arr_trans_idx = np.transpose(arr, axes=[1, 0, 2])\n",
        "\n",
        "print('Original shape : ', arr.shape)\n",
        "print('Transpose : ', arr_trans.shape)\n",
        "print('Transpose given index : ', arr_trans_idx.shape)\n"
      ],
      "execution_count": 0,
      "outputs": []
    },
    {
      "cell_type": "code",
      "metadata": {
        "id": "H8k36YIzaS26",
        "colab_type": "code",
        "colab": {}
      },
      "source": [
        "# 배열 인덱싱\n",
        "a = np.array([[1,2,3,4], [5,6,7,8], [9,10,11,12]])\t# shape = (3, 4)\n",
        "\n",
        "b = a[0, 0]\t\n",
        "print(b, b.shape)\n",
        "\n",
        "c = a[0:2, 0]\n",
        "print(c, c.shape)\n",
        "\n",
        "d = a[0:2, 1:3]\n",
        "print(d, d.shape)\n",
        "\n",
        "e = a[:, 1]\t\n",
        "print(d, d.shape)\n",
        "\n",
        "\n",
        "a[2, 1:3] = 1000\n",
        "print(a, a.shape)\n",
        "\n"
      ],
      "execution_count": 0,
      "outputs": []
    },
    {
      "cell_type": "code",
      "metadata": {
        "id": "Ai3f3se5at1g",
        "colab_type": "code",
        "colab": {}
      },
      "source": [
        "# 차원 확장\n",
        "arr_expand_0 = np.expand_dims(arr, axis=0)\n",
        "arr_expand_1 = np.expand_dims(arr, axis=1)\n",
        "arr_expand_last = np.expand_dims(arr, axis=-1)\n",
        "\n",
        "print('Original shape    : ', arr.shape)\n",
        "print('Expand axis 0     : ', arr_expand_0.shape)\n",
        "print('Expand axis 1     : ', arr_expand_1.shape)\n",
        "print('Expand axis last  : ', arr_expand_last.shape)\n"
      ],
      "execution_count": 0,
      "outputs": []
    },
    {
      "cell_type": "code",
      "metadata": {
        "id": "6cc2RlF_a0X3",
        "colab_type": "code",
        "colab": {}
      },
      "source": [
        "# 차원 축소\n",
        "arr2 = np.expand_dims(arr_expand_0, axis=-1)\n",
        "\n",
        "arr_squeeze = np.squeeze(arr2)\n",
        "arr_squeeze_0 = np.squeeze(arr2, axis=0)\n",
        "arr_squeeze_last = np.squeeze(arr2, axis=-1)\n",
        "\n",
        "print('Original shape    : ', arr2.shape)\n",
        "print('Squeeze all       : ', arr_squeeze.shape)\n",
        "print('Squeeze axis 0     : ', arr_squeeze_0.shape)\n",
        "print('Squeeze axis last  : ', arr_squeeze_last.shape)\n"
      ],
      "execution_count": 0,
      "outputs": []
    },
    {
      "cell_type": "markdown",
      "metadata": {
        "id": "X-6gLuf-boQV",
        "colab_type": "text"
      },
      "source": [
        "### 배열 연산"
      ]
    },
    {
      "cell_type": "code",
      "metadata": {
        "id": "XArC3fa4a4xn",
        "colab_type": "code",
        "colab": {}
      },
      "source": [
        "# 행렬 곱\n",
        "arr = np.array([[1, 2], \n",
        "\t\t\t          [3, 4]])\n",
        "arr2 = np.array([[1, 1], \n",
        "\t\t\t           [0, 0]])\n",
        "\n",
        "matmul = np.matmul(arr, arr2)\n",
        "\n",
        "print(matmul)\n"
      ],
      "execution_count": 0,
      "outputs": []
    },
    {
      "cell_type": "code",
      "metadata": {
        "id": "sF1_VMvcbUqK",
        "colab_type": "code",
        "colab": {}
      },
      "source": [
        "# 원소별 곱셈\n",
        "arr = np.array([[1, 2], \n",
        "\t\t\t          [3, 4]])\n",
        "arr2 = np.array([[1, 1], \n",
        "\t\t\t           [0, 0]])\n",
        "\n",
        "dot_prod = np.multiply(arr, arr2)\n",
        "\n",
        "print(dot_prod)\n"
      ],
      "execution_count": 0,
      "outputs": []
    },
    {
      "cell_type": "code",
      "metadata": {
        "id": "wRsNXt3Ebb2G",
        "colab_type": "code",
        "colab": {}
      },
      "source": [
        "# 축 기준 합\n",
        "arr = np.array([[1, 2, 3], [1, 2, 3]])\n",
        "\n",
        "arr_sum_axis_0 = np.sum(arr, axis=0)\n",
        "arr_sum_axis_1 = np.sum(arr, axis=1)\n",
        "\n",
        "print('Original')\n",
        "print(arr)\n",
        "print('Sum axis-0')\n",
        "print(arr_sum_axis_0)\n",
        "print('Sum axis-1')\n",
        "print(arr_sum_axis_1)\n"
      ],
      "execution_count": 0,
      "outputs": []
    },
    {
      "cell_type": "code",
      "metadata": {
        "id": "AVr2cWLqbwwD",
        "colab_type": "code",
        "colab": {}
      },
      "source": [
        "# 축 기준 평균\n",
        "arr = np.array([[1, 2, 3], [1, 2, 3]])\n",
        "\n",
        "arr_mean_axis_0 = np.mean(arr, axis=0)\n",
        "arr_mean_axis_1 = np.mean(arr, axis=1)\n",
        "\n",
        "print('Original')\n",
        "print(arr)\n",
        "print('Mean axis-0')\n",
        "print(arr_mean_axis_0)\n",
        "print('Mean axis-1')\n",
        "print(arr_mean_axis_1)"
      ],
      "execution_count": 0,
      "outputs": []
    },
    {
      "cell_type": "markdown",
      "metadata": {
        "id": "tVDZet7eb_Fx",
        "colab_type": "text"
      },
      "source": [
        "## Exercise!!\n",
        "\n",
        "\n",
        "1. arr3 = arr와 arr2의 행렬곱\n",
        "2. arr3 전치\n",
        "3. arr3 0열 모든 요소에 -5\n",
        "4. arr3 1행 모든 요소에 +3\n",
        "5. arr3 모든 요소에 더하기 1 (1행렬 이용)\n",
        "6. arr3 axis-0 의 평균 출력\n",
        "7. arr3 axis-1 의 합 출력\n"
      ]
    },
    {
      "cell_type": "code",
      "metadata": {
        "id": "M4rqgTu-cDjV",
        "colab_type": "code",
        "colab": {}
      },
      "source": [
        "arr1 = np.array([[1,2,3],[4,5,6]])\n",
        "arr2 = np.array([[1,1],[2,2],[3,3]])\n",
        "\n",
        "arr3 = None\n",
        "\n",
        "#-------------------------------------------------------------\n",
        "# 여기에 코드를 작성해주세요\n",
        "\n",
        "\n",
        "\n",
        "\n",
        "#-------------------------------------------------------------"
      ],
      "execution_count": 0,
      "outputs": []
    },
    {
      "cell_type": "markdown",
      "metadata": {
        "id": "8ZhDc0H-dI3h",
        "colab_type": "text"
      },
      "source": [
        "# Linear Regression by NumPy"
      ]
    },
    {
      "cell_type": "code",
      "metadata": {
        "id": "UMNTW30HdSce",
        "colab_type": "code",
        "colab": {}
      },
      "source": [
        "# 필요 Package Import\n",
        "import os\n",
        "import csv\n",
        "import numpy as np\n",
        "import matplotlib.pyplot as plt\n",
        "\n",
        "np.random.seed(123)"
      ],
      "execution_count": 0,
      "outputs": []
    },
    {
      "cell_type": "markdown",
      "metadata": {
        "id": "HKINVvyLfvfb",
        "colab_type": "text"
      },
      "source": [
        "## 데이터 준비"
      ]
    },
    {
      "cell_type": "code",
      "metadata": {
        "id": "jhjo-plQf5KU",
        "colab_type": "code",
        "colab": {}
      },
      "source": [
        "from sklearn.datasets import make_regression\n",
        "\n",
        "X, y, coef = make_regression(n_samples=100, n_features=1,\n",
        "                              bias=100, noise=10, coef=True, random_state=1)\n",
        "\n",
        "print(X)\n",
        "print(y)"
      ],
      "execution_count": 0,
      "outputs": []
    },
    {
      "cell_type": "code",
      "metadata": {
        "id": "C9EI_sXspJeg",
        "colab_type": "code",
        "colab": {}
      },
      "source": [
        "#데이터 시각화\n",
        "plt.scatter(X, y, label=\"data\")\n",
        "plt.xlabel(\"x\")\n",
        "plt.ylabel(\"y\")\n",
        "plt.legend()\n",
        "plt.show()"
      ],
      "execution_count": 0,
      "outputs": []
    },
    {
      "cell_type": "code",
      "metadata": {
        "id": "6br9YDAihs57",
        "colab_type": "code",
        "colab": {}
      },
      "source": [
        "# bias를 한번에 계산하기 위해, 1을 X에 추가해 줍니다.\n",
        "new_X = np.insert(X, 0, 1, axis=1)\n",
        "\n",
        "print(new_X)\n",
        "\n",
        "train_x = new_X[:80]\n",
        "train_y = y[:80]\n",
        "test_x = new_X[80:]\n",
        "test_y = y[80:]"
      ],
      "execution_count": 0,
      "outputs": []
    },
    {
      "cell_type": "markdown",
      "metadata": {
        "id": "ZGboIEPcgkNH",
        "colab_type": "text"
      },
      "source": [
        "## 모델 생성\n",
        "\n",
        "hypothesis = XW + b\n",
        "\n",
        "error = Predict value - Real value\n",
        "\n",
        "loss = MSE(Mean Squared Error) = (1/2n) * error^2\n",
        "\n",
        "gradient = (1/n) * error * X"
      ]
    },
    {
      "cell_type": "code",
      "metadata": {
        "id": "tdqfSkC6gr-w",
        "colab_type": "code",
        "colab": {}
      },
      "source": [
        "#코드를 작성해주세요!\n",
        "class LinearRegression:\n",
        "  def __init__(self, num_features):\n",
        "    self.W = np.random.rand(num_features, 1) * 0.01\n",
        "    \n",
        "  \n",
        "  def train(self, train_x, train_y, num_epochs, learning_rate):\n",
        "    num_data, num_features = train_x.shape\n",
        "\n",
        "    loss_memory = []\n",
        "    train_y = np.expand_dims(train_y, 1)\n",
        "    \n",
        "    for i in range(num_epochs):\n",
        "      # =====아래에 코드를 작성해주세요  ======\n",
        "      \n",
        "\t\t  # 1-1. hypothesis 계산\n",
        "      hypothesis = None # (train_x와 self.W 이용) \n",
        "      \n",
        "      \n",
        "      # 1-2. Error 및 Loss 계산\n",
        "      error = None\n",
        "      loss = None\n",
        "      \n",
        "      # 1-3. Loss ‘loss_memory’에 추가\n",
        "      loss_memory.append(loss)\n",
        "      \n",
        "      # 1-4. Gradient 계산\n",
        "      gradient = None  # (self.W와 같은 모양의 Gradient 행렬)\n",
        "      \n",
        "      # 1-5. Weight Update\n",
        "      # gradient, learning_rate 활용하여 self.W 업데이트 \n",
        "      \n",
        "    \n",
        "      # ==================================\n",
        "\n",
        "    # 2. ‘loss_memory’ 반환\n",
        "    return loss_memory\n",
        "  \n",
        "  def predict(self, test_x):\n",
        "    pred = None\n",
        "    # =====아래에 코드를 작성해주세요  ======  \n",
        "    # 1. 예측값 계산 (pred)\n",
        "\n",
        "    \n",
        "    # ==================================\n",
        "    \n",
        "    # 2. 예측값 반환\n",
        "    return pred\n",
        "\n",
        "#-----------------------------------------------------------------------------\n",
        "# For debug\n",
        "# LinearRegression(2)"
      ],
      "execution_count": 0,
      "outputs": []
    },
    {
      "cell_type": "markdown",
      "metadata": {
        "id": "DgphIJWBkMH-",
        "colab_type": "text"
      },
      "source": [
        "### 정답 코드입니다."
      ]
    },
    {
      "cell_type": "code",
      "metadata": {
        "id": "3GV0vfeFj7yM",
        "colab_type": "code",
        "colab": {}
      },
      "source": [
        "#정답 코드입니다.\n",
        "class LinearRegression:\n",
        "  def __init__(self, num_features):\n",
        "    self.W = np.random.rand(num_features, 1) * 0.01\n",
        "  \n",
        "  def train(self, train_x, train_y, num_epochs, learning_rate):\n",
        "    num_data, num_features = train_x.shape\n",
        "\n",
        "    loss_memory = []\n",
        "    train_y = np.expand_dims(train_y, 1)\n",
        "    \n",
        "    for i in range(num_epochs):\n",
        "      # hypothesis\n",
        "      hypothesis = np.matmul(train_x, self.W)\n",
        "\n",
        "      # error or loss\n",
        "      error = hypothesis - train_y\n",
        "      loss = np.mean(error * error) / 2\n",
        "      loss_memory.append(loss)\n",
        "\n",
        "      # gradient\n",
        "      # 방법 1\n",
        "      gradient = np.mean(train_x * error, axis=0, keepdims=True).T\n",
        "\n",
        "      # 방법 2\n",
        "      gradient = np.zeros_like(self.W)\n",
        "      for j in range(num_features):\n",
        "          gradient[j] += np.dot(train_x[:, j], error)\n",
        "      gradient /= train_x.shape[0]\n",
        "\n",
        "      # update\n",
        "      self.W -= learning_rate * gradient\n",
        "      \n",
        "\n",
        "    # 2. ‘loss_memory’ 반환\n",
        "    return loss_memory\n",
        "  \n",
        "  def predict(self, test_x):\n",
        "    pred = np.matmul(test_x, self.W).squeeze()\n",
        "\n",
        "    return pred\n"
      ],
      "execution_count": 0,
      "outputs": []
    },
    {
      "cell_type": "markdown",
      "metadata": {
        "id": "vtFDxDiOWSqf",
        "colab_type": "text"
      },
      "source": [
        "## 모델 학습 및 평가"
      ]
    },
    {
      "cell_type": "code",
      "metadata": {
        "id": "gbMViY2nWViU",
        "colab_type": "code",
        "colab": {}
      },
      "source": [
        "# Hyper-parameter\n",
        "num_epochs = 100\n",
        "learning_rate = 1e-1\n",
        "\n",
        "num_data, num_features = train_x.shape\n",
        "\n",
        "print(num_data, num_features)\n",
        "\n",
        "model = LinearRegression(num_features)\n",
        "\n",
        "loss_memory = model.train(train_x, train_y, num_epochs, learning_rate)\n",
        "\n",
        "print(loss_memory)"
      ],
      "execution_count": 0,
      "outputs": []
    },
    {
      "cell_type": "code",
      "metadata": {
        "id": "sKYR-yTOX-L5",
        "colab_type": "code",
        "colab": {}
      },
      "source": [
        "# Plot Loss\n",
        "x_axis = list(range(num_epochs))\n",
        "\n",
        "plt.plot(x_axis, loss_memory)\n",
        "plt.title('Loss')\n",
        "plt.xlabel('Epochs')\n",
        "plt.ylabel('MSE Loss')\n",
        "\n",
        "plt.show()"
      ],
      "execution_count": 0,
      "outputs": []
    },
    {
      "cell_type": "code",
      "metadata": {
        "id": "lIcOdjvLgDau",
        "colab_type": "code",
        "colab": {}
      },
      "source": [
        "# Visualization of train data\n",
        "plt.scatter(train_x[:,1], train_y, label=\"train data\")\n",
        "plt.plot(train_x[:,1], model.predict(train_x), 'r-', label=\"model\")\n",
        "plt.xlabel(\"x\")\n",
        "plt.ylabel(\"y\")\n",
        "plt.legend()\n",
        "plt.show()"
      ],
      "execution_count": 0,
      "outputs": []
    },
    {
      "cell_type": "code",
      "metadata": {
        "id": "XLVoIOXbYLrJ",
        "colab_type": "code",
        "colab": {}
      },
      "source": [
        "# Evaluation\n",
        "\n",
        "def RMSE(pred, true):\n",
        "  e = pred - true\n",
        "  mse = np.mean(e * e)\n",
        "  rmse = np.sqrt(mse)\n",
        "  \n",
        "  return rmse\n",
        "\n",
        "pred = model.predict(test_x)\n",
        "rmse_score = RMSE(pred, test_y)\n",
        "\n",
        "print('RMSE Score : ', rmse_score)\n"
      ],
      "execution_count": 0,
      "outputs": []
    },
    {
      "cell_type": "code",
      "metadata": {
        "id": "Gc7Xr7y3el3h",
        "colab_type": "code",
        "colab": {}
      },
      "source": [
        "# Visualization\n",
        "plt.scatter(test_x[:,1], test_y, label=\"test data\")\n",
        "plt.plot(test_x[:,1], pred, 'r-', label=\"model\")\n",
        "plt.xlabel(\"x\")\n",
        "plt.ylabel(\"y\")\n",
        "plt.legend()\n",
        "plt.show()"
      ],
      "execution_count": 0,
      "outputs": []
    },
    {
      "cell_type": "markdown",
      "metadata": {
        "id": "mbTJsURVIVdC",
        "colab_type": "text"
      },
      "source": [
        "# TensorFlow Tutorial"
      ]
    },
    {
      "cell_type": "code",
      "metadata": {
        "id": "O4emlnRwIVdC",
        "colab_type": "code",
        "colab": {}
      },
      "source": [
        "import tensorflow as tf"
      ],
      "execution_count": 0,
      "outputs": []
    },
    {
      "cell_type": "markdown",
      "metadata": {
        "id": "CiyDC9FzIVdE",
        "colab_type": "text"
      },
      "source": [
        "## Data Flow Graphs"
      ]
    },
    {
      "cell_type": "code",
      "metadata": {
        "id": "IPwYUSU6IVdE",
        "colab_type": "code",
        "colab": {}
      },
      "source": [
        "a = tf.add(3, 5)\n",
        "print(a)"
      ],
      "execution_count": 0,
      "outputs": []
    },
    {
      "cell_type": "code",
      "metadata": {
        "id": "xuABpvNnIVdG",
        "colab_type": "code",
        "colab": {}
      },
      "source": [
        "sess = tf.Session()\n",
        "print(sess.run(a))    # 8\n",
        "sess.close()  # 더 이상 필요하지 않은 자원을 할당 해제"
      ],
      "execution_count": 0,
      "outputs": []
    },
    {
      "cell_type": "code",
      "metadata": {
        "id": "wjLWDEnRIVdH",
        "colab_type": "code",
        "colab": {}
      },
      "source": [
        "with tf.Session() as sess:\n",
        "    print(sess.run(a))    # 8"
      ],
      "execution_count": 0,
      "outputs": []
    },
    {
      "cell_type": "markdown",
      "metadata": {
        "id": "t0WmGfvRIVdI",
        "colab_type": "text"
      },
      "source": [
        "## Constants & Operations"
      ]
    },
    {
      "cell_type": "code",
      "metadata": {
        "scrolled": false,
        "id": "b6Z8IfmVIVdJ",
        "colab_type": "code",
        "colab": {}
      },
      "source": [
        "a = tf.constant([2, 2])\n",
        "b = tf.constant([[0, 1], [2, 3]])\n",
        "x = tf.add(a, b)\n",
        "y = tf.multiply(a, b)\n",
        "with tf.Session() as sess:\n",
        "    x, y = sess.run([x, y])\n",
        "    print(x)\n",
        "    print(y)"
      ],
      "execution_count": 0,
      "outputs": []
    },
    {
      "cell_type": "markdown",
      "metadata": {
        "id": "7ASp1X1bIVdK",
        "colab_type": "text"
      },
      "source": [
        "### 실습\n",
        "\n",
        "### 텐서플로우의 상수와 오퍼레이션을 이용하여 우변의 값을 얻어보자\n",
        "![tf_eq](https://github.com/jin530/190428_unsupervised_tensorflow/blob/master/image/tf_equation.png?raw=1)"
      ]
    },
    {
      "cell_type": "code",
      "metadata": {
        "id": "p7flt1lAIVdL",
        "colab_type": "code",
        "colab": {}
      },
      "source": [
        "val1 = np.zeros(3)\n",
        "val2 = np.zeros(1)\n",
        "val3 = np.zeros((2,2))\n",
        "#-----------------------------------------------------\n",
        "# 이 곳에 코드를 작성하세요.\n",
        "\n",
        "\n",
        "#-----------------------------------------------------\n",
        "print(val1)\n",
        "print(val2)\n",
        "print(val3)"
      ],
      "execution_count": 0,
      "outputs": []
    },
    {
      "cell_type": "markdown",
      "metadata": {
        "id": "XxUu1iLUGYPC",
        "colab_type": "text"
      },
      "source": [
        "### 정답 코드"
      ]
    },
    {
      "cell_type": "code",
      "metadata": {
        "colab_type": "code",
        "id": "tnKpTSRSGf3n",
        "colab": {}
      },
      "source": [
        "a = tf.constant([1, 2, 3])\n",
        "b = tf.constant([4, 5, 6])\n",
        "c = tf.constant([3, 3])\n",
        "c = tf.expand_dims(c,0) # tf.constant([[3,3]])\n",
        "\n",
        "op1 = a * b # tf.multiply(a,b)와 동일합니다.\n",
        "\n",
        "op2 = tf.matmul(c, tf.transpose(c))\n",
        "\n",
        "op3 = tf.matmul(tf.transpose(c), c)\n",
        "\n",
        "with tf.Session() as sess:\n",
        "    val1, val2, val3 = sess.run([op1,op2, op3])\n",
        "\n",
        "print(val1)\n",
        "print(val2)\n",
        "print(val3)"
      ],
      "execution_count": 0,
      "outputs": []
    },
    {
      "cell_type": "markdown",
      "metadata": {
        "id": "NQBll0-xIVdQ",
        "colab_type": "text"
      },
      "source": [
        "## Variables"
      ]
    },
    {
      "cell_type": "code",
      "metadata": {
        "id": "ptfwzxtLJH6x",
        "colab_type": "code",
        "colab": {}
      },
      "source": [
        "W = tf.Variable(10)\n",
        "init = tf.global_variables_initializer()\n",
        "with tf.Session() as sess:\n",
        "  sess.run(init)\n",
        "  print(W.eval())\n",
        "  print(sess.run(W))"
      ],
      "execution_count": 0,
      "outputs": []
    },
    {
      "cell_type": "markdown",
      "metadata": {
        "id": "tt2v4YxDIVdS",
        "colab_type": "text"
      },
      "source": [
        "### 실습\n",
        "\n",
        "### 텐서플로우의 변수와 오퍼레이션을 이용하여 우변의 값을 얻어보자\n",
        "![tf_eq](https://github.com/jin530/190428_unsupervised_tensorflow/blob/master/image/tf_equation.png?raw=1)"
      ]
    },
    {
      "cell_type": "code",
      "metadata": {
        "id": "YQcrmyEhIVdS",
        "colab_type": "code",
        "colab": {}
      },
      "source": [
        "val1 = np.zeros(3)\n",
        "val2 = np.zeros(1)\n",
        "val3 = np.zeros((2,2))\n",
        "#-----------------------------------------------------\n",
        "# 이 곳에 코드를 작성하세요.\n",
        "\n",
        "\n",
        "#-----------------------------------------------------\n",
        "print(val1)\n",
        "print(val2)\n",
        "print(val3)"
      ],
      "execution_count": 0,
      "outputs": []
    },
    {
      "cell_type": "markdown",
      "metadata": {
        "colab_type": "text",
        "id": "k_HhGvvpIo5t"
      },
      "source": [
        "### 정답 코드"
      ]
    },
    {
      "cell_type": "code",
      "metadata": {
        "colab_type": "code",
        "id": "OPwDiXQlIo5y",
        "colab": {}
      },
      "source": [
        "a = tf.Variable([1, 2, 3])\n",
        "b = tf.Variable([4, 5, 6])\n",
        "c = tf.Variable([3, 3])\n",
        "c = tf.expand_dims(c,0) # tf.constant([[3,3]])\n",
        "\n",
        "op1 = a * b # tf.multiply(a,b)와 동일합니다.\n",
        "\n",
        "op2 = tf.matmul(c, tf.transpose(c))\n",
        "\n",
        "op3 = tf.matmul(tf.transpose(c), c)\n",
        "\n",
        "init = tf.global_variables_initializer()\n",
        "\n",
        "with tf.Session() as sess:\n",
        "  sess.run(init)\n",
        "  val1, val2, val3 = sess.run([op1,op2, op3])\n",
        "\n",
        "print(val1)\n",
        "print(val2)\n",
        "print(val3)"
      ],
      "execution_count": 0,
      "outputs": []
    },
    {
      "cell_type": "markdown",
      "metadata": {
        "id": "M8SW-KCYIVdU",
        "colab_type": "text"
      },
      "source": [
        "## Placeholder"
      ]
    },
    {
      "cell_type": "code",
      "metadata": {
        "id": "_mUHDvo-IVdV",
        "colab_type": "code",
        "colab": {}
      },
      "source": [
        "a = tf.placeholder(tf.float32, shape=[3])\n",
        "b = tf.constant([5, 5, 5], tf.float32)\n",
        "c = a + b # tf.add(a, b) 와 같다.\n",
        "with tf.Session() as sess:\n",
        "    print(sess.run(c, feed_dict={a: [1, 2, 3]}))"
      ],
      "execution_count": 0,
      "outputs": []
    },
    {
      "cell_type": "markdown",
      "metadata": {
        "id": "XlR6KKeqIVdX",
        "colab_type": "text"
      },
      "source": [
        "### 실습\n",
        "\n",
        "### 텐서플로의 플레이스홀더와 오퍼레이션을 이용하여 우변의 값을 얻어보자\n",
        "![tf_eq](https://github.com/jin530/190428_unsupervised_tensorflow/blob/master/image/tf_equation.png?raw=1)"
      ]
    },
    {
      "cell_type": "code",
      "metadata": {
        "id": "EbPP4B-bIVda",
        "colab_type": "code",
        "colab": {}
      },
      "source": [
        "val1 = np.zeros(3)\n",
        "val2 = np.zeros(1)\n",
        "val3 = np.zeros((2,2))\n",
        "#-----------------------------------------------------\n",
        "# 이 곳에 코드를 작성하세요.\n",
        "\n",
        "\n",
        "\n",
        "\n",
        "\n",
        "\n",
        "#-----------------------------------------------------\n",
        "print(val1)\n",
        "print(val2)\n",
        "print(val3)"
      ],
      "execution_count": 0,
      "outputs": []
    },
    {
      "cell_type": "markdown",
      "metadata": {
        "colab_type": "text",
        "id": "l2PlW4-iKUQt"
      },
      "source": [
        "### 정답 코드"
      ]
    },
    {
      "cell_type": "code",
      "metadata": {
        "colab_type": "code",
        "id": "NPxXeYgzKUQv",
        "colab": {}
      },
      "source": [
        "a = [1,2,3]\n",
        "b = [4,5,6]\n",
        "c = [[3,3]]\n",
        "\n",
        "p_a = tf.placeholder(tf.int32)\n",
        "p_b = tf.placeholder(tf.int32)\n",
        "p_c = tf.placeholder(tf.int32)\n",
        "\n",
        "op1 = p_a * p_b # tf.multiply(a,b)와 동일합니다.\n",
        "\n",
        "op2 = tf.matmul(p_c, tf.transpose(p_c))\n",
        "\n",
        "op3 = tf.matmul(tf.transpose(p_c), p_c)\n",
        "\n",
        "init = tf.global_variables_initializer()\n",
        "\n",
        "with tf.Session() as sess:\n",
        "  sess.run(init)\n",
        "  val1, val2, val3 = sess.run([op1,op2, op3], feed_dict={p_a:a, p_b:b, p_c:c})\n",
        "\n",
        "print(val1)\n",
        "print(val2)\n",
        "print(val3)"
      ],
      "execution_count": 0,
      "outputs": []
    },
    {
      "cell_type": "markdown",
      "metadata": {
        "colab_type": "text",
        "id": "MDEx4rC2rJgr"
      },
      "source": [
        "# Linear Regression by TensorFlow"
      ]
    },
    {
      "cell_type": "code",
      "metadata": {
        "colab_type": "code",
        "id": "Lh3bS8GGrJgt",
        "colab": {}
      },
      "source": [
        "# 필요 Package Import\n",
        "import os\n",
        "import csv\n",
        "import numpy as np\n",
        "import matplotlib.pyplot as plt\n",
        "\n",
        "import tensorflow as tf\n",
        "\n",
        "np.random.seed(123)"
      ],
      "execution_count": 0,
      "outputs": []
    },
    {
      "cell_type": "markdown",
      "metadata": {
        "colab_type": "text",
        "id": "2Sr5IkelrJgv"
      },
      "source": [
        "## 데이터 준비"
      ]
    },
    {
      "cell_type": "code",
      "metadata": {
        "colab_type": "code",
        "id": "6az_zubvrJgv",
        "colab": {}
      },
      "source": [
        "from sklearn.datasets import make_regression\n",
        "\n",
        "X, y, coef = make_regression(n_samples=100, n_features=1,\n",
        "                              bias=100, noise=10, coef=True, random_state=1)\n",
        "\n",
        "y = np.expand_dims(y,1) # data를 row단위로 넣어주기 위해, y의 모양을 조정합니다.\n",
        "\n",
        "print(X)\n",
        "print(y)"
      ],
      "execution_count": 0,
      "outputs": []
    },
    {
      "cell_type": "code",
      "metadata": {
        "colab_type": "code",
        "id": "VIafjKcWrJgz",
        "colab": {}
      },
      "source": [
        "#데이터 시각화\n",
        "plt.scatter(X, y, label=\"data\")\n",
        "plt.xlabel(\"x\")\n",
        "plt.ylabel(\"y\")\n",
        "plt.legend()\n",
        "plt.show()"
      ],
      "execution_count": 0,
      "outputs": []
    },
    {
      "cell_type": "code",
      "metadata": {
        "colab_type": "code",
        "id": "1DYGFLnVrJg3",
        "colab": {}
      },
      "source": [
        "# 코드의 가독성을 위해서, 일반적으로는 Weight와 Bias를 분리합니다.\n",
        "# 따라서, NumPy에서의 예제와는 다르게 X에 1을 추가하지 않습니다.\n",
        "\n",
        "train_x = X[:80]\n",
        "train_y = y[:80]\n",
        "test_x = X[80:]\n",
        "test_y = y[80:]"
      ],
      "execution_count": 0,
      "outputs": []
    },
    {
      "cell_type": "markdown",
      "metadata": {
        "colab_type": "text",
        "id": "JliK8k76rJg5"
      },
      "source": [
        "## 모델 생성"
      ]
    },
    {
      "cell_type": "code",
      "metadata": {
        "colab_type": "code",
        "id": "oitrl6zDrJg5",
        "colab": {}
      },
      "source": [
        "class LinearRegression_tf:\n",
        "  def __init__(self, num_features):\n",
        "    self.W = tf.Variable(tf.random_normal([num_features]), dtype=tf.float32)\n",
        "    self.b = tf.Variable(tf.zeros([1]), dtype=tf.float32) # 보통의 경우, bias는 0으로 초기화합니다.\n",
        "    \n",
        "    self.X = tf.placeholder(tf.float32)\n",
        "    self.y = tf.placeholder(tf.float32)\n",
        "    \n",
        "  def train(self, train_x, train_y, num_epochs, learning_rate):\n",
        "    self.hypothesis = self.W * self.X + self.b\n",
        "  \n",
        "    cost = tf.reduce_mean(tf.square(self.hypothesis - self.y))\n",
        "    \n",
        "    optimizer = tf.train.GradientDescentOptimizer(learning_rate)\n",
        "    train = optimizer.minimize(cost)\n",
        "\n",
        "    init = tf.global_variables_initializer()\n",
        "    \n",
        "    self.sess = tf.Session()\n",
        "    self.sess.run(init)\n",
        "    \n",
        "    Loss_memory = []\n",
        "    for step in range(num_epochs):\n",
        "      _, L = self.sess.run([train, cost], feed_dict={self.X:train_x, self.y:train_y})\n",
        "      Loss_memory.append(L)\n",
        "      \n",
        "      if step % 20 == 0:\n",
        "          print(\"Step:\",step, \"Loss:\",L)\n",
        "          \n",
        "    return Loss_memory\n",
        "        \n",
        "  \n",
        "  def predict(self, test_x):\n",
        "    pred = self.sess.run(self.hypothesis, feed_dict={self.X:test_x})\n",
        "    \n",
        "    # 2. 예측값 반환\n",
        "    return pred"
      ],
      "execution_count": 0,
      "outputs": []
    },
    {
      "cell_type": "markdown",
      "metadata": {
        "colab_type": "text",
        "id": "UAjFnkrzrJhA"
      },
      "source": [
        "## 모델 학습 및 평가"
      ]
    },
    {
      "cell_type": "code",
      "metadata": {
        "colab_type": "code",
        "id": "83TabftxrJhB",
        "colab": {}
      },
      "source": [
        "# Hyper-parameter\n",
        "num_epochs = 100\n",
        "learning_rate = 0.1\n",
        "\n",
        "num_data, num_features = train_x.shape\n",
        "\n",
        "print(num_data, num_features)\n",
        "\n",
        "model = LinearRegression_tf(num_features)\n",
        "\n",
        "loss_memory = model.train(train_x, train_y, num_epochs, learning_rate)"
      ],
      "execution_count": 0,
      "outputs": []
    },
    {
      "cell_type": "code",
      "metadata": {
        "colab_type": "code",
        "id": "xZTrZWearJhE",
        "colab": {}
      },
      "source": [
        "# Plot Loss\n",
        "x_axis = list(range(num_epochs))\n",
        "\n",
        "plt.plot(x_axis, loss_memory)\n",
        "plt.title('Loss')\n",
        "plt.xlabel('Epochs')\n",
        "plt.ylabel('MSE Loss')\n",
        "\n",
        "plt.show()"
      ],
      "execution_count": 0,
      "outputs": []
    },
    {
      "cell_type": "code",
      "metadata": {
        "colab_type": "code",
        "id": "0f8422aXrJhH",
        "colab": {}
      },
      "source": [
        "# Visualization of train data\n",
        "plt.scatter(train_x, train_y, label=\"train_data\")\n",
        "plt.plot(train_x, model.predict(train_x), 'r-', label=\"model\")\n",
        "plt.xlabel(\"x\")\n",
        "plt.ylabel(\"y\")\n",
        "plt.legend()\n",
        "plt.show()"
      ],
      "execution_count": 0,
      "outputs": []
    },
    {
      "cell_type": "code",
      "metadata": {
        "colab_type": "code",
        "id": "5Sl2-RLprJhK",
        "colab": {}
      },
      "source": [
        "# Evaluation\n",
        "def RMSE(pred, true):\n",
        "  e = pred - true\n",
        "  mse = np.mean(e * e)\n",
        "  rmse = np.sqrt(mse)\n",
        "  \n",
        "  return rmse\n",
        "\n",
        "pred = model.predict(test_x)\n",
        "rmse_score = RMSE(pred, test_y)\n",
        "\n",
        "print('RMSE Score : ', rmse_score)\n"
      ],
      "execution_count": 0,
      "outputs": []
    },
    {
      "cell_type": "code",
      "metadata": {
        "colab_type": "code",
        "id": "UrpjTAvYrJhN",
        "colab": {}
      },
      "source": [
        "# Visualization of test data\n",
        "plt.scatter(test_x, test_y, label=\"test_data\")\n",
        "plt.plot(test_x, pred, 'r-', label=\"model\")\n",
        "plt.xlabel(\"x\")\n",
        "plt.ylabel(\"y\")\n",
        "plt.legend()\n",
        "plt.show()"
      ],
      "execution_count": 0,
      "outputs": []
    },
    {
      "cell_type": "markdown",
      "metadata": {
        "id": "-Le9EEsVQ282",
        "colab_type": "text"
      },
      "source": [
        "# 추가 실습 1. 혈압 데이터\n",
        "\n",
        "\n",
        "데이터 파일을 왼쪽 '파일'란에 끌어서 업로드 해주세요.\n",
        "\n",
        "밑의 화면처럼 표시되면 됩니다.\n",
        "\n",
        "![파일 란_캡처](https://github.com/jin530/190428_unsupervised_tensorflow/blob/master/image/file_example.PNG?raw=true)"
      ]
    },
    {
      "cell_type": "code",
      "metadata": {
        "id": "a7hntXQpQ2ZQ",
        "colab_type": "code",
        "colab": {}
      },
      "source": [
        "#Train data\n",
        "file = '/content/blood_train.csv'\n",
        "with open(file, 'r') as f:\n",
        "    csv_reader = csv.reader(f)\n",
        "    header = next(csv_reader)\n",
        "\n",
        "    x_data = []\n",
        "    y_data = []\n",
        "    for i, line in enumerate(csv_reader):\n",
        "        x = float(line[0])\n",
        "        y = float(line[-1])\n",
        "\n",
        "        x_data.append(x)\n",
        "        y_data.append(y)\n",
        "\n",
        "    train_x = np.array(x_data)\n",
        "    train_y = np.array(y_data)\n",
        " \n",
        "   \n",
        "print(train_x)\n",
        "print(train_y)"
      ],
      "execution_count": 0,
      "outputs": []
    },
    {
      "cell_type": "code",
      "metadata": {
        "id": "fxvPFOXyUG4z",
        "colab_type": "code",
        "colab": {}
      },
      "source": [
        "#Test data\n",
        "file = '/content/blood_test.csv'\n",
        "with open(file, 'r') as f:\n",
        "    csv_reader = csv.reader(f)\n",
        "    header = next(csv_reader)\n",
        "\n",
        "    x_data = []\n",
        "    y_data = []\n",
        "    for i, line in enumerate(csv_reader):\n",
        "        x = float(line[0])\n",
        "        y = float(line[-1])\n",
        "\n",
        "        x_data.append(x)\n",
        "        y_data.append(y)\n",
        "\n",
        "    test_x = np.array(x_data)\n",
        "    test_y = np.array(y_data)\n",
        " \n",
        "   \n",
        "print(test_x)\n",
        "print(test_y)"
      ],
      "execution_count": 0,
      "outputs": []
    },
    {
      "cell_type": "markdown",
      "metadata": {
        "colab_type": "text",
        "id": "CwS5dapbUbQc"
      },
      "source": [
        "# 추가 실습 2. 행복지수 데이터\n",
        "\n",
        "위의 혈압 데이터를 참고하여, 데이터를 가공하고 선형회귀를 시행해 보세요.\n",
        "\n",
        "여러개의 featrue 중 2개 정도를 골라 사용하는 것을 추천 드립니다."
      ]
    }
  ]
}