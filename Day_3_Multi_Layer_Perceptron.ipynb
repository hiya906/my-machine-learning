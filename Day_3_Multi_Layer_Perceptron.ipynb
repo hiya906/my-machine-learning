{
  "nbformat": 4,
  "nbformat_minor": 0,
  "metadata": {
    "colab": {
      "name": "Day 3. Multi Layer Perceptron",
      "version": "0.3.2",
      "provenance": [],
      "collapsed_sections": [
        "1VYgEnGydVMz",
        "jB-xeLYze94b"
      ],
      "include_colab_link": true
    },
    "kernelspec": {
      "name": "python3",
      "display_name": "Python 3"
    }
  },
  "cells": [
    {
      "cell_type": "markdown",
      "metadata": {
        "id": "view-in-github",
        "colab_type": "text"
      },
      "source": [
        "<a href=\"https://colab.research.google.com/github/hiya906/my-machine-learning/blob/master/Day_3_Multi_Layer_Perceptron.ipynb\" target=\"_parent\"><img src=\"https://colab.research.google.com/assets/colab-badge.svg\" alt=\"Open In Colab\"/></a>"
      ]
    },
    {
      "cell_type": "markdown",
      "metadata": {
        "id": "byJzQYggCxfU",
        "colab_type": "text"
      },
      "source": [
        "#사용법\n",
        "\n",
        "1. 우측 상단 '로그인'\n",
        "\n",
        "2. 좌측 상단 '실습 모드에서 열기'\n",
        "\n",
        "※ 각각의 셀은 셀 좌측 상단 실행 버튼을 통해 실행할 수 있습니다.\n",
        "\n",
        "※ 실행 중 '경고: 이 노트는 Google에서 작성하지 않았습니다.'라는 창이 뜰 경우, '실행 전에 모든 런타임 재설정'란에 체크 후 '무시하고 계속하기'를 하시면 됩니다."
      ]
    },
    {
      "cell_type": "markdown",
      "metadata": {
        "id": "nDibQ6yNcjGw",
        "colab_type": "text"
      },
      "source": [
        "# 1. MLP 실습 - XOR 연산"
      ]
    },
    {
      "cell_type": "code",
      "metadata": {
        "id": "lhhidmAgc-Z0",
        "colab_type": "code",
        "colab": {
          "base_uri": "https://localhost:8080/",
          "height": 611
        },
        "outputId": "121e93e9-ded1-498c-aa01-d9872d7130c0"
      },
      "source": [
        "import numpy as np\n",
        "import tensorflow as tf # 입력과 정답 구성\n",
        "\n",
        "\n",
        "X = tf.placeholder(tf.float32, [None, 2], name=\"X\") # 입력\n",
        "Y = tf.placeholder(tf.float32, [None, 1], name=\"Y\") # 정답\n",
        "\n",
        "# 파라미터 세팅\n",
        "# W1, W2 랜덤 초기화\n",
        "# b1, b2 0으로 초기화\n",
        "W1 = tf.Variable(name=\"E1_W1\", initial_value=tf.random_normal([2, 2]))\n",
        "b1 = tf.Variable(name=\"E1_b1\", initial_value=tf.zeros([2]))\n",
        "\n",
        "W2 = tf.Variable(name=\"E1_W2\", initial_value=tf.random_normal([2, 1]))\n",
        "b2 = tf.Variable(name=\"E1_b2\", initial_value=tf.zeros([1]))\n",
        "\n",
        "# 모델 만들기\n",
        "Z1 = tf.matmul(X, W1) + b1\n",
        "H = tf.sigmoid(Z1)\n",
        "\n",
        "Z2 = tf.matmul(H, W2) + b2\n",
        "Y_ = tf.sigmoid(Z2)\n",
        "\n",
        "# loss 설정\n",
        "Ln = 0.5 * tf.reduce_sum(tf.square(Y - Y_), axis=1)\n",
        "L = tf.reduce_sum(Ln)\n",
        "\n",
        "# 모델 학습 설정\n",
        "learn_rate = 0.4\n",
        "optimize = tf.train.GradientDescentOptimizer(learn_rate).minimize(L)\n",
        "\n",
        "# 세션 생성\n",
        "sess = tf.Session()\n",
        "sess.run(tf.global_variables_initializer())\n",
        "\n",
        "\n",
        "\n",
        "# 데이터 생성\n",
        "X_data = np.array([[0, 0], [0, 1], [1, 0], [1, 1]])\n",
        "Y_data = np.array([[0], [1], [1], [0]])\n",
        "\n",
        "# 학습\n",
        "for i in range(5000):\n",
        "    _, loss = sess.run([optimize, L],\n",
        "                       feed_dict={X: X_data, Y: Y_data})\n",
        "    if i % 200 == 0:\n",
        "        print(i, \"loss=\", loss)\n",
        "\n",
        "# 결과\n",
        "output = sess.run(Y_, feed_dict={X: X_data})\n",
        "print(\"input:\", X_data)\n",
        "print(\"output:\", output)"
      ],
      "execution_count": 10,
      "outputs": [
        {
          "output_type": "stream",
          "text": [
            "0 loss= 0.6708171\n",
            "200 loss= 0.472042\n",
            "400 loss= 0.26691508\n",
            "600 loss= 0.069855444\n",
            "800 loss= 0.030151587\n",
            "1000 loss= 0.017963326\n",
            "1200 loss= 0.012479959\n",
            "1400 loss= 0.009449029\n",
            "1600 loss= 0.007552428\n",
            "1800 loss= 0.0062640468\n",
            "2000 loss= 0.00533644\n",
            "2200 loss= 0.0046390886\n",
            "2400 loss= 0.0040970445\n",
            "2600 loss= 0.003664426\n",
            "2800 loss= 0.003311612\n",
            "3000 loss= 0.0030187347\n",
            "3200 loss= 0.002771925\n",
            "3400 loss= 0.0025612605\n",
            "3600 loss= 0.0023794458\n",
            "3800 loss= 0.0022210183\n",
            "4000 loss= 0.0020817965\n",
            "4200 loss= 0.001958534\n",
            "4400 loss= 0.0018486688\n",
            "4600 loss= 0.0017501549\n",
            "4800 loss= 0.0016613472\n",
            "input: [[0 0]\n",
            " [0 1]\n",
            " [1 0]\n",
            " [1 1]]\n",
            "output: [[0.02834004]\n",
            " [0.96782994]\n",
            " [0.97359574]\n",
            " [0.02503058]]\n"
          ],
          "name": "stdout"
        }
      ]
    },
    {
      "cell_type": "markdown",
      "metadata": {
        "id": "d6tRvl3tdNQD",
        "colab_type": "text"
      },
      "source": [
        "# 2. MLP 실습 - MLP vs Linear Regression"
      ]
    },
    {
      "cell_type": "markdown",
      "metadata": {
        "id": "0R4UaLdDdvwj",
        "colab_type": "text"
      },
      "source": [
        "## class MLP - 코드 작성"
      ]
    },
    {
      "cell_type": "code",
      "metadata": {
        "id": "t-6L14AXduwz",
        "colab_type": "code",
        "colab": {}
      },
      "source": [
        "import tensorflow as tf\n",
        "import numpy as np\n",
        "\n",
        "\n",
        "class MLP_2:\n",
        "    def __init__(self, num_features):\n",
        "        ## 하이퍼 파라미터\n",
        "        self.num_hidden = 4\n",
        "        self.num_epochs = 2000\n",
        "        self.learning_rate = 0.05\n",
        "\n",
        "        ## 학습 파라미터 정의\n",
        "        # self.W1 =\n",
        "        # self.b1 =\n",
        "        # self.W2 =\n",
        "        # self.b2 =\n",
        "\n",
        "        ## Placeholder 정의 \n",
        "        # self.X =\n",
        "        # self.Y =\n",
        "\n",
        "    def train(self, train_x, train_y):\n",
        "        ## 모델 만들기\n",
        "        # self.Y_ =\n",
        "\n",
        "        ## loss 설정\n",
        "        # cost =\n",
        "\n",
        "        ## 모델 학습 설정\n",
        "        # optimize =\n",
        "\n",
        "        # 세션 생성\n",
        "        self.sess = tf.Session()\n",
        "        self.sess.run(tf.global_variables_initializer())\n",
        "\n",
        "        # 학습\n",
        "        for i in range(self.num_epochs):\n",
        "            ###\n",
        "\n",
        "    def predict(self, test_x):\n",
        "        ## 모델 예측\n",
        "        # pred = \n",
        "        # return pred"
      ],
      "execution_count": 0,
      "outputs": []
    },
    {
      "cell_type": "markdown",
      "metadata": {
        "id": "1VYgEnGydVMz",
        "colab_type": "text"
      },
      "source": [
        "## class MLP - 정답 코드"
      ]
    },
    {
      "cell_type": "code",
      "metadata": {
        "id": "G6Fc-zFhdbg0",
        "colab_type": "code",
        "colab": {}
      },
      "source": [
        "import tensorflow as tf\n",
        "import numpy as np\n",
        "\n",
        "\n",
        "class MLP_2:\n",
        "    def __init__(self, num_features):\n",
        "        self.num_hidden = 4\n",
        "        self.num_epochs = 2000\n",
        "        self.learning_rate = 0.05\n",
        "\n",
        "        self.W1 = tf.Variable(name=\"E2_W1\", initial_value=tf.random_normal([num_features, self.num_hidden]))\n",
        "        self.b1 = tf.Variable(name=\"E2_b1\", initial_value=tf.zeros([self.num_hidden]))\n",
        "        self.W2 = tf.Variable(name=\"E2_W2\", initial_value=tf.random_normal([self.num_hidden, 1]))\n",
        "        self.b2 = tf.Variable(name=\"E2_b2\", initial_value=tf.zeros([1]))\n",
        "\n",
        "        self.X = tf.placeholder(tf.float32, [None, num_features], name=\"X\")  # 입력\n",
        "        self.Y = tf.placeholder(tf.float32, [None, 1], name=\"Y\") # 정답\n",
        "\n",
        "    def train(self, train_x, train_y):\n",
        "        # 모델 만들기\n",
        "        Z1 = tf.matmul(self.X, self.W1) + self.b1\n",
        "        H1 = tf.sigmoid(Z1)\n",
        "        Z2 = tf.matmul(H1, self.W2) + self.b2\n",
        "        self.Y_ = tf.sigmoid(Z2)\n",
        "        # Liniear Regression 하려면 바로 위에 주석처리하고 아래 코드 추가\n",
        "        #self.Y_ = tf.sigmoid(Z1) \n",
        "\n",
        "        # loss 설정\n",
        "        Ln = 0.5 * tf.reduce_sum(tf.square(self.Y - self.Y_), axis=1)\n",
        "        cost = tf.reduce_sum(Ln)\n",
        "\n",
        "        # 모델 학습 설정\n",
        "        optimize = tf.train.GradientDescentOptimizer(self.learning_rate).minimize(cost)\n",
        "\n",
        "        # 세션 생성\n",
        "        self.sess = tf.Session()\n",
        "        self.sess.run(tf.global_variables_initializer())\n",
        "\n",
        "        # 학습\n",
        "        for i in range(self.num_epochs):\n",
        "            _, L = self.sess.run([optimize, cost], feed_dict={self.X: train_x, self.Y: train_y})\n",
        "            if i % 100 == 0:\n",
        "                print(\"Step:\", i, \"Loss:\", L)\n",
        "\n",
        "    def predict(self, test_x):\n",
        "        pred = self.sess.run(self.Y_, feed_dict={self.X: test_x})\n",
        "        return pred"
      ],
      "execution_count": 0,
      "outputs": []
    },
    {
      "cell_type": "markdown",
      "metadata": {
        "id": "T4gkW83ideNL",
        "colab_type": "text"
      },
      "source": [
        "## 데이터 생성 및 학습"
      ]
    },
    {
      "cell_type": "code",
      "metadata": {
        "id": "yqnPYGD0dgtf",
        "colab_type": "code",
        "colab": {
          "base_uri": "https://localhost:8080/",
          "height": 395
        },
        "outputId": "98af33c5-f67f-4ea0-d2a3-c5138c0d836f"
      },
      "source": [
        "train_x = np.sort(np.random.rand(100)) # [0,1] 범위 내의 실수 100개\n",
        "train_y = np.sin(train_x * np.pi)      # y = sin(pi * x)\n",
        "train_x = np.expand_dims(train_x,1)\n",
        "train_y = np.expand_dims(train_y,1)\n",
        "\n",
        "test_x = np.sort(np.random.rand(100))  # [0,1] 범위 내의 실수 100개\n",
        "test_y = np.sin(test_x * np.pi)        # y = sin(pi * x)\n",
        "test_x = np.expand_dims(test_x,1)\n",
        "test_y = np.expand_dims(test_y,1)\n",
        "\n",
        "num_data, num_features = train_x.shape\n",
        "print(num_data, num_features)\n",
        "\n",
        "model = MLP_2(num_features)\n",
        "model.train(train_x, train_y)"
      ],
      "execution_count": 18,
      "outputs": [
        {
          "output_type": "stream",
          "text": [
            "100 1\n",
            "Step: 0 Loss: 4.5521235\n",
            "Step: 100 Loss: 4.407099\n",
            "Step: 200 Loss: 4.3885064\n",
            "Step: 300 Loss: 4.3639555\n",
            "Step: 400 Loss: 4.319541\n",
            "Step: 500 Loss: 4.237088\n",
            "Step: 600 Loss: 4.088516\n",
            "Step: 700 Loss: 3.8286867\n",
            "Step: 800 Loss: 3.4167948\n",
            "Step: 900 Loss: 2.8032749\n",
            "Step: 1000 Loss: 1.9365058\n",
            "Step: 1100 Loss: 1.0897709\n",
            "Step: 1200 Loss: 0.5802235\n",
            "Step: 1300 Loss: 0.33513895\n",
            "Step: 1400 Loss: 0.21738392\n",
            "Step: 1500 Loss: 0.15661839\n",
            "Step: 1600 Loss: 0.12273223\n",
            "Step: 1700 Loss: 0.102535404\n",
            "Step: 1800 Loss: 0.08983602\n",
            "Step: 1900 Loss: 0.08150367\n"
          ],
          "name": "stdout"
        }
      ]
    },
    {
      "cell_type": "markdown",
      "metadata": {
        "id": "GaWJB81adjUL",
        "colab_type": "text"
      },
      "source": [
        "## 학습 Visualization"
      ]
    },
    {
      "cell_type": "code",
      "metadata": {
        "id": "PNozHBX_dmDT",
        "colab_type": "code",
        "colab": {
          "base_uri": "https://localhost:8080/",
          "height": 283
        },
        "outputId": "dc99f8a7-782a-420f-c456-cd34316bfe7e"
      },
      "source": [
        "import matplotlib.pyplot as plt\n",
        "\n",
        "\n",
        "plt.scatter(test_x, test_y, label=\"train_data\")\n",
        "plt.plot(test_x, model.predict(test_x), 'r-', label=\"model\")\n",
        "plt.xlabel(\"x\")\n",
        "plt.ylabel(\"y\")\n",
        "plt.legend()\n",
        "plt.show()"
      ],
      "execution_count": 19,
      "outputs": [
        {
          "output_type": "display_data",
          "data": {
            "image/png": "[encoded data removed]",
            "text/plain": [
              "<Figure size 432x288 with 1 Axes>"
            ]
          },
          "metadata": {
            "tags": []
          }
        }
      ]
    },
    {
      "cell_type": "markdown",
      "metadata": {
        "id": "bkT0FJ0weqEE",
        "colab_type": "text"
      },
      "source": [
        "# 3. MLP 실습 - Iris 분류"
      ]
    },
    {
      "cell_type": "markdown",
      "metadata": {
        "id": "udR870Eje3wz",
        "colab_type": "text"
      },
      "source": [
        "## class MLP - 코드 작성"
      ]
    },
    {
      "cell_type": "code",
      "metadata": {
        "id": "wIfPUiD-e4zM",
        "colab_type": "code",
        "colab": {}
      },
      "source": [
        "import tensorflow as tf\n",
        "import numpy as np\n",
        "\n",
        "\n",
        "class MLP_3:\n",
        "    def __init__(self, num_features, num_output):\n",
        "        ## 하이퍼 파라미터\n",
        "        self.num_hidden = 4\n",
        "        self.num_epochs = 2000\n",
        "        self.learning_rate = 0.2\n",
        "\n",
        "        ## 학습 파라미터 정의\n",
        "        # self.W1 =\n",
        "        # self.b1 =\n",
        "        # self.W2 =\n",
        "        # self.b2 =\n",
        "        self.W1 = tf.Variable(name=\"E3_W1\", initial_value=tf.random_normal([num_features, self.num_hidden]))\n",
        "        self.b1 = tf.Variable(name(\"E3_b1\", initial_value=tf.zeros[self.num_hidden]))\n",
        "        self.W2 = tf.Variable(name=\"E3_W2\", initial_value=tf.random_normal([self.num_hidden, num_output]))\n",
        "        self_b2 = tf.Variable(name=\"E3_b2\", initial_value=tf.zeros[num_output])\n",
        "\n",
        "        ## Placeholder 정의 \n",
        "        # self.X =\n",
        "        # self.Y =\n",
        "        self.X = tf.placeholder(tf.float32, [None, num_features], name=\"X\")\n",
        "        self.Y = tf.placeholder(tf.float32, [None, num_output], name=\"Y\")\n",
        "\n",
        "    def train(self, train_x, train_y):\n",
        "        ## 모델 만들기\n",
        "        # self.Y_ =\n",
        "        Z1 = tf.matmul(self.X, self.W1) + self.b1\n",
        "        H1 = tf.sigmoid(Z1)\n",
        "        Z2 = tf.matmul(H1, self.W2) + self.b2\n",
        "        self.Y_ = tf.sigmoid(Z2)\n",
        "\n",
        "        # Logistic Regression Loss 설정\n",
        "        Ln = tf.reduce_mean(tf.nn.softmax_cross_entropy_with_logits(logits=self.Y_, labels=self.Y))\n",
        "        cost = tf.train.GradientDescentOptimizer(self.learning_rate).minimize(cost)\n",
        "\n",
        "        ## 모델 학습 설정\n",
        "        # optimize =\n",
        "        optimize = tf.train.\n",
        "\n",
        "        # 세션 생성\n",
        "        self.sess = tf.Session()\n",
        "        self.sess.run(tf.global_variables_initializer())\n",
        "\n",
        "        # 학습\n",
        "        for i in range(self.num_epochs):\n",
        "            ###\n",
        "\n",
        "    def predict(self, test_x):\n",
        "        pred = self.sess.run(self.Y_, feed_dict={self.X: test_x})\n",
        "        predict_labels = np.argmax(pred, axis=1)\n",
        "        return predict_labels"
      ],
      "execution_count": 0,
      "outputs": []
    },
    {
      "cell_type": "markdown",
      "metadata": {
        "id": "jB-xeLYze94b",
        "colab_type": "text"
      },
      "source": [
        "## class MLP - 정답 코드"
      ]
    },
    {
      "cell_type": "code",
      "metadata": {
        "id": "pGhq-W0EfBk7",
        "colab_type": "code",
        "colab": {}
      },
      "source": [
        "import tensorflow as tf\n",
        "import numpy as np\n",
        "\n",
        "\n",
        "class MLP_3:\n",
        "    def __init__(self, num_features, num_output):\n",
        "        self.num_hidden = 4\n",
        "        self.num_epochs = 2000\n",
        "        self.learning_rate = 0.2\n",
        "\n",
        "        self.W1 = tf.Variable(name=\"E3_W1\", initial_value=tf.random_normal([num_features, self.num_hidden]))\n",
        "        self.b1 = tf.Variable(name=\"E3_b1\", initial_value=tf.zeros([self.num_hidden]))\n",
        "        self.W2 = tf.Variable(name=\"E3_W2\", initial_value=tf.random_normal([self.num_hidden, num_output]))\n",
        "        self.b2 = tf.Variable(name=\"E3_b2\", initial_value=tf.zeros([num_output]))\n",
        "\n",
        "        self.X = tf.placeholder(tf.float32, [None, num_features], name=\"X\")  # 입력\n",
        "        self.Y = tf.placeholder(tf.float32, [None, num_output], name=\"Y\") # 정답\n",
        "\n",
        "    def train(self, train_x, train_y):\n",
        "        # 모델 만들기\n",
        "        Z1 = tf.matmul(self.X, self.W1) + self.b1\n",
        "        H1 = tf.sigmoid(Z1)\n",
        "        Z2 = tf.matmul(H1, self.W2) + self.b2\n",
        "        self.Y_ = tf.sigmoid(Z2)\n",
        "\n",
        "        # Logistic Regression Loss 설정\n",
        "        Ln = tf.reduce_mean(tf.nn.softmax_cross_entropy_with_logits(logits=self.Y_, labels=self.Y))\n",
        "        cost = tf.reduce_sum(Ln)\n",
        "\n",
        "        # 모델 학습 설정\n",
        "        optimize = tf.train.GradientDescentOptimizer(self.learning_rate).minimize(cost)\n",
        "\n",
        "        # 세션 생성\n",
        "        self.sess = tf.Session()\n",
        "        self.sess.run(tf.global_variables_initializer())\n",
        "\n",
        "        # 학습\n",
        "        for i in range(self.num_epochs):\n",
        "            _, L = self.sess.run([optimize, cost], feed_dict={self.X: train_x, self.Y: train_y})\n",
        "            if i % 100 == 0:\n",
        "                print(\"Step:\", i, \"Loss:\", L)\n",
        "\n",
        "    def predict(self, test_x):\n",
        "        pred = self.sess.run(self.Y_, feed_dict={self.X: test_x})\n",
        "        predict_labels = np.argmax(pred, axis=1)\n",
        "        return predict_labels"
      ],
      "execution_count": 0,
      "outputs": []
    },
    {
      "cell_type": "markdown",
      "metadata": {
        "id": "aOZHav0skyTq",
        "colab_type": "text"
      },
      "source": [
        "## CSV 파일 읽기"
      ]
    },
    {
      "cell_type": "code",
      "metadata": {
        "id": "lNxaDJsCk4NJ",
        "colab_type": "code",
        "colab": {}
      },
      "source": [
        "import csv\n",
        "import os\n",
        "\n",
        "\n",
        "def Iris_Dataset(path, filename):\n",
        "    file = os.path.join(path, filename)\n",
        "\n",
        "    with open(file, 'r') as f:\n",
        "        csv_reader = csv.reader(f)\n",
        "        header = next(csv_reader)\n",
        "\n",
        "        x_data = []\n",
        "        y_data = []\n",
        "        for line in csv_reader:\n",
        "            x = []\n",
        "            features = line[:-1]\n",
        "            for feat in features:\n",
        "                x.append(float(feat))\n",
        "            if line[-1] == 'Iris-setosa': y = 0\n",
        "            elif line[-1] == 'Iris-versicolor': y = 1\n",
        "            else: y = 2     # 'Iris-virginica'\n",
        "            x_data.append(x)\n",
        "            y_data.append(y)\n",
        "        x_array = np.array(x_data)\n",
        "        y_array = np.array(y_data)\n",
        "\n",
        "        return header, x_array, y_array"
      ],
      "execution_count": 0,
      "outputs": []
    },
    {
      "cell_type": "markdown",
      "metadata": {
        "id": "hqK1fp9KkW5c",
        "colab_type": "text"
      },
      "source": [
        "## 데이터 생성, 학습 및 평가"
      ]
    },
    {
      "cell_type": "code",
      "metadata": {
        "id": "XGKEKgeJkbGS",
        "colab_type": "code",
        "colab": {
          "base_uri": "https://localhost:8080/",
          "height": 431
        },
        "outputId": "8f2fbecb-ef52-4c5b-bb92-833243f0dd3f"
      },
      "source": [
        "# train 데이터를 읽기\n",
        "header, train_x, train_y = Iris_Dataset('./sample_data', 'Iris_train.csv')\n",
        "num_data, num_features = train_x.shape\n",
        "\n",
        "num_classes = 3     # 데이터에서 총 3가지의 품종이 제시됨\n",
        "print(train_x.shape)\n",
        "print(train_y.shape)\n",
        "\n",
        "label_y = np.eye(num_classes)[train_y]    # logistic regression을 위한 정답 label 생성\n",
        "\n",
        "# 모델 생성 및 학습\n",
        "model = MLP_3(num_features, num_classes)\n",
        "model.train(train_x, label_y)\n",
        "\n",
        "# test 데이터 읽기\n",
        "header, test_x, test_y = Iris_Dataset('./sample_data', 'Iris_test.csv')\n",
        "\n",
        "# 모델 예측 후 평가\n",
        "predict_labels = model.predict(test_x)\n",
        "accuracy = np.mean(np.equal(predict_labels, test_y))\n",
        "print(\"accuracy=\", accuracy)"
      ],
      "execution_count": 26,
      "outputs": [
        {
          "output_type": "stream",
          "text": [
            "(120, 4)\n",
            "(120,)\n",
            "Step: 0 Loss: 1.0896344\n",
            "Step: 100 Loss: 0.9696787\n",
            "Step: 200 Loss: 0.9104327\n",
            "Step: 300 Loss: 0.87359124\n",
            "Step: 400 Loss: 0.8493613\n",
            "Step: 500 Loss: 0.8325212\n",
            "Step: 600 Loss: 0.8203114\n",
            "Step: 700 Loss: 0.8111616\n",
            "Step: 800 Loss: 0.8041096\n",
            "Step: 900 Loss: 0.79853123\n",
            "Step: 1000 Loss: 0.7939934\n",
            "Step: 1100 Loss: 0.79014516\n",
            "Step: 1200 Loss: 0.7865226\n",
            "Step: 1300 Loss: 0.78222823\n",
            "Step: 1400 Loss: 0.7770557\n",
            "Step: 1500 Loss: 0.7716724\n",
            "Step: 1600 Loss: 0.76633275\n",
            "Step: 1700 Loss: 0.76112556\n",
            "Step: 1800 Loss: 0.75610566\n",
            "Step: 1900 Loss: 0.7513113\n",
            "accuracy= 0.6666666666666666\n"
          ],
          "name": "stdout"
        }
      ]
    },
    {
      "cell_type": "markdown",
      "metadata": {
        "id": "VLYK3wXa9b0I",
        "colab_type": "text"
      },
      "source": [
        "# 4. MLP 실습 - 손글씨 분류"
      ]
    },
    {
      "cell_type": "markdown",
      "metadata": {
        "id": "OC47HIQY9kNG",
        "colab_type": "text"
      },
      "source": [
        "## class MLP"
      ]
    },
    {
      "cell_type": "code",
      "metadata": {
        "id": "lbEOPzWf9mJ0",
        "colab_type": "code",
        "colab": {}
      },
      "source": [
        "import tensorflow as tf\n",
        "import numpy as np\n",
        "\n",
        "from tensorflow.examples.tutorials.mnist import input_data\n",
        "\n",
        "\n",
        "class MLP_4:\n",
        "    def __init__(self, num_features):\n",
        "        # 하이퍼 파라미터 설정\n",
        "        self.n_input = num_features  # input 이미지의 차원 (28*28 = 784)\n",
        "        self.n_hidden_1 = 256  # hidden layer1의 뉴런 수\n",
        "        self.n_hidden_2 = 400  # hidden layer2의 뉴런 수\n",
        "        self.n_classes = 10  # output 손글씨 분류 수 (0-9 digits)\n",
        "        self.learning_rate = 0.001\n",
        "        self.training_epochs = 10\n",
        "        self.batch_size = 100\n",
        "\n",
        "        # 파라미터 세팅\n",
        "        # W1, W2, W3 xavier 초기화 / b1, b2, b3 0으로 초기화\n",
        "        self.W1 = tf.Variable(name=\"W1\", initial_value=tf.contrib.layers.xavier_initializer()([self.n_input, self.n_hidden_1]))\n",
        "        self.b1 = tf.Variable(name=\"b1\", initial_value=tf.zeros([self.n_hidden_1]))\n",
        "        self.W2 = tf.Variable(name=\"W2\", initial_value=tf.contrib.layers.xavier_initializer()([self.n_hidden_1, self.n_hidden_2]))\n",
        "        self.b2 = tf.Variable(name=\"b2\", initial_value=tf.zeros([self.n_hidden_2]))\n",
        "        self.W3 = tf.Variable(name=\"W3\", initial_value=tf.contrib.layers.xavier_initializer()([self.n_hidden_2, self.n_classes]))\n",
        "        self.b3 = tf.Variable(name=\"b3\", initial_value=tf.zeros([self.n_classes]))\n",
        "\n",
        "        #  입력/정답 설정\n",
        "        self.X = tf.placeholder(\"float\", [None, self.n_input]) # 입력\n",
        "        self.Y = tf.placeholder(\"float\", [None, self.n_classes]) # 정답\n",
        "\n",
        "    def train(self):\n",
        "        # 모델 만들기\n",
        "        hidden_layer_1 = tf.nn.relu(tf.matmul(self.X, self.W1) + self.b1)\n",
        "        hidden_layer_2 = tf.nn.relu(tf.matmul(hidden_layer_1, self.W2) + self.b2)\n",
        "        \n",
        "        # leaky_relu\n",
        "        #hidden_layer_1 = tf.nn.leaky_relu(tf.matmul(self.X, self.W1) + self.b1)\n",
        "        #hidden_layer_2 = tf.nn.leaky_relu(tf.matmul(hidden_layer_1, self.W2) + self.b2)\n",
        "        \n",
        "        # elu\n",
        "        #hidden_layer_1 = tf.nn.elu(tf.matmul(self.X, self.W1) + self.b1)\n",
        "        #hidden_layer_2 = tf.nn.elu(tf.matmul(hidden_layer_1, self.W2) + self.b2)\n",
        "        self.output = tf.matmul(hidden_layer_2, self.W3) + self.b3\n",
        "\n",
        "        #loss 설정\n",
        "        L = tf.reduce_mean(tf.nn.softmax_cross_entropy_with_logits(logits=self.output, labels=self.Y))\n",
        "        optimize = tf.train.AdamOptimizer(self.learning_rate).minimize(L) # 모델 학습 설정\n",
        "        #optimize = tf.train.GradientDescentOptimizer(self.learning_rate).minimize(L)\n",
        "\n",
        "        # 세선 생성 및 파라미터 초기화\n",
        "        self.sess = tf.Session()\n",
        "        self.sess.run(tf.global_variables_initializer())\n",
        "\n",
        "        # train data를 이용하여 batch단위로 학습\n",
        "        for epoch in range(self.training_epochs):\n",
        "            avg_loss = 0\n",
        "            total_batch = int(mnist.train.num_examples/self.batch_size)\n",
        "            # batch단위 학습\n",
        "            for i in range(total_batch):\n",
        "                # batch 크기 만큼 데이터 가져오기\n",
        "                batch_x, batch_y = mnist.train.next_batch(self.batch_size)\n",
        "                # optimization\n",
        "                _, loss = self.sess.run([optimize, L], feed_dict={self.X: batch_x, self.Y: batch_y})\n",
        "                # 평균 loss 구하기\n",
        "                avg_loss += loss / total_batch\n",
        "            print(epoch, \"loss=\", avg_loss)\n",
        "\n",
        "    def predict(self, test_x):\n",
        "        pred = self.sess.run(self.output, feed_dict={self.X: test_x})\n",
        "        predict_labels = np.argmax(pred, axis=1)\n",
        "        return predict_labels"
      ],
      "execution_count": 0,
      "outputs": []
    },
    {
      "cell_type": "markdown",
      "metadata": {
        "id": "a1KxZnKg91bF",
        "colab_type": "text"
      },
      "source": [
        "## 데이터 생성, 학습 및 평가"
      ]
    },
    {
      "cell_type": "code",
      "metadata": {
        "id": "6coCKOVP93_1",
        "colab_type": "code",
        "colab": {
          "base_uri": "https://localhost:8080/",
          "height": 287
        },
        "outputId": "420a5236-53e1-4bb2-9c88-dcf0e60b26a1"
      },
      "source": [
        "# 손글씨 데이터 셋 불러오기\n",
        "mnist = input_data.read_data_sets(\"/tmp/data/\", one_hot=True)\n",
        "\n",
        "# 모델 생성 및 학습\n",
        "model = MLP_4(784)\n",
        "model.train()\n",
        "\n",
        "predict_labels = model.predict(mnist.test.images)  # 모델의 예측 label\n",
        "true_labels = np.argmax(mnist.test.labels, axis=1) # 실제 label\n",
        "\n",
        "# accuracy 계산\n",
        "accuracy = np.mean(np.equal(predict_labels, true_labels))\n",
        "print(\"accuracy=\", accuracy)"
      ],
      "execution_count": 66,
      "outputs": [
        {
          "output_type": "stream",
          "text": [
            "Extracting /tmp/data/train-images-idx3-ubyte.gz\n",
            "Extracting /tmp/data/train-labels-idx1-ubyte.gz\n",
            "Extracting /tmp/data/t10k-images-idx3-ubyte.gz\n",
            "Extracting /tmp/data/t10k-labels-idx1-ubyte.gz\n",
            "0 loss= 0.24963611076501266\n",
            "1 loss= 0.09546647367152306\n",
            "2 loss= 0.06408249240876598\n",
            "3 loss= 0.043512043785727185\n",
            "4 loss= 0.03385445896641946\n",
            "5 loss= 0.027076900225259676\n",
            "6 loss= 0.023381690287179385\n",
            "7 loss= 0.01665810584503396\n",
            "8 loss= 0.014530226461144841\n",
            "9 loss= 0.01654044471085813\n",
            "accuracy= 0.9782\n"
          ],
          "name": "stdout"
        }
      ]
    },
    {
      "cell_type": "markdown",
      "metadata": {
        "id": "9wbN4ICo97eO",
        "colab_type": "text"
      },
      "source": [
        "## 이미지 별 예측 결과 직접 확인"
      ]
    },
    {
      "cell_type": "code",
      "metadata": {
        "id": "gFBy4TmC9_59",
        "colab_type": "code",
        "colab": {
          "base_uri": "https://localhost:8080/",
          "height": 287
        },
        "outputId": "43397722-78a3-4df8-ced7-0364de6d3319"
      },
      "source": [
        "import matplotlib.pyplot as plt\n",
        "\n",
        "\n",
        "# 손글씨 이미지와 예측 결과 살펴보기\n",
        "plt.figure()\n",
        "check_data = 30\n",
        "# 예측 label 출력\n",
        "print(\"predicted label=\", predict_labels[check_data])\n",
        "\n",
        "image = np.reshape(mnist.test.images[check_data], [28, 28]) # 이미지 만들기\n",
        "plt.imshow(image, cmap='Greys')\n",
        "plt.show() # 이미지 출력"
      ],
      "execution_count": 67,
      "outputs": [
        {
          "output_type": "stream",
          "text": [
            "predicted label= 3\n"
          ],
          "name": "stdout"
        },
        {
          "output_type": "display_data",
          "data": {
            "image/png": "[encoded data removed]",
            "text/plain": [
              "<Figure size 432x288 with 1 Axes>"
            ]
          },
          "metadata": {
            "tags": []
          }
        }
      ]
    },
    {
      "cell_type": "markdown",
      "metadata": {
        "id": "x37UGHBJ0C7q",
        "colab_type": "text"
      },
      "source": [
        "# 5. MLP 실습 - 의류 데이터 분류"
      ]
    },
    {
      "cell_type": "markdown",
      "metadata": {
        "id": "35PVeCgW0GId",
        "colab_type": "text"
      },
      "source": [
        "## class MLP"
      ]
    },
    {
      "cell_type": "code",
      "metadata": {
        "id": "plIrUeMR0Ix1",
        "colab_type": "code",
        "colab": {}
      },
      "source": [
        "import tensorflow as tf\n",
        "import numpy as np\n",
        "\n",
        "def get_l2(param):\n",
        "  regu = 0\n",
        "  for p in param:\n",
        "    regu += tf.nn.l2_loss(p)\n",
        "  return regu\n",
        "\n",
        "class MLP_5:\n",
        "    def __init__(self, num_features, num_classes):\n",
        "        # 하이퍼 파라미터 설정\n",
        "        self.n_input = num_features  # input 이미지의 차원 (28*28 = 784)\n",
        "        self.n_hidden_1 = 350  # hidden layer1의 뉴런 수\n",
        "        self.n_hidden_2 = 350  # hidden layer2의 뉴런 수\n",
        "        self.n_classes = num_classes  # output 손글씨 분류 수 (0-9 digits)\n",
        "        self.learning_rate = 0.001\n",
        "        self.training_epochs = 10\n",
        "        self.batch_size = 100\n",
        "        self.regularization_term = 0.001\n",
        "\n",
        "        # 파라미터 세팅\n",
        "        # W1, W2, W3 xavier 초기화 / b1, b2, b3 0으로 초기화\n",
        "        self.W1 = tf.Variable(name=\"W1\", initial_value=tf.contrib.layers.xavier_initializer()([self.n_input, self.n_hidden_1]))\n",
        "        self.b1 = tf.Variable(name=\"b1\", initial_value=tf.zeros([self.n_hidden_1]))\n",
        "        self.W2 = tf.Variable(name=\"W2\", initial_value=tf.contrib.layers.xavier_initializer()([self.n_hidden_1, self.n_hidden_2]))\n",
        "        self.b2 = tf.Variable(name=\"b2\", initial_value=tf.zeros([self.n_hidden_2]))\n",
        "        self.W3 = tf.Variable(name=\"W3\", initial_value=tf.contrib.layers.xavier_initializer()([self.n_hidden_2, self.n_classes]))\n",
        "        self.b3 = tf.Variable(name=\"b3\", initial_value=tf.zeros([self.n_classes]))\n",
        "        self.params = [self.W1, self.b1, self.W2, self.b2, self.W3, self.b3]\n",
        "\n",
        "        #  입력/정답 설정\n",
        "        self.X = tf.placeholder(\"float\", [None, self.n_input]) # 입력\n",
        "        self.Y = tf.placeholder(\"float\", [None, self.n_classes]) # 정답\n",
        "\n",
        "    def train(self, train_x, train_y):\n",
        "        # 모델 만들기\n",
        "        hidden_layer_1 = tf.nn.relu(tf.matmul(self.X, self.W1) + self.b1)\n",
        "        hidden_layer_2 = tf.nn.relu(tf.matmul(hidden_layer_1, self.W2) + self.b2)\n",
        "        self.output = tf.matmul(hidden_layer_2, self.W3) + self.b3\n",
        "\n",
        "        #loss 설정\n",
        "        cost = tf.reduce_mean(tf.nn.softmax_cross_entropy_with_logits(logits=self.output, labels=self.Y))\n",
        "        \n",
        "        #regularize\n",
        "        \n",
        "        #regu = tf.nn.l2_loss(self.W1) + tf.nn.l2_loss(self.b1) + tf.nn.l2_loss(self.W2) + tf.nn.l2_loss(self.b2) + tf.nn.l2_loss(self.W3) + tf.nn.l2_loss(self.b3)\n",
        "        regu = get_l2(self.params)\n",
        "        cost = cost + self.regularization_term * regu\n",
        "        \n",
        "        optimize = tf.train.AdamOptimizer(self.learning_rate).minimize(cost) # 모델 학습 설정\n",
        "\n",
        "        # 세선 생성 및 파라미터 초기화\n",
        "        self.sess = tf.Session()\n",
        "        self.sess.run(tf.global_variables_initializer())\n",
        "\n",
        "        # train data를 이용하여 batch 단위로 학습\n",
        "        total_data_size = train_x.shape[0]\n",
        "        for epoch in range(self.training_epochs):\n",
        "            avg_loss = 0\n",
        "\n",
        "            # 전체 데이터의 수와 분할하고자 하는 batch의 크기가 주어지면, 자동적으로 총 batch의 수가 결정된다.\n",
        "            total_batch = int((total_data_size + self.batch_size - 1)/self.batch_size)\n",
        "\n",
        "            # batch 단위 학습\n",
        "            for i in range(total_batch):\n",
        "                # batch 크기 만큼 데이터 가져오기\n",
        "                start = i * self.batch_size                         # batch의 시작 위치\n",
        "                end = min((i+1) * self.batch_size, total_data_size) # batch의 끝 위치\n",
        "                batch_x = train_x[start:end]    # 입력 batch\n",
        "                batch_y = train_y[start:end]    # 정답 batch\n",
        "                # optimization\n",
        "                _, loss = self.sess.run([optimize, cost], feed_dict={self.X: batch_x, self.Y: batch_y})\n",
        "                # 평균 loss 구하기\n",
        "                avg_loss += loss / total_batch\n",
        "            print(epoch, \"loss=\", avg_loss)\n",
        "\n",
        "    def predict(self, test_x):\n",
        "        pred = self.sess.run(self.output, feed_dict={self.X: test_x})\n",
        "        predict_labels = np.argmax(pred, axis=1)\n",
        "        return predict_labels"
      ],
      "execution_count": 0,
      "outputs": []
    },
    {
      "cell_type": "markdown",
      "metadata": {
        "id": "3-cjHzXN0Rbi",
        "colab_type": "text"
      },
      "source": [
        "##  gzip 파일 읽기"
      ]
    },
    {
      "cell_type": "code",
      "metadata": {
        "id": "f432qHYl0iWl",
        "colab_type": "code",
        "colab": {}
      },
      "source": [
        "import os\n",
        "import gzip\n",
        "\n",
        "\n",
        "def load_mnist(path, kind='train'):\n",
        "\n",
        "    \"\"\"Load MNIST data from `path`\"\"\"\n",
        "    labels_path = os.path.join(path, \"%s-labels.gz\" % kind)\n",
        "    images_path = os.path.join(path, \"%s-images.gz\" % kind)\n",
        "\n",
        "    with gzip.open(labels_path, 'rb') as lbpath:\n",
        "        labels = np.frombuffer(lbpath.read(), dtype=np.uint8, offset=8)\n",
        "\n",
        "    with gzip.open(images_path, 'rb') as imgpath:\n",
        "        images = np.frombuffer(imgpath.read(), dtype=np.uint8, offset=16).reshape(len(labels), 784)\n",
        "\n",
        "    return images, labels"
      ],
      "execution_count": 0,
      "outputs": []
    },
    {
      "cell_type": "markdown",
      "metadata": {
        "id": "0pGCpJpC0p0h",
        "colab_type": "text"
      },
      "source": [
        "## 데이터 생성, 학습 및 평가"
      ]
    },
    {
      "cell_type": "code",
      "metadata": {
        "id": "4aC9SLYE0rzU",
        "colab_type": "code",
        "colab": {
          "base_uri": "https://localhost:8080/",
          "height": 287
        },
        "outputId": "25533caf-d9d4-48f1-e7da-73b05bec456e"
      },
      "source": [
        "path = \"sample_data/\"\n",
        "images_filename = path + \"train_images\"\n",
        "labels_filename = path + \"train_labels\"\n",
        "\n",
        "train_x, train_y = load_mnist(path, kind='train')\n",
        "test_x, test_y = load_mnist(path, kind='test')\n",
        "\n",
        "print(\"train_x:\", train_x.shape) # (60000, 784)\n",
        "print(\"train_y:\", train_y.shape) # (60000, )\n",
        "print(\"test_x:\", test_x.shape)   # (10000, 784)\n",
        "print(\"test_y:\", test_y.shape)   # (10000, )\n",
        "#print(train_x[0])\n",
        "\n",
        "num_features = train_x.shape[1]\n",
        "num_classes = 10\n",
        "\n",
        "# 모델 생성 및 학습\n",
        "model = MLP_5(num_features, num_classes)\n",
        "label_y = np.eye(num_classes)[train_y]    # logistic regression을 위한 정답 label 생성\n",
        "model.train(train_x, label_y)\n",
        "\n",
        "predict_labels = model.predict(test_x) # 모델의 예측 label\n",
        "\n",
        "# accuracy 계산\n",
        "accuracy = np.mean(np.equal(predict_labels, test_y))\n",
        "print(\"accuracy=\", accuracy)"
      ],
      "execution_count": 102,
      "outputs": [
        {
          "output_type": "stream",
          "text": [
            "train_x: (60000, 784)\n",
            "train_y: (60000,)\n",
            "test_x: (10000, 784)\n",
            "test_y: (10000,)\n",
            "0 loss= 3.69053664416075\n",
            "1 loss= 1.0239814753333734\n",
            "2 loss= 0.8484694286187497\n",
            "3 loss= 0.7684730100631708\n",
            "4 loss= 0.7141652611394728\n",
            "5 loss= 0.6801977543532853\n",
            "6 loss= 0.6383924385905266\n",
            "7 loss= 0.5966851238409681\n",
            "8 loss= 0.560877526452144\n",
            "9 loss= 0.5218397782742983\n",
            "accuracy= 0.8498\n"
          ],
          "name": "stdout"
        }
      ]
    },
    {
      "cell_type": "markdown",
      "metadata": {
        "id": "aVnaNGbd1PDW",
        "colab_type": "text"
      },
      "source": [
        "## 이미지 별 예측 결과 직접 확인"
      ]
    },
    {
      "cell_type": "code",
      "metadata": {
        "id": "zgdt1cQ_1Rql",
        "colab_type": "code",
        "colab": {
          "base_uri": "https://localhost:8080/",
          "height": 287
        },
        "outputId": "38c7971c-96cd-4e30-a925-9aaa81a06cdc"
      },
      "source": [
        "import matplotlib.pyplot as plt\n",
        "\n",
        "\n",
        "# 의류 이미지와 예측 결과 살펴보기\n",
        "plt.figure()\n",
        "check_data = 30\n",
        "# 예측 label 출력\n",
        "print(\"predicted label=\", predict_labels[check_data])\n",
        "\n",
        "image = np.reshape(test_x[check_data], [28, 28]) # 이미지 만들기\n",
        "plt.imshow(image, cmap='Greys')\n",
        "plt.show() # 이미지 출력\n"
      ],
      "execution_count": 75,
      "outputs": [
        {
          "output_type": "stream",
          "text": [
            "predicted label= 8\n"
          ],
          "name": "stdout"
        },
        {
          "output_type": "display_data",
          "data": {
            "image/png": "[encoded data removed]",
            "text/plain": [
              "<Figure size 432x288 with 1 Axes>"
            ]
          },
          "metadata": {
            "tags": []
          }
        }
      ]
    },
    {
      "cell_type": "markdown",
      "metadata": {
        "id": "PWIlmiOqYcGJ",
        "colab_type": "text"
      },
      "source": [
        "# 6. 추가 실습 - CIFAR 이미지 분류"
      ]
    },
    {
      "cell_type": "markdown",
      "metadata": {
        "id": "EMrh3sVsexwx",
        "colab_type": "text"
      },
      "source": [
        "## class MLP"
      ]
    },
    {
      "cell_type": "code",
      "metadata": {
        "id": "-1pkY7ULe5it",
        "colab_type": "code",
        "colab": {}
      },
      "source": [
        "import tensorflow as tf\n",
        "import numpy as np\n",
        "\n",
        "\n",
        "class MLP_6:\n",
        "    def __init__(self, num_features, num_classes):\n",
        "      pass\n",
        "    \n",
        "    def train(self, train_x, train_y):\n",
        "      pass\n",
        "    \n",
        "    def predict(self, test_x):\n",
        "      pass"
      ],
      "execution_count": 0,
      "outputs": []
    },
    {
      "cell_type": "markdown",
      "metadata": {
        "id": "Au-5olR9iLY1",
        "colab_type": "text"
      },
      "source": [
        "## pickle 파일 읽기"
      ]
    },
    {
      "cell_type": "code",
      "metadata": {
        "id": "zHSPoRNUiNcK",
        "colab_type": "code",
        "colab": {}
      },
      "source": [
        "import pickle\n",
        "\n",
        "\n",
        "def unpickle(file):\n",
        "    with open(file, 'rb') as fo:\n",
        "        dict = pickle.load(fo, encoding='bytes')\n",
        "    return dict"
      ],
      "execution_count": 0,
      "outputs": []
    },
    {
      "cell_type": "markdown",
      "metadata": {
        "id": "ewq9LIEKfFnN",
        "colab_type": "text"
      },
      "source": [
        "## 데이터 생성, 학습 및 평가"
      ]
    },
    {
      "cell_type": "code",
      "metadata": {
        "id": "a18X56gzfIpO",
        "colab_type": "code",
        "colab": {}
      },
      "source": [
        "path = \"sample_data/\"\n",
        "file_train = \"cifar_train_small\"\n",
        "file_test = \"cifar_test_small\"\n",
        "input_train = unpickle(path + file_train)\n",
        "input_test = unpickle(path + file_test)\n",
        "\n",
        "train_x = input_train['data']\n",
        "train_y = input_train['labels']\n",
        "test_x = input_test['data']\n",
        "test_y = input_test['labels']\n",
        "\n",
        "print(\"train_x:\", train_x.shape) # (5000, 3072)\n",
        "print(\"train_y:\", train_y.shape) # (5000, )\n",
        "print(\"test_x:\", test_x.shape)   # (1000, 3072)\n",
        "print(\"test_y:\", test_y.shape)   # (1000, )\n",
        "\n",
        "# 모델 생성, 학습 및 평가\n",
        "# ..."
      ],
      "execution_count": 0,
      "outputs": []
    },
    {
      "cell_type": "markdown",
      "metadata": {
        "id": "Pa5_A3_eDn5H",
        "colab_type": "text"
      },
      "source": [
        "## 이미지 별 예측 결과 직접 확인"
      ]
    },
    {
      "cell_type": "code",
      "metadata": {
        "id": "zPHwlrjaDssJ",
        "colab_type": "code",
        "colab": {}
      },
      "source": [
        "import matplotlib.pyplot as plt\n",
        "\n",
        "\n",
        "check_data = 10\n",
        "label_names = ['airplane', 'automobile', 'bird', 'cat', 'deer',\n",
        "               'dog', 'frog', 'horse', 'ship', 'truck']\n",
        "# 예측 label 출력\n",
        "print(\"predicted label=\", label_names[predict_labels[check_data]])\n",
        "\n",
        "# 이미지 만들기\n",
        "image_r = test_x[check_data][0:1024].reshape(32,32)\n",
        "image_g = test_x[check_data][1024:2048].reshape(32,32)\n",
        "image_b = test_x[check_data][2048:].reshape(32,32)\n",
        "image = np.dstack((image_r, image_g, image_b))\n",
        "plt.figure()\n",
        "plt.imshow(image)\n",
        "plt.show() # 이미지 출력"
      ],
      "execution_count": 0,
      "outputs": []
    },
    {
      "cell_type": "markdown",
      "metadata": {
        "id": "TCdX_SVUDtxk",
        "colab_type": "text"
      },
      "source": [
        ""
      ]
    }
  ]
}