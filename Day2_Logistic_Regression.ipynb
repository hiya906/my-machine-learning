{
  "nbformat": 4,
  "nbformat_minor": 0,
  "metadata": {
    "colab": {
      "name": "Day2. Logistic Regression.ipynb",
      "version": "0.3.2",
      "provenance": [],
      "collapsed_sections": [],
      "toc_visible": true,
      "include_colab_link": true
    },
    "kernelspec": {
      "name": "python3",
      "display_name": "Python 3"
    }
  },
  "cells": [
    {
      "cell_type": "markdown",
      "metadata": {
        "id": "view-in-github",
        "colab_type": "text"
      },
      "source": [
        "<a href=\"https://colab.research.google.com/github/hiya906/my-machine-learning/blob/master/Day2_Logistic_Regression.ipynb\" target=\"_parent\"><img src=\"https://colab.research.google.com/assets/colab-badge.svg\" alt=\"Open In Colab\"/></a>"
      ]
    },
    {
      "cell_type": "markdown",
      "metadata": {
        "id": "cyqq7DFfuRXd",
        "colab_type": "text"
      },
      "source": [
        "# **사용법**\n",
        "\n",
        "1.   우측 상단 '로그인'\n",
        "2.   좌측 상단 '실습 모드에서 열기'\n",
        "\n",
        "\n",
        "※ 각각의 셀은 셀 좌측 상단 실행 버튼을 통해 실행할 수 있습니다.\n",
        "\n",
        "※ 실행 중 '경고: 이 노트는 Google에서 작성하지 않았습니다.'라는 창이 뜰 경우, '실행 전에 모든 런타임 재설정'란에 체크 후 '무시하고 계속하기'를 하시면 됩니다."
      ]
    },
    {
      "cell_type": "code",
      "metadata": {
        "id": "KIV8iSKBhz5d",
        "colab_type": "code",
        "colab": {}
      },
      "source": [
        "# 데이터를 관리하기 위해서 폴더를 생성하기 위한 코드입니다\n",
        "import os\n",
        "\n",
        "os.mkdir('./data')"
      ],
      "execution_count": 0,
      "outputs": []
    },
    {
      "cell_type": "markdown",
      "metadata": {
        "id": "dV6rMy-du32V",
        "colab_type": "text"
      },
      "source": [
        "# Logistic Regression by Numpy\n",
        "\n"
      ]
    },
    {
      "cell_type": "markdown",
      "metadata": {
        "id": "Z5rZ-h4mxTNV",
        "colab_type": "text"
      },
      "source": [
        "# 실습1: Logistic Regression with Titanic data"
      ]
    },
    {
      "cell_type": "code",
      "metadata": {
        "id": "6iiU9W3axqMn",
        "colab_type": "code",
        "cellView": "both",
        "colab": {}
      },
      "source": [
        "#@title 필요 Package Import \n",
        "\n",
        "import os                            # 데이터 파일 경로 설정\n",
        "import csv                           # 데이터 파일 로드\n",
        "import numpy as np                   # numpy 행렬 조작\n",
        "import matplotlib.pyplot as plt      # 그래프 그리기(선택 사항)\n",
        "\n",
        "np.random.seed(123)"
      ],
      "execution_count": 0,
      "outputs": []
    },
    {
      "cell_type": "code",
      "metadata": {
        "id": "K30sqQtnzq4g",
        "colab_type": "code",
        "cellView": "both",
        "colab": {}
      },
      "source": [
        "#@title 데이터 준비\n",
        "\n",
        "def Titanic_Dataset(path, filename):\n",
        "    file = os.path.join(path, filename)\n",
        "\n",
        "    with open(file, 'r') as f:\n",
        "        csv_reader = csv.reader(f)                  # 파일 로드\n",
        "        header = next(csv_reader)\n",
        "\n",
        "        x_data = []\n",
        "        y_data = []\n",
        "        for line in csv_reader:\n",
        "            features = line[1:]\n",
        "            x = [1] + list(map(float, features))    # x_data에 bias를 위한 1추가\n",
        "            y = float(line[0])\n",
        "\n",
        "            x_data.append(x)\n",
        "            y_data.append(y)\n",
        "\n",
        "        x_array = np.array(x_data)\n",
        "        y_array = np.array(y_data)\n",
        "\n",
        "    return header, x_array, y_array"
      ],
      "execution_count": 0,
      "outputs": []
    },
    {
      "cell_type": "markdown",
      "metadata": {
        "id": "opVsUXxj3S7o",
        "colab_type": "text"
      },
      "source": [
        "# Logistic Regression Class 선언\n",
        "\n",
        "1.   __init__\n",
        "\n",
        "\n",
        "> *   인자: 모델 설정 \n",
        "*   출력: x\n",
        "*   기능: 모델 초기화\n",
        "\n",
        "> weight *W*를 random하게 initialization\n",
        "\n",
        "\n",
        "2.   __train__\n",
        "\n",
        "\n",
        "> *   입력: 학습데이터, 학습 설정\n",
        "*   출력: Loss \n",
        "*   기능: 데이터로 모델 학습\n",
        "\n",
        "> 매 epoch마다 전체 데이터에 대해 loss, grad 계산하여 학습\n",
        "\n",
        "\n",
        "3. __eval__\n",
        "\n",
        "> *   입력: 검증 데이터\n",
        "*   출력: 모델의 예측값\n",
        "*   기능: train로 학습된 모델로 검증, 예측값 생성\n",
        "\n",
        "> 검증 데이터에 대해 분류 예측 결과 산출 \n",
        "\n",
        "4. ___sigmoid__\n",
        "\n",
        "> *   입력: 실수형 numpy array\n",
        "*   출력: sigmoid를 취한 array\n",
        "*   기능: 주어진 array에 대한 모든 sigmoid 값 계산\n",
        "\n",
        "> $sigmoid(x) =\\frac{1}{ 1+e^{-(x)}}$\n",
        "\n",
        "\n",
        "\n"
      ]
    },
    {
      "cell_type": "code",
      "metadata": {
        "id": "7zABdKBI5NGh",
        "colab_type": "code",
        "cellView": "both",
        "colab": {}
      },
      "source": [
        "#@title 정답 코드\n",
        "class LogisticRegression:\n",
        "  def __init__(self, num_features):\n",
        "      self.W = np.random.rand(num_features, 1) * 0.01\n",
        "\n",
        "  def train(self, train_x, train_y, num_epochs, learning_rate):\n",
        "\n",
        "      epsilon = 1e-10\n",
        "      loss_memory = []\n",
        "      train_y = np.expand_dims(train_y, 1)\n",
        "\n",
        "      for epoch in range(num_epochs):\n",
        "          # ====================== 아래에 코드를 작성해주세요 ======================\n",
        "          # 1-1. logit 계산\n",
        "          logit = np.matmul(train_x, self.W)\n",
        "\n",
        "          # 1-2. sigmoid 적용\n",
        "          prob = self._sigmoid(logit)\n",
        "\n",
        "          # 1-3. Error 및 Loss 계산\n",
        "          error = prob - train_y\n",
        "\n",
        "          loss = train_y * np.log(prob + epsilon) + (1 - train_y) * np.log(1 - prob + epsilon)\n",
        "          loss = - np.sum(loss)\n",
        "\n",
        "\n",
        "          # print(loss)\n",
        "          # 1-4. Loss ‘loss_memory’에 추가\n",
        "          loss_memory.append(loss)\n",
        "\n",
        "          # 1-5. Gradient 계산\n",
        "          grad = np.mean(train_x * error, axis=0, keepdims=True).T\n",
        "\n",
        "          # 1-6. Weight Update\n",
        "          self.W -= grad * learning_rate\n",
        "          # ==================================================================\n",
        "\n",
        "      # 2. ‘loss_memory’ 반환\n",
        "      return loss_memory\n",
        "\n",
        "\n",
        "  def predict(self, test_x):\n",
        "      prob = self._sigmoid(np.matmul(test_x, self.W))\n",
        "\n",
        "      return prob\n",
        "\n",
        "  def _sigmoid(self, x):\n",
        "      return 1 / (1 + np.exp(-x))\n",
        "      \n",
        "def Accuracy(prob, true):\n",
        "  Acc = 0\n",
        "  \n",
        "  #Acc 계산\n",
        "  pred = np.round(prob, 0)\n",
        "  correct = np.sum(pred.squeeze() == true.squeeze())\n",
        "  num_data = pred.shape[0]\n",
        "\n",
        "  Acc = correct / num_data\n",
        "\n",
        "  return Acc"
      ],
      "execution_count": 0,
      "outputs": []
    },
    {
      "cell_type": "code",
      "metadata": {
        "id": "sGjGL5rb6yW3",
        "colab_type": "code",
        "cellView": "both",
        "colab": {}
      },
      "source": [
        "#@title 모델 학습\n",
        "num_epochs = 1000\n",
        "learning_rate = 1e-3\n",
        "\n",
        "header, train_x, train_y = Titanic_Dataset('./data', 'Titanic_train.csv')\n",
        "num_data, num_features = train_x.shape\n",
        "\n",
        "model = LogisticRegression(num_features)\n",
        "loss_memory = model.train(train_x, train_y, num_epochs, learning_rate)"
      ],
      "execution_count": 0,
      "outputs": []
    },
    {
      "cell_type": "code",
      "metadata": {
        "id": "nxvkpeIl7ASw",
        "colab_type": "code",
        "cellView": "both",
        "colab": {
          "base_uri": "https://localhost:8080/",
          "height": 35
        },
        "outputId": "6f6416d9-9c16-4352-cf2f-13ed2e71f4c5"
      },
      "source": [
        "#@title 모델 평가\n",
        "\n",
        "_, test_x, test_y = Titanic_Dataset('./data', 'Titanic_test.csv')\n",
        "pred = model.predict(test_x)\n",
        "acc = Accuracy(pred, test_y)\n",
        "\n",
        "print('Accuracy: ', acc)"
      ],
      "execution_count": 8,
      "outputs": [
        {
          "output_type": "stream",
          "text": [
            "Accuracy:  0.7037037037037037\n"
          ],
          "name": "stdout"
        }
      ]
    },
    {
      "cell_type": "code",
      "metadata": {
        "id": "PMOeMD-JoBqr",
        "colab_type": "code",
        "cellView": "both",
        "colab": {}
      },
      "source": [
        "#@title 정답 코드\n",
        "class LogisticRegression:\n",
        "  def __init__(self, num_features):\n",
        "      self.W = np.random.rand(num_features, 1) * 0.01\n",
        "\n",
        "  def train(self, train_x, train_y, num_epochs, learning_rate):\n",
        "\n",
        "      epsilon = 1e-10\n",
        "      loss_memory = []\n",
        "      train_y = np.expand_dims(train_y, 1)\n",
        "\n",
        "      for epoch in range(num_epochs):\n",
        "          # ====================== 아래에 코드를 작성해주세요 ======================\n",
        "          # 1-1. logit 계산\n",
        "          logit = np.matmul(train_x, self.W)\n",
        "\n",
        "          # 1-2. sigmoid 적용\n",
        "          prob = self._sigmoid(logit)\n",
        "\n",
        "          # 1-3. Error 및 Loss 계산\n",
        "          error = prob - train_y\n",
        "\n",
        "          loss = train_y * np.log(prob + epsilon) + (1 - train_y) * np.log(1 - prob + epsilon)\n",
        "          loss = - np.sum(loss)\n",
        "\n",
        "\n",
        "          # print(loss)\n",
        "          # 1-4. Loss ‘loss_memory’에 추가\n",
        "          loss_memory.append(loss)\n",
        "\n",
        "          # 1-5. Gradient 계산\n",
        "          grad = np.mean(train_x * error, axis=0, keepdims=True).T\n",
        "\n",
        "          # 1-6. Weight Update\n",
        "          self.W -= grad * learning_rate\n",
        "          # ==================================================================\n",
        "\n",
        "      # 2. ‘loss_memory’ 반환\n",
        "      return loss_memory\n",
        "\n",
        "\n",
        "  def predict(self, test_x):\n",
        "      prob = self._sigmoid(np.matmul(test_x, self.W))\n",
        "\n",
        "      return prob\n",
        "\n",
        "  def _sigmoid(self, x):\n",
        "      return 1 / (1 + np.exp(-x))\n",
        "      \n",
        "def Accuracy(prob, true):\n",
        "  Acc = 0\n",
        "  \n",
        "  #Acc 계산\n",
        "  pred = np.round(prob, 0)\n",
        "  correct = np.sum(pred.squeeze() == true.squeeze())\n",
        "  num_data = pred.shape[0]\n",
        "\n",
        "  Acc = correct / num_data\n",
        "\n",
        "  return Acc"
      ],
      "execution_count": 0,
      "outputs": []
    },
    {
      "cell_type": "markdown",
      "metadata": {
        "id": "gb1xNE580xLB",
        "colab_type": "text"
      },
      "source": [
        "# 실습2: Logistic Regression with Iris data"
      ]
    },
    {
      "cell_type": "code",
      "metadata": {
        "id": "LHBXvY091wul",
        "colab_type": "code",
        "cellView": "both",
        "colab": {}
      },
      "source": [
        "#@title 필요 Package import\n",
        "import os\n",
        "import csv\n",
        "import numpy as np\n",
        "import matplotlib.pyplot as plt\n",
        "\n",
        "np.random.seed(123)"
      ],
      "execution_count": 0,
      "outputs": []
    },
    {
      "cell_type": "code",
      "metadata": {
        "id": "uVpucGNc3VOS",
        "colab_type": "code",
        "cellView": "both",
        "colab": {}
      },
      "source": [
        "#@title 데이터 준비\n",
        "def Iris_Dataset(path, filename):\n",
        "    file = os.path.join(path, filename)\n",
        "\n",
        "    with open(file, 'r') as f:\n",
        "        csv_reader = csv.reader(f)\n",
        "        header = next(csv_reader)\n",
        "\n",
        "        x_data = []\n",
        "        y_data = []\n",
        "        for line in csv_reader:\n",
        "\n",
        "            features = line[:-1]\n",
        "            x = [1] + list(map(float, features))\n",
        "            y = float(line[-1])\n",
        "\n",
        "            x_data.append(x)\n",
        "            y_data.append(y)\n",
        "\n",
        "        x_array = np.array(x_data)\n",
        "        y_array = np.array(y_data)\n",
        "\n",
        "        return header, x_array, y_array"
      ],
      "execution_count": 0,
      "outputs": []
    },
    {
      "cell_type": "code",
      "metadata": {
        "id": "C1CRIAFF3j-_",
        "colab_type": "code",
        "cellView": "both",
        "colab": {}
      },
      "source": [
        "#@title 모델 학습\n",
        "num_epochs = 10000\n",
        "learning_rate = 1e-2\n",
        "\n",
        "header, train_x, train_y = Iris_Dataset('./data', 'Iris_Train.csv')\n",
        "\n",
        "num_data, num_features = train_x.shape\n",
        "model = LogisticRegression(num_features)\n",
        "\n",
        "loss_memory = model.train(train_x, train_y, num_epochs, learning_rate)"
      ],
      "execution_count": 0,
      "outputs": []
    },
    {
      "cell_type": "code",
      "metadata": {
        "id": "aHua6mI45Wu9",
        "colab_type": "code",
        "cellView": "both",
        "colab": {
          "base_uri": "https://localhost:8080/",
          "height": 35
        },
        "outputId": "ca557643-63fc-4092-e5ee-4f0844028afc"
      },
      "source": [
        "#@title 모델 평가\n",
        "_, test_x, test_y = Iris_Dataset('./data', 'Iris_Test.csv')\n",
        "\n",
        "pred = model.predict(test_x)\n",
        "accuracy = Accuracy(pred, test_y)\n",
        "\n",
        "print('Accuracy : ', accuracy)"
      ],
      "execution_count": 12,
      "outputs": [
        {
          "output_type": "stream",
          "text": [
            "Accuracy :  1.0\n"
          ],
          "name": "stdout"
        }
      ]
    },
    {
      "cell_type": "code",
      "metadata": {
        "id": "PII_E5Nx5cdm",
        "colab_type": "code",
        "cellView": "both",
        "colab": {
          "base_uri": "https://localhost:8080/",
          "height": 287
        },
        "outputId": "fefb5827-4cdd-41e1-e54c-3ffe549dc007"
      },
      "source": [
        "#@title 그래프 표현\n",
        "is_virginica_x = test_x[test_y == 1]\n",
        "is_virginica_y = test_y[test_y == 1]\n",
        "\n",
        "not_virginica_x = test_x[test_y == 0]\n",
        "not_virginica_y = test_y[test_y == 0]\n",
        "\n",
        "\n",
        "plot_feat = np.linspace(0, 3, 100).reshape(-1, 1)\n",
        "plot_bias = np.ones_like(plot_feat)\n",
        "\n",
        "plot_x = np.concatenate((plot_bias, plot_feat), axis=1)\n",
        "plot_prob = model.predict(plot_x)\n",
        "\n",
        "plt.scatter(is_virginica_x[:, 1], is_virginica_y, color='b', label='Iris-Virginica')\n",
        "plt.scatter(not_virginica_x[:, 1], not_virginica_y, color='r', label='Not Iris-Verginica')\n",
        "plt.plot(plot_feat, plot_prob, 'g-', label='Hypothesis')\n",
        "\n",
        "plt.xlabel(\"Petal width\", fontsize=14)\n",
        "plt.ylabel(\"Probability\", fontsize=14)\n",
        "plt.legend(loc=\"upper left\", fontsize=14)\n",
        "plt.show()"
      ],
      "execution_count": 13,
      "outputs": [
        {
          "output_type": "display_data",
          "data": {
            "image/png": "[encoded data removed]",
            "text/plain": [
              "<Figure size 432x288 with 1 Axes>"
            ]
          },
          "metadata": {
            "tags": []
          }
        }
      ]
    },
    {
      "cell_type": "markdown",
      "metadata": {
        "id": "MQjk7ZaH6epP",
        "colab_type": "text"
      },
      "source": [
        "# 실습3: Logistic Regression with Tensorflow "
      ]
    },
    {
      "cell_type": "code",
      "metadata": {
        "id": "bBmq-AMF8NGg",
        "colab_type": "code",
        "cellView": "both",
        "colab": {}
      },
      "source": [
        "#@title 필요 Package import\n",
        "\n",
        "import os\n",
        "import csv\n",
        "import numpy as np\n",
        "import tensorflow as tf\n",
        "\n",
        "tf.random.set_random_seed(100)"
      ],
      "execution_count": 0,
      "outputs": []
    },
    {
      "cell_type": "code",
      "metadata": {
        "id": "F-E6DYil93LY",
        "colab_type": "code",
        "cellView": "both",
        "colab": {}
      },
      "source": [
        "#@title 데이터 준비\n",
        "\n",
        "num_epochs = 2000\n",
        "learning_rate = 1e-3\n",
        "\n",
        "header, train_x, train_y = Titanic_Dataset('./data', 'Titanic_train.csv')\n",
        "_, test_x, test_y = Titanic_Dataset('./data', 'Titanic_test.csv')\n",
        "\n",
        "num_data, num_features = train_x.shape\n"
      ],
      "execution_count": 0,
      "outputs": []
    },
    {
      "cell_type": "code",
      "metadata": {
        "id": "nL9NtcPl-NPh",
        "colab_type": "code",
        "cellView": "both",
        "colab": {}
      },
      "source": [
        "#@title 모델 생성\n",
        "\n",
        "X = tf.placeholder(tf.float32, shape=[None, num_features])\n",
        "Y = tf.placeholder(tf.float32, shape=[None])\n",
        "\n",
        "W = tf.Variable(tf.random_normal([num_features, 1]), name='weight')\n",
        "b = tf.Variable(tf.random_normal([1]), name='bias')\n",
        "\n",
        "# model prediction \n",
        "logit = tf.matmul(X, W) + b\n",
        "prob = tf.sigmoid(logit)\n",
        "\n",
        "# Loss 및 학습법 정의\n",
        "epsilon = 1e-10\n",
        "loss = -tf.reduce_mean(Y * tf.log(prob + epsilon) + (1 - Y)*tf.log((1-prob) + epsilon))\n",
        "train = tf.train.GradientDescentOptimizer(learning_rate= learning_rate).minimize(loss)\n",
        "\n",
        "#평가 방법\n",
        "pred = tf.cast(prob > 0.5, dtype=tf.float32)\n",
        "correct = tf.cast(tf.equal(pred, Y), dtype=tf.float32)\n",
        "Accuracy = tf.reduce_mean(correct)"
      ],
      "execution_count": 0,
      "outputs": []
    },
    {
      "cell_type": "code",
      "metadata": {
        "id": "DEgaucyc-34g",
        "colab_type": "code",
        "cellView": "both",
        "colab": {
          "base_uri": "https://localhost:8080/",
          "height": 377
        },
        "outputId": "7914adcd-1b77-4822-953d-257946d597f1"
      },
      "source": [
        "#@title 모델 학습\n",
        "\n",
        "sess = tf.Session()\n",
        "sess.run(tf.global_variables_initializer())\n",
        "\n",
        "for step in range(1, num_epochs+1):\n",
        "    loss_val, training = sess.run([loss, train], feed_dict={X: train_x, Y: train_y})\n",
        "\n",
        "    if step % 100 == 0:\n",
        "        print('step: ', step, 'loss: ', loss_val)"
      ],
      "execution_count": 18,
      "outputs": [
        {
          "output_type": "stream",
          "text": [
            "step:  100 loss:  4.751186\n",
            "step:  200 loss:  1.8603483\n",
            "step:  300 loss:  0.9127513\n",
            "step:  400 loss:  0.9016853\n",
            "step:  500 loss:  0.8912981\n",
            "step:  600 loss:  0.88155425\n",
            "step:  700 loss:  0.87241703\n",
            "step:  800 loss:  0.86385393\n",
            "step:  900 loss:  0.8558255\n",
            "step:  1000 loss:  0.8483006\n",
            "step:  1100 loss:  0.841246\n",
            "step:  1200 loss:  0.8346318\n",
            "step:  1300 loss:  0.82842565\n",
            "step:  1400 loss:  0.82260317\n",
            "step:  1500 loss:  0.8171359\n",
            "step:  1600 loss:  0.81199867\n",
            "step:  1700 loss:  0.80716854\n",
            "step:  1800 loss:  0.80262357\n",
            "step:  1900 loss:  0.79834276\n",
            "step:  2000 loss:  0.7943066\n"
          ],
          "name": "stdout"
        }
      ]
    },
    {
      "cell_type": "code",
      "metadata": {
        "id": "3soL8pMo-pPA",
        "colab_type": "code",
        "cellView": "both",
        "colab": {
          "base_uri": "https://localhost:8080/",
          "height": 215
        },
        "outputId": "fd50432e-ebdb-4db1-e942-1b3fcf5d37ca"
      },
      "source": [
        "#@title 모델 평가\n",
        "_prob, _pred, _accuracy = sess.run([prob, pred, Accuracy], feed_dict={X: test_x, Y:test_y})\n",
        "print('logit: ', _prob[:10], '\\nAccuracy: ', _accuracy)\n",
        "sess.close()\n"
      ],
      "execution_count": 19,
      "outputs": [
        {
          "output_type": "stream",
          "text": [
            "logit:  [[0.6077302 ]\n",
            " [0.46143475]\n",
            " [0.46142948]\n",
            " [0.20072547]\n",
            " [0.9743958 ]\n",
            " [0.6593118 ]\n",
            " [0.35063604]\n",
            " [0.46954417]\n",
            " [0.4363027 ]\n",
            " [0.99743146]] \n",
            "Accuracy:  0.6042524\n"
          ],
          "name": "stdout"
        }
      ]
    },
    {
      "cell_type": "markdown",
      "metadata": {
        "id": "7aCjm2BNHc5c",
        "colab_type": "text"
      },
      "source": [
        "# Appendix: And OR Gate 구현하기"
      ]
    },
    {
      "cell_type": "code",
      "metadata": {
        "id": "erU6IJ1OHp8D",
        "colab_type": "code",
        "colab": {}
      },
      "source": [
        "#@title 필요 Package import\n",
        "\n",
        "import os\n",
        "import csv\n",
        "import numpy as np\n",
        "import tensorflow as tf\n",
        "\n",
        "tf.random.set_random_seed(100)"
      ],
      "execution_count": 0,
      "outputs": []
    },
    {
      "cell_type": "markdown",
      "metadata": {
        "id": "f3Xwgju9zJw1",
        "colab_type": "text"
      },
      "source": [
        "# 정답\n",
        "\n"
      ]
    },
    {
      "cell_type": "code",
      "metadata": {
        "id": "1N1f0-myzg0U",
        "colab_type": "code",
        "colab": {}
      },
      "source": [
        "#@title 데이터 준비\n",
        "\n",
        "num_epochs = 2000\n",
        "learning_rate = 1e-2\n",
        "\n",
        "x_data = [ [1., 0., 0.], # bias를위한 1 추가\n",
        "          [1., 0., 1.],\n",
        "          [1., 1., 0.],\n",
        "          [1., 1., 1.]]\n",
        "\n",
        "y_data_and = [[0], [0], [0], [1]]\n",
        "y_data_or = [[0], [1], [1], [1]]\n",
        "\n",
        "X = tf.placeholder(tf.float32, shape=[None, 3])\n",
        "Y = tf.placeholder(tf.float32, shape=[None, 1])"
      ],
      "execution_count": 0,
      "outputs": []
    },
    {
      "cell_type": "code",
      "metadata": {
        "id": "2lxdPs6t0AC1",
        "colab_type": "code",
        "colab": {}
      },
      "source": [
        "#@title 모델 생성\n",
        "W = tf.Variable(tf.random_normal([3, 1]), name='weight')\n",
        "b = tf.Variable(tf.random_normal([1]), name='bias')\n",
        "\n",
        "# model prediction \n",
        "logit = tf.matmul(X, W) + b\n",
        "prob = tf.sigmoid(logit)\n",
        "\n",
        "# Loss 및 학습법 정의\n",
        "epsilon = 1e-10\n",
        "loss = -tf.reduce_mean(Y * tf.log(prob + epsilon) + (1 - Y)*tf.log((1-prob) + epsilon))\n",
        "train = tf.train.GradientDescentOptimizer(learning_rate= learning_rate).minimize(loss)\n",
        "\n",
        "#평가 방법\n",
        "pred = tf.cast(prob > 0.5, dtype=tf.float32)\n",
        "correct = tf.cast(tf.equal(pred, Y), dtype=tf.float32)\n",
        "Accuracy = tf.reduce_mean(correct)"
      ],
      "execution_count": 0,
      "outputs": []
    },
    {
      "cell_type": "code",
      "metadata": {
        "id": "VD4kdbd50Ang",
        "colab_type": "code",
        "colab": {
          "base_uri": "https://localhost:8080/",
          "height": 377
        },
        "outputId": "0c360636-75d2-4102-ed91-5062d0bb446c"
      },
      "source": [
        "#@title 모델 학습\n",
        "\n",
        "sess = tf.Session()\n",
        "sess.run(tf.global_variables_initializer())\n",
        "\n",
        "for step in range(1, num_epochs+1):\n",
        "    loss_val, training = sess.run([loss, train], feed_dict={X: x_data, Y: y_data_and})\n",
        "\n",
        "    if step % 100 == 0:\n",
        "        print('step: ', step, 'loss: ', loss_val)"
      ],
      "execution_count": 59,
      "outputs": [
        {
          "output_type": "stream",
          "text": [
            "step:  100 loss:  0.75107586\n",
            "step:  200 loss:  0.7056655\n",
            "step:  300 loss:  0.66839194\n",
            "step:  400 loss:  0.63560486\n",
            "step:  500 loss:  0.60594845\n",
            "step:  600 loss:  0.57883227\n",
            "step:  700 loss:  0.5539292\n",
            "step:  800 loss:  0.5310072\n",
            "step:  900 loss:  0.5098734\n",
            "step:  1000 loss:  0.4903569\n",
            "step:  1100 loss:  0.4723027\n",
            "step:  1200 loss:  0.45557034\n",
            "step:  1300 loss:  0.44003272\n",
            "step:  1400 loss:  0.4255755\n",
            "step:  1500 loss:  0.41209602\n",
            "step:  1600 loss:  0.39950234\n",
            "step:  1700 loss:  0.38771248\n",
            "step:  1800 loss:  0.3766529\n",
            "step:  1900 loss:  0.36625838\n",
            "step:  2000 loss:  0.3564703\n"
          ],
          "name": "stdout"
        }
      ]
    },
    {
      "cell_type": "code",
      "metadata": {
        "id": "J_cszQun2Hjx",
        "colab_type": "code",
        "colab": {
          "base_uri": "https://localhost:8080/",
          "height": 107
        },
        "outputId": "cf45f360-680c-4fcd-f946-adfdab4eaa11"
      },
      "source": [
        "#@title 모델 평가\n",
        "_prob, _pred, _accuracy = sess.run([prob, pred, Accuracy], feed_dict={X: x_data, Y:y_data_and})\n",
        "print('logit: ', _prob, '\\nAccuracy: ', _accuracy)\n",
        "sess.close()"
      ],
      "execution_count": 60,
      "outputs": [
        {
          "output_type": "stream",
          "text": [
            "logit:  [[0.11341632]\n",
            " [0.2917149 ]\n",
            " [0.23937859]\n",
            " [0.5032877 ]] \n",
            "Accuracy:  1.0\n"
          ],
          "name": "stdout"
        }
      ]
    },
    {
      "cell_type": "code",
      "metadata": {
        "id": "aOteAd5B2sGo",
        "colab_type": "code",
        "colab": {}
      },
      "source": [
        ""
      ],
      "execution_count": 0,
      "outputs": []
    }
  ]
}