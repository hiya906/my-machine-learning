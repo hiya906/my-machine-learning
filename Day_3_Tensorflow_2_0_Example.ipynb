{
  "nbformat": 4,
  "nbformat_minor": 0,
  "metadata": {
    "colab": {
      "name": "Day 3. Tensorflow 2.0 Example.ipynb",
      "version": "0.3.2",
      "provenance": [],
      "collapsed_sections": [],
      "include_colab_link": true
    },
    "kernelspec": {
      "name": "python3",
      "display_name": "Python 3"
    }
  },
  "cells": [
    {
      "cell_type": "markdown",
      "metadata": {
        "id": "view-in-github",
        "colab_type": "text"
      },
      "source": [
        "<a href=\"https://colab.research.google.com/github/hiya906/my-machine-learning/blob/master/Day_3_Tensorflow_2_0_Example.ipynb\" target=\"_parent\"><img src=\"https://colab.research.google.com/assets/colab-badge.svg\" alt=\"Open In Colab\"/></a>"
      ]
    },
    {
      "cell_type": "markdown",
      "metadata": {
        "id": "LARUfu9e4p0t",
        "colab_type": "text"
      },
      "source": [
        "# **사용법**\n",
        "\n",
        "1.   우측 상단 '로그인'\n",
        "2.   좌측 상단 '실습 모드에서 열기'\n",
        "\n",
        "\n",
        "※ 각각의 셀은 셀 좌측 상단 실행 버튼을 통해 실행할 수 있습니다.\n",
        "\n",
        "※ 실행 중 '경고: 이 노트는 Google에서 작성하지 않았습니다.'라는 창이 뜰 경우, '실행 전에 모든 런타임 재설정'란에 체크 후 '무시하고 계속하기'를 하시면 됩니다."
      ]
    },
    {
      "cell_type": "markdown",
      "metadata": {
        "id": "AcSxJjmt6Tb8",
        "colab_type": "text"
      },
      "source": [
        "# Tensorflow 2.0 Example\n",
        "\n",
        "Tensorflow 2.0 API => https://www.tensorflow.org/versions/r2.0/api_docs/python/tf?hl=ko \n",
        "\n",
        "## tensorflow 2.0 설치 및 import"
      ]
    },
    {
      "cell_type": "code",
      "metadata": {
        "id": "EQWoRJXQ608m",
        "colab_type": "code",
        "colab": {
          "base_uri": "https://localhost:8080/",
          "height": 521
        },
        "outputId": "c9ea0582-649a-433a-b3b6-0088c036323a"
      },
      "source": [
        "!pip install tensorflow-gpu==2.0.0-beta1\n",
        "import tensorflow as tf\n",
        "from tensorflow.keras.layers import Dense, Flatten, Conv2D\n",
        "from tensorflow.keras import Model"
      ],
      "execution_count": 1,
      "outputs": [
        {
          "output_type": "stream",
          "text": [
            "Collecting tensorflow-gpu==2.0.0-beta1\n",
            "\u001b[?25l  Downloading https://files.pythonhosted.org/packages/2b/53/e18c5e7a2263d3581a979645a185804782e59b8e13f42b9c3c3cfb5bb503/tensorflow_gpu-2.0.0b1-cp36-cp36m-manylinux1_x86_64.whl (348.9MB)\n",
            "\u001b[K     |████████████████████████████████| 348.9MB 55kB/s \n",
            "\u001b[?25hRequirement already satisfied: gast>=0.2.0 in /usr/local/lib/python3.6/dist-packages (from tensorflow-gpu==2.0.0-beta1) (0.2.2)\n",
            "Requirement already satisfied: termcolor>=1.1.0 in /usr/local/lib/python3.6/dist-packages (from tensorflow-gpu==2.0.0-beta1) (1.1.0)\n",
            "Requirement already satisfied: wheel>=0.26 in /usr/local/lib/python3.6/dist-packages (from tensorflow-gpu==2.0.0-beta1) (0.33.4)\n",
            "Requirement already satisfied: absl-py>=0.7.0 in /usr/local/lib/python3.6/dist-packages (from tensorflow-gpu==2.0.0-beta1) (0.7.1)\n",
            "Requirement already satisfied: protobuf>=3.6.1 in /usr/local/lib/python3.6/dist-packages (from tensorflow-gpu==2.0.0-beta1) (3.7.1)\n",
            "Requirement already satisfied: grpcio>=1.8.6 in /usr/local/lib/python3.6/dist-packages (from tensorflow-gpu==2.0.0-beta1) (1.15.0)\n",
            "Requirement already satisfied: astor>=0.6.0 in /usr/local/lib/python3.6/dist-packages (from tensorflow-gpu==2.0.0-beta1) (0.8.0)\n",
            "Requirement already satisfied: keras-applications>=1.0.6 in /usr/local/lib/python3.6/dist-packages (from tensorflow-gpu==2.0.0-beta1) (1.0.8)\n",
            "Requirement already satisfied: keras-preprocessing>=1.0.5 in /usr/local/lib/python3.6/dist-packages (from tensorflow-gpu==2.0.0-beta1) (1.1.0)\n",
            "Collecting tb-nightly<1.14.0a20190604,>=1.14.0a20190603 (from tensorflow-gpu==2.0.0-beta1)\n",
            "\u001b[?25l  Downloading https://files.pythonhosted.org/packages/a4/96/571b875cd81dda9d5dfa1422a4f9d749e67c0a8d4f4f0b33a4e5f5f35e27/tb_nightly-1.14.0a20190603-py3-none-any.whl (3.1MB)\n",
            "\u001b[K     |████████████████████████████████| 3.1MB 35.8MB/s \n",
            "\u001b[?25hCollecting tf-estimator-nightly<1.14.0.dev2019060502,>=1.14.0.dev2019060501 (from tensorflow-gpu==2.0.0-beta1)\n",
            "\u001b[?25l  Downloading https://files.pythonhosted.org/packages/32/dd/99c47dd007dcf10d63fd895611b063732646f23059c618a373e85019eb0e/tf_estimator_nightly-1.14.0.dev2019060501-py2.py3-none-any.whl (496kB)\n",
            "\u001b[K     |████████████████████████████████| 501kB 46.0MB/s \n",
            "\u001b[?25hRequirement already satisfied: six>=1.10.0 in /usr/local/lib/python3.6/dist-packages (from tensorflow-gpu==2.0.0-beta1) (1.12.0)\n",
            "Requirement already satisfied: numpy<2.0,>=1.14.5 in /usr/local/lib/python3.6/dist-packages (from tensorflow-gpu==2.0.0-beta1) (1.16.4)\n",
            "Requirement already satisfied: google-pasta>=0.1.6 in /usr/local/lib/python3.6/dist-packages (from tensorflow-gpu==2.0.0-beta1) (0.1.7)\n",
            "Requirement already satisfied: wrapt>=1.11.1 in /usr/local/lib/python3.6/dist-packages (from tensorflow-gpu==2.0.0-beta1) (1.11.2)\n",
            "Requirement already satisfied: setuptools in /usr/local/lib/python3.6/dist-packages (from protobuf>=3.6.1->tensorflow-gpu==2.0.0-beta1) (41.0.1)\n",
            "Requirement already satisfied: h5py in /usr/local/lib/python3.6/dist-packages (from keras-applications>=1.0.6->tensorflow-gpu==2.0.0-beta1) (2.8.0)\n",
            "Requirement already satisfied: werkzeug>=0.11.15 in /usr/local/lib/python3.6/dist-packages (from tb-nightly<1.14.0a20190604,>=1.14.0a20190603->tensorflow-gpu==2.0.0-beta1) (0.15.5)\n",
            "Requirement already satisfied: markdown>=2.6.8 in /usr/local/lib/python3.6/dist-packages (from tb-nightly<1.14.0a20190604,>=1.14.0a20190603->tensorflow-gpu==2.0.0-beta1) (3.1.1)\n",
            "Installing collected packages: tb-nightly, tf-estimator-nightly, tensorflow-gpu\n",
            "Successfully installed tb-nightly-1.14.0a20190603 tensorflow-gpu-2.0.0b1 tf-estimator-nightly-1.14.0.dev2019060501\n"
          ],
          "name": "stdout"
        }
      ]
    },
    {
      "cell_type": "markdown",
      "metadata": {
        "id": "ZfXXV8M662tM",
        "colab_type": "text"
      },
      "source": [
        "## tf.data.Dataset 객체 활용하기"
      ]
    },
    {
      "cell_type": "code",
      "metadata": {
        "id": "3k6gdPd76LGK",
        "colab_type": "code",
        "colab": {
          "base_uri": "https://localhost:8080/",
          "height": 89
        },
        "outputId": "809f03b1-9db8-4de4-eeea-fe9396030304"
      },
      "source": [
        "(x_train, y_train), (x_test, y_test) = tf.keras.datasets.mnist.load_data()\n",
        "x_train, x_test = x_train / 255.0, x_test / 255.0\n",
        "\n",
        "print(x_train.shape, x_test.shape)\n",
        "x_train = x_train[..., tf.newaxis]\n",
        "x_test = x_test[..., tf.newaxis]\n",
        "print(x_train.shape, x_test.shape)\n",
        "\n",
        "train_ds = tf.data.Dataset.from_tensor_slices(\n",
        "    (x_train, y_train)).shuffle(10000).batch(32)\n",
        "test_ds = tf.data.Dataset.from_tensor_slices((x_test, y_test)).batch(32)\n"
      ],
      "execution_count": 2,
      "outputs": [
        {
          "output_type": "stream",
          "text": [
            "Downloading data from https://storage.googleapis.com/tensorflow/tf-keras-datasets/mnist.npz\n",
            "11493376/11490434 [==============================] - 0s 0us/step\n",
            "(60000, 28, 28) (10000, 28, 28)\n",
            "(60000, 28, 28, 1) (10000, 28, 28, 1)\n"
          ],
          "name": "stdout"
        }
      ]
    },
    {
      "cell_type": "markdown",
      "metadata": {
        "id": "Q2y3FP7x6znY",
        "colab_type": "text"
      },
      "source": [
        "## tf.keras API 모델 만들기\n",
        "\n",
        "\n",
        " ![대체 텍스트](https://postfiles.pstatic.net/MjAxOTA3MjFfMTkz/MDAxNTYzNzEwNDI4ODUy.9yzokK56bxXvT482dBeu5XYvJvI0jiIyV34mtI4cOBAg.SYmNQn3WiVrHNQJBQdr3FEzbJaXcMbbV67ozUXJoTVIg.PNG.er2357/Sample.png?type=w773)\n",
        "\n",
        "\n"
      ]
    },
    {
      "cell_type": "code",
      "metadata": {
        "id": "pkoensyK6ywn",
        "colab_type": "code",
        "colab": {}
      },
      "source": [
        "class MyModel(tf.keras.Model):\n",
        "  # __init__() 함수는 객체가 생성되면 자동으로 실행되는 함수입니다.\n",
        "  # 예를 들어, 아래와 같이 객체를 생성한 후\n",
        "  # model = MyModel() <-- __init__()함수가 호출됨\n",
        "  # __init__() 함수에선 모델을 구성하는 layer들을 정의합니다.\n",
        "  def __init__(self):\n",
        "    super(MyModel, self).__init__()\n",
        "    self.conv1 = tf.keras.layers.Conv2D(32, 3, activation='relu')\n",
        "    self.flatten = tf.keras.layers.Flatten()\n",
        "    self.d1 = tf.keras.layers.Dense(128, activation='relu')\n",
        "    self.d2 = tf.keras.layers.Dense(10, activation='softmax')\n",
        "    \n",
        "  # call 함수는 객체 생성후 객체가 함수의 형태로 호출되면 자동으로 실행되는 함수입니다.\n",
        "  # 예를 들어, 아래와 같이 객체를 생성한 후\n",
        "  # model = MyModel()\n",
        "  # model(x) <-- call()함수가 호출됨\n",
        "  # call 함수에선 __init__() 함수에서 생성한 layer들의 순서를 조정합니다.\n",
        "  def call(self, x):\n",
        "    x = self.conv1(x)\n",
        "    x = self.flatten(x)\n",
        "    x = self.d1(x)\n",
        "    return self.d2(x)\n",
        "\n",
        "model = MyModel()"
      ],
      "execution_count": 0,
      "outputs": []
    },
    {
      "cell_type": "markdown",
      "metadata": {
        "id": "Hp7t3npX7m0Q",
        "colab_type": "text"
      },
      "source": [
        "## tf.keras API 손실함수와 옵티마이저 함수 선택하기"
      ]
    },
    {
      "cell_type": "code",
      "metadata": {
        "id": "-8kvcgAW7rMf",
        "colab_type": "code",
        "colab": {}
      },
      "source": [
        "loss_object = tf.keras.losses.SparseCategoricalCrossentropy(from_logits=True, reduction='none')\n",
        "\n",
        "optimizer = tf.keras.optimizers.Adam()\n",
        "\n",
        "train_loss = tf.keras.metrics.Mean(name='train_loss')\n",
        "train_accuracy = tf.keras.metrics.SparseCategoricalAccuracy(name='train_accuracy')\n",
        "\n",
        "test_loss = tf.keras.metrics.Mean(name='test_loss')\n",
        "test_accuracy = tf.keras.metrics.SparseCategoricalAccuracy(name='test_accuracy')\n"
      ],
      "execution_count": 0,
      "outputs": []
    },
    {
      "cell_type": "markdown",
      "metadata": {
        "id": "Q-GuMFz57vUc",
        "colab_type": "text"
      },
      "source": [
        "## tf.keras API 모델 훈련 방법 정의\n"
      ]
    },
    {
      "cell_type": "code",
      "metadata": {
        "id": "ZT10Fk-L75rt",
        "colab_type": "code",
        "colab": {}
      },
      "source": [
        "@tf.function\n",
        "def train_step(images, labels):\n",
        "  # 아래 tf.GradientTape 안에서 실행된 모든 연산을 테이프에 \"기록\"합니다.\n",
        "  with tf.GradientTape() as tape:\n",
        "    predictions = model(images)\n",
        "    loss = loss_object(labels, predictions)\n",
        "  \n",
        "  # 테이프 내에 기록된 연산에 대한 gradient를 계산합니다.\n",
        "  gradients = tape.gradient(loss, model.trainable_variables)\n",
        "  \n",
        "  # 옵티마이저로 계산한 gradient를 모델 변수에 적용합니다.\n",
        "  optimizer.apply_gradients(zip(gradients, model.trainable_variables))\n",
        "  \n",
        "  # 앞서 정의한 손실함수로 손실을 계산합니다.\n",
        "  train_loss(loss)\n",
        "  \n",
        "  # 모델의 정확도를 평가합니다.\n",
        "  train_accuracy(labels, predictions)\n"
      ],
      "execution_count": 0,
      "outputs": []
    },
    {
      "cell_type": "markdown",
      "metadata": {
        "id": "iN-43e-A71ey",
        "colab_type": "text"
      },
      "source": [
        "## tf.keras API 모델 테스트 방법 정의"
      ]
    },
    {
      "cell_type": "code",
      "metadata": {
        "id": "ffsjGoEN8Gou",
        "colab_type": "code",
        "colab": {}
      },
      "source": [
        "@tf.function\n",
        "def test_step(images, labels):\n",
        "  \tpredictions = model(images)\n",
        "  \tt_loss = loss_object(labels, predictions)\n",
        "\n",
        "  \ttest_loss(t_loss)\n",
        "  \ttest_accuracy(labels, predictions)\n"
      ],
      "execution_count": 0,
      "outputs": []
    },
    {
      "cell_type": "markdown",
      "metadata": {
        "id": "LSWLj9ID8KHi",
        "colab_type": "text"
      },
      "source": [
        "## tf.keras API 모델 학습 및 테스트"
      ]
    },
    {
      "cell_type": "code",
      "metadata": {
        "id": "30BPjQ4D8MMn",
        "colab_type": "code",
        "colab": {
          "base_uri": "https://localhost:8080/",
          "height": 107
        },
        "outputId": "1731c458-eb57-4867-f986-79c39e5e526f"
      },
      "source": [
        "EPOCHS = 5\n",
        "for epoch in range(EPOCHS):\n",
        "  for images, labels in train_ds:\n",
        "    train_step(images, labels)\n",
        "  for test_images, test_labels in test_ds:\n",
        "    test_step(test_images, test_labels)\n",
        "  template = '에포크: {}, 손실: {}, 정확도: {}, 테스트 손실: {}, 테스트 정확도: {}'\n",
        "  print(template.format(epoch+1,\ttrain_loss.result(), train_accuracy.result()*100, test_loss.result(), test_accuracy.result()*100))\n"
      ],
      "execution_count": 7,
      "outputs": [
        {
          "output_type": "stream",
          "text": [
            "에포크: 1, 손실: 1.6518089771270752, 정확도: 81.02833557128906, 테스트 손실: 1.5877132415771484, 테스트 정확도: 87.33999633789062\n",
            "에포크: 2, 손실: 1.5816655158996582, 정확도: 88.05583190917969, 테스트 손실: 1.537205457687378, 테스트 정확도: 92.45999908447266\n",
            "에포크: 3, 손실: 1.5469955205917358, 정확도: 91.51277160644531, 테스트 손실: 1.5187485218048096, 테스트 정확도: 94.29666137695312\n",
            "에포크: 4, 손실: 1.528463363647461, 정확도: 93.3558349609375, 테스트 손실: 1.5089844465255737, 테스트 정확도: 95.24749755859375\n",
            "에포크: 5, 손실: 1.516891598701477, 정확도: 94.50466918945312, 테스트 손실: 1.5035581588745117, 테스트 정확도: 95.80199432373047\n"
          ],
          "name": "stdout"
        }
      ]
    },
    {
      "cell_type": "code",
      "metadata": {
        "id": "Avy33R-Ib8yq",
        "colab_type": "code",
        "colab": {}
      },
      "source": [
        ""
      ],
      "execution_count": 0,
      "outputs": []
    }
  ]
}