{
  "nbformat": 4,
  "nbformat_minor": 0,
  "metadata": {
    "colab": {
      "name": "Day 5. Unsupervised_Learning_and_TensorFlow.ipynb",
      "version": "0.3.2",
      "provenance": [],
      "collapsed_sections": [
        "byJzQYggCxfU",
        "hDpe0oKtjtKr",
        "t7FzyUJWIVa7",
        "ODldO-EMVvOK",
        "gO-9sXjDIVa-",
        "KNYZJy4pIVbC",
        "HBv5A10RIVbH",
        "zFQu9l1mbLUC",
        "c2MBqbBCIVbb",
        "uXcMofsLIVbp",
        "AYSaBNuyIVbr",
        "fikNcjTZIVbv",
        "WaGCUsGaIVby",
        "3gXlKyjkIVb1",
        "mxKMkpBZIVb4",
        "ggZnRzZUIVcG",
        "jivZNQnWdHYl",
        "Odo_W1XXIVcM",
        "j8bR2mwZPJz_",
        "gn_2bwmPQ_TD",
        "LhiZVaESR1S_",
        "8Iu16YqnS6KQ",
        "VuryCJY5IVcU",
        "xOjgLc8GIVcV",
        "NWJCT0n6IVcg",
        "Sft6AAeTIVck",
        "1e_uVo1fIVcr",
        "8EzzNRoihrL9",
        "dtrgZBnLIVcv",
        "cFXCgOrLIVc9",
        "NWoCSiOPhwW2"
      ],
      "include_colab_link": true
    },
    "language_info": {
      "codemirror_mode": {
        "name": "ipython",
        "version": 3
      },
      "file_extension": ".py",
      "mimetype": "text/x-python",
      "name": "python",
      "nbconvert_exporter": "python",
      "pygments_lexer": "ipython3",
      "version": "3.6.5"
    },
    "kernelspec": {
      "display_name": "Python 3",
      "language": "python",
      "name": "python3"
    }
  },
  "cells": [
    {
      "cell_type": "markdown",
      "metadata": {
        "id": "view-in-github",
        "colab_type": "text"
      },
      "source": [
        "<a href=\"https://colab.research.google.com/github/hiya906/my-machine-learning/blob/master/Day_5_Unsupervised_Learning_and_TensorFlow.ipynb\" target=\"_parent\"><img src=\"https://colab.research.google.com/assets/colab-badge.svg\" alt=\"Open In Colab\"/></a>"
      ]
    },
    {
      "cell_type": "markdown",
      "metadata": {
        "id": "byJzQYggCxfU",
        "colab_type": "text"
      },
      "source": [
        "#사용법\n",
        "\n",
        "1. 우측 상단 '로그인'\n",
        "\n",
        "2. 좌측 상단 '실습 모드에서 열기'\n",
        "\n",
        "※ 각각의 셀은 셀 좌측 상단 실행 버튼을 통해 실행할 수 있습니다.\n",
        "\n",
        "※ 실행 중 '경고: 이 노트는 Google에서 작성하지 않았습니다.'라는 창이 뜰 경우, '실행 전에 모든 런타임 재설정'란에 체크 후 '무시하고 계속하기'를 하시면 됩니다."
      ]
    },
    {
      "cell_type": "markdown",
      "metadata": {
        "id": "hDpe0oKtjtKr",
        "colab_type": "text"
      },
      "source": [
        "# 질문이 있으시다면...\n",
        "\n",
        "아래의 메일주소로 연락주시면 답변드리겠습니다!\n",
        "\n",
        "최민진(zxcvxd@skku.edu)"
      ]
    },
    {
      "cell_type": "markdown",
      "metadata": {
        "id": "t7FzyUJWIVa7",
        "colab_type": "text"
      },
      "source": [
        "# Unsupervised Learning 1 - Classification\n",
        "### * K-means & DBSCAN\n",
        "### * Scikit-Learn을 활용하여 쉽게 사용할 수 있습니다"
      ]
    },
    {
      "cell_type": "markdown",
      "metadata": {
        "id": "ODldO-EMVvOK",
        "colab_type": "text"
      },
      "source": [
        "## 시각화를 위한 함수정의입니다. \n",
        "\n",
        "실행시켜 주세요"
      ]
    },
    {
      "cell_type": "code",
      "metadata": {
        "id": "6Lf9hytMh0wc",
        "colab_type": "code",
        "colab": {}
      },
      "source": [
        "import numpy as np\n",
        "import matplotlib as mpl\n",
        "import matplotlib.pyplot as plt\n",
        "from matplotlib.colors import ListedColormap, colorConverter, LinearSegmentedColormap\n",
        "from sklearn.decomposition import PCA, NMF\n",
        "from sklearn.externals.joblib import Memory\n",
        "\n",
        "memory = Memory(cachedir=\"cache\")\n",
        "\n",
        "cm_cycle = ListedColormap(['#0000aa', '#ff5050', '#50ff50', '#9040a0', '#fff000'])\n",
        "cm3 = ListedColormap(['#0000aa', '#ff2020', '#50ff50'])\n",
        "cm2 = ListedColormap(['#0000aa', '#ff2020'])\n",
        "\n",
        "# create a smooth transition from the first to to the second color of cm3\n",
        "# similar to RdBu but with our red and blue, also not going through white,\n",
        "# which is really bad for greyscale\n",
        "\n",
        "cdict = {'red': [(0.0, 0.0, cm2(0)[0]),\n",
        "                 (1.0, cm2(1)[0], 1.0)],\n",
        "\n",
        "         'green': [(0.0, 0.0, cm2(0)[1]),\n",
        "                   (1.0, cm2(1)[1], 1.0)],\n",
        "\n",
        "         'blue': [(0.0, 0.0, cm2(0)[2]),\n",
        "                  (1.0, cm2(1)[2], 1.0)]}\n",
        "\n",
        "ReBl = LinearSegmentedColormap(\"ReBl\", cdict)\n",
        "\n",
        "\n",
        "def discrete_scatter(x1, x2, y=None, markers=None, s=10, ax=None,\n",
        "                     labels=None, padding=.2, alpha=1, c=None, markeredgewidth=None):\n",
        "    \"\"\"Adaption of matplotlib.pyplot.scatter to plot classes or clusters.\n",
        "    Parameters\n",
        "    ----------\n",
        "    x1 : nd-array\n",
        "        input data, first axis\n",
        "    x2 : nd-array\n",
        "        input data, second axis\n",
        "    y : nd-array\n",
        "        input data, discrete labels\n",
        "    cmap : colormap\n",
        "        Colormap to use.\n",
        "    markers : list of string\n",
        "        List of markers to use, or None (which defaults to 'o').\n",
        "    s : int or float\n",
        "        Size of the marker\n",
        "    padding : float\n",
        "        Fraction of the dataset range to use for padding the axes.\n",
        "    alpha : float\n",
        "        Alpha value for all points.\n",
        "    \"\"\"\n",
        "    if ax is None:\n",
        "        ax = plt.gca()\n",
        "\n",
        "    if y is None:\n",
        "        y = np.zeros(len(x1))\n",
        "\n",
        "    unique_y = np.unique(y)\n",
        "\n",
        "    if markers is None:\n",
        "        markers = ['o', '^', 'v', 'D', 's', '*', 'p', 'h', 'H', '8', '<', '>'] * 10\n",
        "\n",
        "    if len(markers) == 1:\n",
        "        markers = markers * len(unique_y)\n",
        "\n",
        "    if labels is None:\n",
        "        labels = unique_y\n",
        "\n",
        "    # lines in the matplotlib sense, not actual lines\n",
        "    lines = []\n",
        "\n",
        "    current_cycler = mpl.rcParams['axes.prop_cycle']\n",
        "\n",
        "    for i, (yy, cycle) in enumerate(zip(unique_y, current_cycler())):\n",
        "        mask = y == yy\n",
        "        # if c is none, use color cycle\n",
        "        if c is None:\n",
        "            color = cycle['color']\n",
        "        elif len(c) > 1:\n",
        "            color = c[i]\n",
        "        else:\n",
        "            color = c\n",
        "        # use light edge for dark markers\n",
        "        if np.mean(colorConverter.to_rgb(color)) < .4:\n",
        "            markeredgecolor = \"grey\"\n",
        "        else:\n",
        "            markeredgecolor = \"black\"\n",
        "\n",
        "        lines.append(ax.plot(x1[mask], x2[mask], markers[i], markersize=s,\n",
        "                             label=labels[i], alpha=alpha, c=color,\n",
        "                             markeredgewidth=markeredgewidth,\n",
        "                             markeredgecolor=markeredgecolor)[0])\n",
        "\n",
        "    if padding != 0:\n",
        "        pad1 = x1.std() * padding\n",
        "        pad2 = x2.std() * padding\n",
        "        xlim = ax.get_xlim()\n",
        "        ylim = ax.get_ylim()\n",
        "        ax.set_xlim(min(x1.min() - pad1, xlim[0]), max(x1.max() + pad1, xlim[1]))\n",
        "        ax.set_ylim(min(x2.min() - pad2, ylim[0]), max(x2.max() + pad2, ylim[1]))\n",
        "\n",
        "    return lines\n",
        "\n",
        "@memory.cache\n",
        "def pca_faces(X_train, X_test):\n",
        "    # copy and pasted from nmf. refactor?\n",
        "    # Build NMF models with 10, 50, 100, 500 components\n",
        "    # this list will hold the back-transformd test-data\n",
        "    reduced_images = []\n",
        "    for n_components in [10, 50, 100, 500]:\n",
        "        # build the NMF model\n",
        "        pca = PCA(n_components=n_components)\n",
        "        pca.fit(X_train)\n",
        "        # transform the test data (afterwards has n_components many dimensions)\n",
        "        X_test_pca = pca.transform(X_test)\n",
        "        # back-transform the transformed test-data\n",
        "        # (afterwards it's in the original space again)\n",
        "        X_test_back = pca.inverse_transform(X_test_pca)\n",
        "        reduced_images.append(X_test_back)\n",
        "    return reduced_images\n",
        "\n",
        "\n",
        "def plot_pca_faces(X_train, X_test, image_shape):\n",
        "    reduced_images = pca_faces(X_train, X_test)\n",
        "\n",
        "    # plot the first three images in the test set:\n",
        "    fix, axes = plt.subplots(3, 5, figsize=(15, 12),\n",
        "                             subplot_kw={'xticks': (), 'yticks': ()})\n",
        "    for i, ax in enumerate(axes):\n",
        "        # plot original image\n",
        "        ax[0].imshow(X_test[i].reshape(image_shape),\n",
        "                     vmin=0, vmax=1)\n",
        "        # plot the four back-transformed images\n",
        "        for a, X_test_back in zip(ax[1:], reduced_images):\n",
        "            a.imshow(X_test_back[i].reshape(image_shape), vmin=0, vmax=1)\n",
        "\n",
        "    # label the top row\n",
        "    axes[0, 0].set_title(\"Original\")\n",
        "    for ax, n_components in zip(axes[0, 1:], [10, 50, 100, 500, 2000]):\n",
        "        ax.set_title(\"Component = %d\" % n_components)\n",
        "\n",
        "\n",
        "def nmf_faces(X_train, X_test):\n",
        "    # Build NMF models with 10, 50, 100 and 500 components\n",
        "    # this list will hold the back-transformd test-data\n",
        "    reduced_images = []\n",
        "    for n_components in [10, 50, 100, 500]:\n",
        "        # build the NMF model\n",
        "        nmf = NMF(n_components=n_components, random_state=0)\n",
        "        nmf.fit(X_train)\n",
        "        # transform the test data (afterwards has n_components many dimensions)\n",
        "        X_test_nmf = nmf.transform(X_test)\n",
        "        # back-transform the transformed test-data\n",
        "        # (afterwards it's in the original space again)\n",
        "        X_test_back = np.dot(X_test_nmf, nmf.components_)\n",
        "        reduced_images.append(X_test_back)\n",
        "    return reduced_images\n",
        "\n",
        "\n",
        "def plot_nmf_faces(X_train, X_test, image_shape):\n",
        "    reduced_images = nmf_faces(X_train, X_test)\n",
        "\n",
        "    # plot the first three images in the test set:\n",
        "    fix, axes = plt.subplots(3, 5, figsize=(15, 12),\n",
        "                             subplot_kw={'xticks': (), 'yticks': ()})\n",
        "    for i, ax in enumerate(axes):\n",
        "        # plot original image\n",
        "        ax[0].imshow(X_test[i].reshape(image_shape),\n",
        "                     vmin=0, vmax=1)\n",
        "        # plot the four back-transformed images\n",
        "        for a, X_test_back in zip(ax[1:], reduced_images):\n",
        "            a.imshow(X_test_back[i].reshape(image_shape), vmin=0, vmax=1)\n",
        "\n",
        "    # label the top row\n",
        "    axes[0, 0].set_title(\"Original\")\n",
        "    for ax, n_components in zip(axes[0, 1:], [10, 50, 100, 500]):\n",
        "        ax.set_title(\"Component = %d\" % n_components)"
      ],
      "execution_count": 0,
      "outputs": []
    },
    {
      "cell_type": "markdown",
      "metadata": {
        "id": "gO-9sXjDIVa-",
        "colab_type": "text"
      },
      "source": [
        "## 1. Kmeans Classification"
      ]
    },
    {
      "cell_type": "markdown",
      "metadata": {
        "id": "KNYZJy4pIVbC",
        "colab_type": "text"
      },
      "source": [
        "### (1) 데이터 준비"
      ]
    },
    {
      "cell_type": "code",
      "metadata": {
        "scrolled": true,
        "id": "4LvJowQDIVbC",
        "colab_type": "code",
        "colab": {}
      },
      "source": [
        "from sklearn.datasets import make_blobs\n",
        "\n",
        "# 인위적으로 2차원 데이터를 생성합니다\n",
        "X, y = make_blobs(random_state=1)\n",
        "\n",
        "print(len(X), len(y))\n",
        "print(X[:10], y[:10])"
      ],
      "execution_count": 0,
      "outputs": []
    },
    {
      "cell_type": "code",
      "metadata": {
        "id": "A7HRu4XmIVbF",
        "colab_type": "code",
        "colab": {}
      },
      "source": [
        "# X, y를 그림으로 나타내면 다음과 같습니다.\n",
        "ax = plt.gca()\n",
        "ax.set_title(\"Input data\")\n",
        "ax.plot(X[:,0], X[:,1], 'o')\n",
        "\n",
        "ax.set_xlim(X[:,0].min() - X[:,0].std(), X[:,0].max() + X[:,0].std())\n",
        "ax.set_ylim(X[:,1].min() - X[:,1].std(), X[:,1].max() + X[:,1].std())"
      ],
      "execution_count": 0,
      "outputs": []
    },
    {
      "cell_type": "markdown",
      "metadata": {
        "id": "HBv5A10RIVbH",
        "colab_type": "text"
      },
      "source": [
        "### (2) K-means Algorithm\n",
        "\n"
      ]
    },
    {
      "cell_type": "code",
      "metadata": {
        "id": "uxuWKQXnaJ4f",
        "colab_type": "code",
        "colab": {}
      },
      "source": [
        "import numpy as np\n",
        "from sklearn.metrics import pairwise_distances\n",
        "import matplotlib.pyplot as plt\n",
        "\n",
        "#---------------None 부분을 작성해주세요!---------------\n",
        "cur_center = None\n",
        "\n",
        "prev_center = None\n",
        "\n",
        "# update가 일어나지 않을 때까지 반복합니다.\n",
        "while np.array_equal(prev_center, cur_center) == False :\n",
        "  dist = pairwise_distances(X, cur_center) # 각 데이터와 Center 사이의 거리를 계산합니다.\n",
        "  \n",
        "  # 데이터를 가장 가까운 center에 배치합니다.\n",
        "  labels = None\n",
        " \n",
        "  prev_center = cur_center # center를 업데이트하기 전, prev_center에 저장합니다.\n",
        "  \n",
        "  # center를 update합니다.\n",
        "  cur_center = None\n",
        "\n",
        "  \n",
        "# 데이터 시각화 부분입니다.  \n",
        "# cur_center = np.array(cur_center)\n",
        "# discrete_scatter(X[:,0],X[:,1], kmeans.labels_, markers='o')\n",
        "# discrete_scatter(cur_center[:,0], cur_center[:,1],[0,1,2], markers='^', markeredgewidth=3)"
      ],
      "execution_count": 0,
      "outputs": []
    },
    {
      "cell_type": "markdown",
      "metadata": {
        "id": "zFQu9l1mbLUC",
        "colab_type": "text"
      },
      "source": [
        "#### 정답 코드입니다."
      ]
    },
    {
      "cell_type": "code",
      "metadata": {
        "id": "_s8dKyY1W-tR",
        "colab_type": "code",
        "colab": {}
      },
      "source": [
        "cur_center = X[:3]\n",
        "\n",
        "prev_center = np.zeros_like(cur_center)\n",
        "\n",
        "\n",
        "while np.array_equal(prev_center, cur_center) == False :\n",
        "  dist = pairwise_distances(X, cur_center)\n",
        "  labels = np.argmin(dist, axis=1)\n",
        "  prev_center = cur_center\n",
        "  cur_center = [X[np.where(labels == i)].mean(axis=0) for i in range(3)]\n",
        "print(cur_center)\n",
        "  \n",
        "cur_center = np.array(cur_center)\n",
        "discrete_scatter(X[:,0],X[:,1], labels, markers='o')\n",
        "discrete_scatter(cur_center[:,0], cur_center[:,1],[0,1,2], markers='^', markeredgewidth=3)"
      ],
      "execution_count": 0,
      "outputs": []
    },
    {
      "cell_type": "markdown",
      "metadata": {
        "id": "c2MBqbBCIVbb",
        "colab_type": "text"
      },
      "source": [
        "### (3) Kmeans with Scikit-Learn"
      ]
    },
    {
      "cell_type": "code",
      "metadata": {
        "id": "xm_upVXrIVbc",
        "colab_type": "code",
        "colab": {}
      },
      "source": [
        "from sklearn.cluster import KMeans\n",
        "\n",
        "# 군집 모델을 만듭니다\n",
        "kmeans = KMeans(n_clusters=3)\n",
        "kmeans.fit(X)"
      ],
      "execution_count": 0,
      "outputs": []
    },
    {
      "cell_type": "code",
      "metadata": {
        "id": "65XGbOqDIVbj",
        "colab_type": "code",
        "colab": {}
      },
      "source": [
        "#실행결과 확인\n",
        "print(kmeans.labels_)\n",
        "print(kmeans.cluster_centers_)"
      ],
      "execution_count": 0,
      "outputs": []
    },
    {
      "cell_type": "code",
      "metadata": {
        "id": "ndE-l95rIVbm",
        "colab_type": "code",
        "colab": {}
      },
      "source": [
        "# 데이터를 그래프로 표현하기 위한 함수입니다.\n",
        "# def discrete_scatter(x1, x2, y=None, markers=None, s=10, ax=None, labels=None, padding=.2, alpha=1, c=None, markeredgewidth=None)\n",
        "# x1 : input data, first axis\n",
        "# x2 : input data, sexond axis\n",
        "# y : input data, discrete labels\n",
        "\n",
        "discrete_scatter(X[:,0],X[:,1], kmeans.labels_, markers='o')\n",
        "discrete_scatter(kmeans.cluster_centers_[:,0], kmeans.cluster_centers_[:,1],[0,1,2], markers='^', markeredgewidth=3)"
      ],
      "execution_count": 0,
      "outputs": []
    },
    {
      "cell_type": "markdown",
      "metadata": {
        "id": "uXcMofsLIVbp",
        "colab_type": "text"
      },
      "source": [
        "### (4) 실습"
      ]
    },
    {
      "cell_type": "markdown",
      "metadata": {
        "id": "AYSaBNuyIVbr",
        "colab_type": "text"
      },
      "source": [
        "#### 위의 예시를 참고해서, X, y를 적절히 분류해보세요"
      ]
    },
    {
      "cell_type": "code",
      "metadata": {
        "id": "X3V4AKmhIVbs",
        "colab_type": "code",
        "colab": {}
      },
      "source": [
        "X, y = make_blobs(centers=4, random_state=6)\n",
        "\n",
        "labels = np.zeros(len(X))\n",
        "#-----------------------------------------------------\n",
        "# 이 곳에 코드를 작성하세요.\n",
        "\n",
        "kmeans = KMeans()\n",
        "kmeans.fit(X)\n",
        "\n",
        "labels = kmeans.labels_\n",
        "#-----------------------------------------------------\n",
        "discrete_scatter(X[:,0],X[:,1], labels)"
      ],
      "execution_count": 0,
      "outputs": []
    },
    {
      "cell_type": "markdown",
      "metadata": {
        "id": "fikNcjTZIVbv",
        "colab_type": "text"
      },
      "source": [
        "## 2. DBSCAN"
      ]
    },
    {
      "cell_type": "code",
      "metadata": {
        "id": "M2m11bqAIVbw",
        "colab_type": "code",
        "colab": {}
      },
      "source": [
        "import numpy as np\n",
        "from sklearn.datasets import make_blobs\n",
        "from sklearn.cluster import DBSCAN"
      ],
      "execution_count": 0,
      "outputs": []
    },
    {
      "cell_type": "markdown",
      "metadata": {
        "id": "WaGCUsGaIVby",
        "colab_type": "text"
      },
      "source": [
        "### (1) 데이터 준비"
      ]
    },
    {
      "cell_type": "code",
      "metadata": {
        "id": "mckdqUraIVbz",
        "colab_type": "code",
        "colab": {}
      },
      "source": [
        "# 인위적으로 2차원 데이터를 생성합니다\n",
        "X, y = make_blobs(random_state=1)"
      ],
      "execution_count": 0,
      "outputs": []
    },
    {
      "cell_type": "markdown",
      "metadata": {
        "id": "3gXlKyjkIVb1",
        "colab_type": "text"
      },
      "source": [
        "### (2) DBSCAN 알고리즘 실행"
      ]
    },
    {
      "cell_type": "code",
      "metadata": {
        "id": "dEiGMq6-IVb1",
        "colab_type": "code",
        "colab": {}
      },
      "source": [
        "dbscan = DBSCAN()\n",
        "dbscan.fit(X)"
      ],
      "execution_count": 0,
      "outputs": []
    },
    {
      "cell_type": "markdown",
      "metadata": {
        "id": "mxKMkpBZIVb4",
        "colab_type": "text"
      },
      "source": [
        "### (3) 실행결과 확인"
      ]
    },
    {
      "cell_type": "code",
      "metadata": {
        "id": "P6iyaH4lIVb5",
        "colab_type": "code",
        "colab": {}
      },
      "source": [
        "print(dbscan.labels_)"
      ],
      "execution_count": 0,
      "outputs": []
    },
    {
      "cell_type": "code",
      "metadata": {
        "id": "rpqxP3LqIVcC",
        "colab_type": "code",
        "colab": {}
      },
      "source": [
        "discrete_scatter(X[:,0],X[:,1], dbscan.labels_)"
      ],
      "execution_count": 0,
      "outputs": []
    },
    {
      "cell_type": "markdown",
      "metadata": {
        "id": "ggZnRzZUIVcG",
        "colab_type": "text"
      },
      "source": [
        "## 3. 실습1_여러 데이터 분포위에서 군집화"
      ]
    },
    {
      "cell_type": "markdown",
      "metadata": {
        "id": "jivZNQnWdHYl",
        "colab_type": "text"
      },
      "source": [
        "### (1) DBSCAN의 파라미터(eps, min_samples)를 조정하여 데이터를 적절히 분류해보세요.\n",
        "\n",
        "ex. dbscan = DBSCAN(eps=0.5, min_samples=5)"
      ]
    },
    {
      "cell_type": "code",
      "metadata": {
        "id": "ikkgog0zIVcH",
        "colab_type": "code",
        "colab": {}
      },
      "source": [
        "X, y = make_blobs(random_state = 1)\n",
        "\n",
        "labels = np.zeros(len(X))\n",
        "#-----------------------------------------------------\n",
        "# 이 곳에 코드를 작성하세요.\n",
        "\n",
        "\n",
        "dbscan = DBSCAN()\n",
        "dbscan.fit(X)\n",
        "\n",
        "labels = dbscan.labels_\n",
        "\n",
        "#-----------------------------------------------------\n",
        "discrete_scatter(X[:,0],X[:,1], labels)"
      ],
      "execution_count": 0,
      "outputs": []
    },
    {
      "cell_type": "markdown",
      "metadata": {
        "id": "Odo_W1XXIVcM",
        "colab_type": "text"
      },
      "source": [
        "### (2) K-mean 혹은 DBSCAN을 활용하여 데이터를 분류해보세요"
      ]
    },
    {
      "cell_type": "code",
      "metadata": {
        "id": "Bzti6710dxUy",
        "colab_type": "code",
        "colab": {}
      },
      "source": [
        "from sklearn.datasets import make_circles\n",
        "X, y = make_circles()\n",
        "\n",
        "labels = np.zeros(len(X))\n",
        "#-----------------------------------------------------\n",
        "# 이 곳에 코드를 작성하세요.\n",
        "\n",
        "\n",
        "\n",
        "\n",
        "\n",
        "\n",
        "#-----------------------------------------------------\n",
        "discrete_scatter(X[:,0],X[:,1], labels)"
      ],
      "execution_count": 0,
      "outputs": []
    },
    {
      "cell_type": "code",
      "metadata": {
        "id": "DDtDMhYjd5Fc",
        "colab_type": "code",
        "colab": {}
      },
      "source": [
        "from sklearn.datasets import make_moons\n",
        "X, y = make_moons()\n",
        "\n",
        "labels = np.zeros(len(X))\n",
        "#-----------------------------------------------------\n",
        "# 이 곳에 코드를 작성하세요.\n",
        "\n",
        "\n",
        "\n",
        "\n",
        "\n",
        "#-----------------------------------------------------\n",
        "discrete_scatter(X[:,0],X[:,1], labels)"
      ],
      "execution_count": 0,
      "outputs": []
    },
    {
      "cell_type": "code",
      "metadata": {
        "id": "TlY0P4vOeaNJ",
        "colab_type": "code",
        "colab": {}
      },
      "source": [
        "from sklearn.datasets import make_gaussian_quantiles\n",
        "X, y = make_gaussian_quantiles()\n",
        "\n",
        "labels = np.zeros(len(X))\n",
        "#-----------------------------------------------------\n",
        "# 이 곳에 코드를 작성하세요.\n",
        "\n",
        "\n",
        "\n",
        "\n",
        "#-----------------------------------------------------\n",
        "discrete_scatter(X[:,0],X[:,1], labels)"
      ],
      "execution_count": 0,
      "outputs": []
    },
    {
      "cell_type": "markdown",
      "metadata": {
        "id": "j8bR2mwZPJz_",
        "colab_type": "text"
      },
      "source": [
        "## 4. 실습2_문서 군집화\n",
        "\n",
        "아래의 코드를 참고하였습니다.\n",
        "\n",
        "https://github.com/brenden17/clustering-docs/blob/master/kmeans.py\n",
        "\n",
        "\n",
        "\n",
        "데이터 파일을 왼쪽 '파일'란에 끌어서 업로드 해주세요.\n",
        "\n",
        "밑의 화면처럼 표시되면 됩니다.\n",
        "\n",
        "![파일 란_캡처](https://github.com/jin530/190428_unsupervised_tensorflow/blob/master/image/example2.PNG?raw=true)"
      ]
    },
    {
      "cell_type": "markdown",
      "metadata": {
        "id": "gn_2bwmPQ_TD",
        "colab_type": "text"
      },
      "source": [
        "### (1) 데이터 준비"
      ]
    },
    {
      "cell_type": "code",
      "metadata": {
        "id": "Gv8nktwHRC-C",
        "colab_type": "code",
        "colab": {}
      },
      "source": [
        "# 형태소 파일을 불러옵니다.\n",
        "files = ['/content/no1_noun.txt',\n",
        "           '/content/no2_noun.txt',\n",
        "           '/content/no3_noun.txt',\n",
        "           '/content/park1_noun.txt',\n",
        "           '/content/park2_noun.txt',\n",
        "           '/content/park3_noun.txt']\n",
        "\n",
        "# 각 파일을 read()하여 data라는 list에 넣어줍니다.\n",
        "data = []\n",
        "for file in files:\n",
        "  with open(file, 'r') as f:\n",
        "    rawdata = f.read()\n",
        "  data.append(rawdata)\n",
        "\n",
        "print(data[0])"
      ],
      "execution_count": 0,
      "outputs": []
    },
    {
      "cell_type": "markdown",
      "metadata": {
        "id": "LhiZVaESR1S_",
        "colab_type": "text"
      },
      "source": [
        "### (2) 데이터 전처리"
      ]
    },
    {
      "cell_type": "code",
      "metadata": {
        "id": "wqZny3sQR4c5",
        "colab_type": "code",
        "colab": {}
      },
      "source": [
        "from sklearn.feature_extraction.text import CountVectorizer, TfidfTransformer\n",
        "\n",
        "# 문서를 단어 등장 횟수의 행렬로 변환해줍니다.\n",
        "vectorizer = CountVectorizer(max_df=4, min_df=2)\n",
        "counts = vectorizer.fit_transform(data)\n",
        "print(counts.shape)"
      ],
      "execution_count": 0,
      "outputs": []
    },
    {
      "cell_type": "markdown",
      "metadata": {
        "id": "8Iu16YqnS6KQ",
        "colab_type": "text"
      },
      "source": [
        "### (3) Kmeans 군집화 실행"
      ]
    },
    {
      "cell_type": "code",
      "metadata": {
        "id": "ohGc3P40PM39",
        "colab_type": "code",
        "colab": {}
      },
      "source": [
        "from sklearn.cluster import KMeans\n",
        "\n",
        "km = KMeans(n_clusters=2)     \n",
        "km.fit(counts)\n",
        "print(km.labels_)"
      ],
      "execution_count": 0,
      "outputs": []
    },
    {
      "cell_type": "markdown",
      "metadata": {
        "id": "VuryCJY5IVcU",
        "colab_type": "text"
      },
      "source": [
        "# Unsupervised Learning 2 - Dimensionality Reduction\n",
        "### * PCA & NMF\n",
        "### * Scikit-Learn을 활용하여 쉽게 사용할 수 있습니다\n",
        "\n",
        "책 '파이썬 라이브러리를 활용한 머신러닝, 안드레아스 뮐러 외 1명'을 참고하였습니다."
      ]
    },
    {
      "cell_type": "markdown",
      "metadata": {
        "id": "xOjgLc8GIVcV",
        "colab_type": "text"
      },
      "source": [
        "## 1. 데이터 준비"
      ]
    },
    {
      "cell_type": "code",
      "metadata": {
        "id": "U6ylCzIJIVcW",
        "colab_type": "code",
        "colab": {}
      },
      "source": [
        "from sklearn.datasets import fetch_lfw_people\n",
        "import matplotlib.pyplot as plt\n",
        "\n",
        "\n",
        "# 2000년대 초반 이후의 정치인, 가수, 배우, 운동선수들의 얼굴을 포함하는 데이터셋입니다.\n",
        "lfw_people = fetch_lfw_people(min_faces_per_person=20, resize=0.7)\n",
        "\n",
        "fig, axes = plt.subplots(2, 5, figsize=(10, 5), \tsubplot_kw={'xticks':(), 'yticks':()})\n",
        "for target, image, ax in zip(lfw_people.target, lfw_people.images, axes.ravel()):\n",
        "    ax.imshow(image)\n",
        "    ax.set_title(lfw_people.target_names[target])"
      ],
      "execution_count": 0,
      "outputs": []
    },
    {
      "cell_type": "code",
      "metadata": {
        "scrolled": true,
        "id": "ffugAaKHIVcY",
        "colab_type": "code",
        "colab": {}
      },
      "source": [
        "print(lfw_people.data.shape) # 데이터가 어떤 형태인지\n",
        "print(lfw_people.images.shape) # 데이터를 이미지로 변환했을때 어떤 형태인지\n",
        "print(lfw_people.target.shape) # 데이터의 정답이 어떤 형태인지\n",
        "print(len(lfw_people.target_names)) # 데이터가 총 몇명의 얼굴로 구성되어 있는지"
      ],
      "execution_count": 0,
      "outputs": []
    },
    {
      "cell_type": "code",
      "metadata": {
        "id": "rNtQai90IVca",
        "colab_type": "code",
        "colab": {}
      },
      "source": [
        "import numpy as np\n",
        "lfw_counts = np.bincount(lfw_people.target) # 각 클래스별 빈도 계산\n",
        "for (name, count) in zip(lfw_people.target_names, lfw_counts):\n",
        "    print(\"{0:25} {1:4}\".format(name, count)) # (이름, 빈도 수) 출력"
      ],
      "execution_count": 0,
      "outputs": []
    },
    {
      "cell_type": "code",
      "metadata": {
        "id": "TwtOspzOIVcc",
        "colab_type": "code",
        "colab": {}
      },
      "source": [
        "# 각 사람당 최대 50개의 이미지만 사용합니다.\n",
        "mask = np.zeros(lfw_people.target.shape, dtype=np.bool)\n",
        "for target in np.unique(lfw_people.target):\n",
        "    mask[np.where(lfw_people.target==target)[0][:50]] = True \n",
        "\n",
        "#데이터의 수가 3023개에서 2063개로 줄게 됩니다.\n",
        "X_people = lfw_people.data[mask]\n",
        "y_people = lfw_people.target[mask]\n",
        "X_people = X_people/255\t # 픽셀 크기를 0~1 사이로 조정\n",
        "print(X_people.shape) # output = (2063, 5655)\n",
        "print(y_people.shape) # output = (2063,)"
      ],
      "execution_count": 0,
      "outputs": []
    },
    {
      "cell_type": "code",
      "metadata": {
        "id": "jv9EhGXEIVce",
        "colab_type": "code",
        "colab": {}
      },
      "source": [
        "from sklearn.model_selection import train_test_split\n",
        "\n",
        "#기본 비율을 train:test = 3:1 이며, test_size, train_size라는 인자를 통해 조절할 수 있습니다.\n",
        "X_train, X_test, y_train, y_test = train_test_split(X_people, y_people, random_state=0)"
      ],
      "execution_count": 0,
      "outputs": []
    },
    {
      "cell_type": "markdown",
      "metadata": {
        "id": "NWJCT0n6IVcg",
        "colab_type": "text"
      },
      "source": [
        "## 2-2. PCA 알고리즘 실행"
      ]
    },
    {
      "cell_type": "code",
      "metadata": {
        "id": "YHS_yZtBIVch",
        "colab_type": "code",
        "colab": {}
      },
      "source": [
        "from sklearn.decomposition import PCA\n",
        "\n",
        "# train 데이터를 통해 PCA를 훈련시켜, 주성분을 추출합니다. \n",
        "pca=PCA(n_components=100, whiten=True, random_state=0).fit(X_train)\n",
        "\n",
        "X_train_pca = pca.transform(X_train) # X_train에 차원축소 방법인 PCA 적용 \n",
        "X_test_pca = pca.transform(X_test) # X_test에 차원축소 방법인 PCA 적용 \n",
        "print(X_train_pca.shape)\n",
        "print(X_test_pca.shape)\n",
        "\n",
        "X_train_back = pca.inverse_transform(X_train_pca) # X_train_pca를 원래 데이터로 복구 \n",
        "X_test_back = pca.inverse_transform(X_test_pca) # X_test_pca를 원래 데이터로 복구 \n",
        "print(X_train_back.shape)\n",
        "print(X_test_back.shape)"
      ],
      "execution_count": 0,
      "outputs": []
    },
    {
      "cell_type": "markdown",
      "metadata": {
        "id": "Sft6AAeTIVck",
        "colab_type": "text"
      },
      "source": [
        "### 실행결과 확인"
      ]
    },
    {
      "cell_type": "code",
      "metadata": {
        "id": "KhSrbwgzIVck",
        "colab_type": "code",
        "colab": {}
      },
      "source": [
        "# pca.components_를 통해 PCA의 주성분을 확인할 수 있습니다.\n",
        "\n",
        "import matplotlib.pyplot as plt\n",
        "fig, axes = plt.subplots(2, 5, figsize=(10, 5), \tsubplot_kw={'xticks':(), 'yticks':()})\n",
        "\n",
        "image_shape = lfw_people.images[0].shape\t # output = (87, 65)\n",
        "\n",
        "for i, (component, ax) in enumerate(zip(pca.components_,axes.ravel())):\n",
        "    ax.imshow(component.reshape(image_shape))\n",
        "    ax.set_title(\"PCA {}\".format((i+1)))"
      ],
      "execution_count": 0,
      "outputs": []
    },
    {
      "cell_type": "code",
      "metadata": {
        "id": "vLGIK0UrIVcm",
        "colab_type": "code",
        "colab": {}
      },
      "source": [
        "# Train 데이터가 pca를 통해 잘 복원되는지 확인합니다.\n",
        "\n",
        "fig, axes = plt.subplots(2, 5, figsize=(10, 5), \tsubplot_kw={'xticks':(), 'yticks':()})\n",
        "for i, (component, ax) in enumerate(zip(X_train, axes.ravel())):\n",
        "    ax.imshow(component.reshape(image_shape))\n",
        "    ax.set_title(\"Original {}\".format((i+1)))\n",
        "\n",
        "fig, axes = plt.subplots(2, 5, figsize=(10, 5), \tsubplot_kw={'xticks':(), 'yticks':()})\n",
        "for i, (component, ax) in enumerate(zip(X_train_back, axes.ravel())):\n",
        "    ax.imshow(component.reshape(image_shape))\n",
        "    ax.set_title(\"Reconsturcted {}\".format((i+1)))"
      ],
      "execution_count": 0,
      "outputs": []
    },
    {
      "cell_type": "code",
      "metadata": {
        "id": "MyKT9cyHIVcn",
        "colab_type": "code",
        "colab": {}
      },
      "source": [
        "# Test 데이터가 pca를 통해 잘 복원되는지 확인합니다.\n",
        "\n",
        "\n",
        "fig, axes = plt.subplots(2, 5, figsize=(10, 5), \tsubplot_kw={'xticks':(), 'yticks':()})\n",
        "for i, (component, ax) in enumerate(zip(X_test,axes.ravel())):\n",
        "    ax.imshow(component.reshape(image_shape))\n",
        "    ax.set_title(\"Original {}\".format((i+1)))\n",
        "\n",
        "fig, axes = plt.subplots(2, 5, figsize=(10, 5), \tsubplot_kw={'xticks':(), 'yticks':()})\n",
        "for i, (component, ax) in enumerate(zip(X_test_back,axes.ravel())):\n",
        "    ax.imshow(component.reshape(image_shape))\n",
        "    ax.set_title(\"Reconsturcted {}\".format((i+1)))"
      ],
      "execution_count": 0,
      "outputs": []
    },
    {
      "cell_type": "code",
      "metadata": {
        "id": "fLZwMwjCIVcq",
        "colab_type": "code",
        "colab": {}
      },
      "source": [
        "plot_pca_faces(X_train, X_test, image_shape)"
      ],
      "execution_count": 0,
      "outputs": []
    },
    {
      "cell_type": "markdown",
      "metadata": {
        "id": "1e_uVo1fIVcr",
        "colab_type": "text"
      },
      "source": [
        "## 2-1. NMF 알고리즘 실행\n",
        "\n",
        "https://scikit-learn.org/stable/modules/generated/sklearn.decomposition.NMF.html"
      ]
    },
    {
      "cell_type": "code",
      "metadata": {
        "id": "PVYwkz43IVcs",
        "colab_type": "code",
        "colab": {}
      },
      "source": [
        "from sklearn.decomposition import NMF\n",
        "\n",
        "# n_components 는 PCA와 동일하게 해주세요.\n",
        "nmf=None\n",
        "\n",
        "X_train_nmf = None\n",
        "X_test_nmf = None\n",
        "# print(X_train_nmf.shape)\n",
        "# print(X_test_nmf.shape)\n",
        "\n",
        "X_train_back = None\n",
        "X_test_back = None\n",
        "# print(X_train_back.shape)\n",
        "# print(X_test_back.shape)"
      ],
      "execution_count": 0,
      "outputs": []
    },
    {
      "cell_type": "markdown",
      "metadata": {
        "id": "8EzzNRoihrL9",
        "colab_type": "text"
      },
      "source": [
        "### 정답코드 입니다."
      ]
    },
    {
      "cell_type": "code",
      "metadata": {
        "id": "-qDg_UJDhu-p",
        "colab_type": "code",
        "colab": {}
      },
      "source": [
        "from sklearn.decomposition import NMF\n",
        "\n",
        "# train 데이터를 통해 NMF 모델을 학습시킵니다.\n",
        "nmf = None\n",
        "\n",
        "X_train_nmf = nmf.transform(X_train) # X_train에 차원축소 방법인 NMF 적용 \n",
        "X_test_nmf = nmf.transform(X_test) # X_test에 차원축소 방법인 NMF 적용 \n",
        "print(X_train_nmf.shape)\n",
        "print(X_test_nmf.shape)\n",
        "\n",
        "X_train_back = nmf.inverse_transform(X_train_nmf) # X_train_nmf를 원래 데이터로 복구 \n",
        "X_test_back = nmf.inverse_transform(X_test_nmf) # X_test_nmf를 원래 데이터로 복구 \n",
        "print(X_train_back.shape)\n",
        "print(X_test_back.shape)"
      ],
      "execution_count": 0,
      "outputs": []
    },
    {
      "cell_type": "markdown",
      "metadata": {
        "id": "dtrgZBnLIVcv",
        "colab_type": "text"
      },
      "source": [
        "### 실행결과 확인"
      ]
    },
    {
      "cell_type": "code",
      "metadata": {
        "scrolled": true,
        "id": "CRveoxHoIVcv",
        "colab_type": "code",
        "colab": {}
      },
      "source": [
        "fig, axes = plt.subplots(2, 5, figsize=(10, 5), subplot_kw={'xticks':(), 'yticks':()})\n",
        "\n",
        "for i, (component, ax) in enumerate(zip(nmf.components_, axes.ravel())):\n",
        "    ax.imshow(component.reshape(image_shape))\n",
        "    ax.set_title(\"NMF {}\".format((i)))"
      ],
      "execution_count": 0,
      "outputs": []
    },
    {
      "cell_type": "code",
      "metadata": {
        "id": "-VK8yLanIVc2",
        "colab_type": "code",
        "colab": {}
      },
      "source": [
        "fig, axes = plt.subplots(2, 5, figsize=(10, 5), \tsubplot_kw={'xticks':(), 'yticks':()})\n",
        "for i, (component, ax) in enumerate(zip(X_train,axes.ravel())):\n",
        "    ax.imshow(component.reshape(image_shape))\n",
        "    ax.set_title(\"Original {}\".format((i+1)))\n",
        "\n",
        "fig, axes = plt.subplots(2, 5, figsize=(10, 5), \tsubplot_kw={'xticks':(), 'yticks':()})\n",
        "for i, (component, ax) in enumerate(zip(X_train_back,axes.ravel())):\n",
        "    ax.imshow(component.reshape(image_shape))\n",
        "    ax.set_title(\"Reconsturcted {}\".format((i+1)))"
      ],
      "execution_count": 0,
      "outputs": []
    },
    {
      "cell_type": "code",
      "metadata": {
        "id": "jASyVQ6jIVc4",
        "colab_type": "code",
        "colab": {}
      },
      "source": [
        "fig, axes = plt.subplots(2, 5, figsize=(10, 5), \tsubplot_kw={'xticks':(), 'yticks':()})\n",
        "for i, (component, ax) in enumerate(zip(X_test,axes.ravel())):\n",
        "    ax.imshow(component.reshape(image_shape))\n",
        "    ax.set_title(\"Original {}\".format((i+1)))\n",
        "\n",
        "fig, axes = plt.subplots(2, 5, figsize=(10, 5), \tsubplot_kw={'xticks':(), 'yticks':()})\n",
        "for i, (component, ax) in enumerate(zip(X_test_back,axes.ravel())):\n",
        "    ax.imshow(component.reshape(image_shape))\n",
        "    ax.set_title(\"Reconsturcted {}\".format((i+1)))"
      ],
      "execution_count": 0,
      "outputs": []
    },
    {
      "cell_type": "code",
      "metadata": {
        "id": "g8f-6pWjIVc7",
        "colab_type": "code",
        "colab": {}
      },
      "source": [
        "plot_nmf_faces(X_train, X_test, image_shape) # time: 8.8min"
      ],
      "execution_count": 0,
      "outputs": []
    },
    {
      "cell_type": "markdown",
      "metadata": {
        "id": "cFXCgOrLIVc9",
        "colab_type": "text"
      },
      "source": [
        "## 3. PCA & NMF 종합"
      ]
    },
    {
      "cell_type": "code",
      "metadata": {
        "id": "WdW3Yg2JIVc-",
        "colab_type": "code",
        "colab": {}
      },
      "source": [
        "# 각 모델에서 특성을 추출하여 시각화 하는 코드입니다.\n",
        "\n",
        "fig, axes = plt.subplots(2, 5, figsize=(10, 5), subplot_kw={'xticks': (), 'yticks':()})\n",
        "for ax, fe_pca, fe_nmf in zip(axes.T, pca.components_, nmf.components_):\n",
        "    ax[0].imshow(fe_pca.reshape(image_shape))\n",
        "    ax[1].imshow(fe_nmf.reshape(image_shape))\n",
        "\n",
        "axes[0,0].set_ylabel(\"PCA\")\n",
        "axes[1,0].set_ylabel(\"NMF\")"
      ],
      "execution_count": 0,
      "outputs": []
    },
    {
      "cell_type": "code",
      "metadata": {
        "id": "nlVbAMPvIVdA",
        "colab_type": "code",
        "colab": {}
      },
      "source": [
        "# 각 모델이 재구성한 이미지를 시각화하는 코드입니다.\n",
        "\n",
        "X_reconstructed_pca=pca.inverse_transform(pca.transform(X_test))\n",
        "X_reconstructed_nmf=np.dot(nmf.transform(X_test), nmf.components_)\n",
        "\n",
        "fig, axes=plt.subplots(3, 5, figsize=(10, 8), subplot_kw={'xticks': (),'yticks':()})\n",
        "for ax, ori, ir_pca, ir_nmf in zip(axes.T, X_test, X_reconstructed_pca,X_reconstructed_nmf):\n",
        "    ax[0].imshow(ori.reshape(image_shape))\n",
        "    ax[1].imshow(ir_pca.reshape(image_shape))\n",
        "    ax[2].imshow(ir_nmf.reshape(image_shape))\n",
        "\n",
        "axes[0,0].set_ylabel(\"Original\")\n",
        "axes[1,0].set_ylabel(\"PCA\")\n",
        "axes[2,0].set_ylabel(\"NMF\")"
      ],
      "execution_count": 0,
      "outputs": []
    },
    {
      "cell_type": "markdown",
      "metadata": {
        "id": "NWoCSiOPhwW2",
        "colab_type": "text"
      },
      "source": [
        "# 추가실습\n",
        "\n",
        "MNIST 데이터를 군집화해보세요\n",
        "\n",
        "주의) 100% 정확도로 군집화하기는 어렵습니다. "
      ]
    },
    {
      "cell_type": "code",
      "metadata": {
        "id": "1ByyK5g9hv8P",
        "colab_type": "code",
        "colab": {}
      },
      "source": [
        "from sklearn.datasets import load_digits\n",
        "\n",
        "MNIST = load_digits()\n",
        "\n",
        "y_pred = np.random.randint(10, size = MNIST.data.shape[0])\n",
        "\n",
        "#--------------------------------------\n",
        "# y_pred에 새로운 clustering 결과를 할당해주세요!\n",
        "\n",
        "\n",
        "\n",
        "#--------------------------------------\n",
        "\n",
        "\n",
        "# 실제 정답과 분류 결과를 비교합니다.\n",
        "from sklearn.metrics import confusion_matrix\n",
        "\n",
        "print(confusion_matrix(digits.target, y_pred))\n",
        "\n",
        "\n",
        "# 분류가 잘 되었는지 시각화 할 수 있는 부분입니다.\n",
        "def show_digits(images, labels):\n",
        "    f = plt.figure(figsize=(8, 2))\n",
        "    i = 0\n",
        "    while (i < 10 and i < images.shape[0]):\n",
        "        ax = f.add_subplot(1, 10, i + 1)\n",
        "        ax.imshow(images[i], cmap=plt.cm.bone)\n",
        "        ax.grid(False)\n",
        "        ax.set_title(labels[i])\n",
        "        ax.xaxis.set_ticks([])\n",
        "        ax.yaxis.set_ticks([])\n",
        "        plt.tight_layout()\n",
        "        i += 1\n",
        "        \n",
        "def show_cluster(images, y_pred, cluster_number):\n",
        "    images = images[y_pred == cluster_number]\n",
        "    y_pred = y_pred[y_pred == cluster_number]\n",
        "    show_digits(images, y_pred)\n",
        "    \n",
        "\n",
        "for i in range(10):\n",
        "    show_cluster(digits.images, y_pred, i)"
      ],
      "execution_count": 0,
      "outputs": []
    }
  ]
}