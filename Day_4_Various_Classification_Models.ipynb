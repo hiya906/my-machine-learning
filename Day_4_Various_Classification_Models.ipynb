{
  "nbformat": 4,
  "nbformat_minor": 0,
  "metadata": {
    "colab": {
      "name": "Day 4. Various Classification Models.ipynb",
      "version": "0.3.2",
      "provenance": [],
      "collapsed_sections": [
        "I9GLNSu0-FCc",
        "GIxpyjl0FOB-",
        "SjSIS652HyDq",
        "LXyWwPccH4K7"
      ],
      "toc_visible": true,
      "include_colab_link": true
    },
    "kernelspec": {
      "name": "python3",
      "display_name": "Python 3"
    }
  },
  "cells": [
    {
      "cell_type": "markdown",
      "metadata": {
        "id": "view-in-github",
        "colab_type": "text"
      },
      "source": [
        "<a href=\"https://colab.research.google.com/github/hiya906/my-machine-learning/blob/master/Day_4_Various_Classification_Models.ipynb\" target=\"_parent\"><img src=\"https://colab.research.google.com/assets/colab-badge.svg\" alt=\"Open In Colab\"/></a>"
      ]
    },
    {
      "cell_type": "markdown",
      "metadata": {
        "id": "8u2um4_RSyxA",
        "colab_type": "text"
      },
      "source": [
        "#사용법\n",
        "\n",
        "1. 우측 상단 '로그인'\n",
        "\n",
        "2. 좌측 상단 '실습 모드에서 열기'\n",
        "\n",
        "※ 각각의 셀은 셀 좌측 상단 실행 버튼을 통해 실행할 수 있습니다.\n",
        "\n",
        "※ 실행 중 '경고: 이 노트는 Google에서 작성하지 않았습니다.'라는 창이 뜰 경우, '실행 전에 모든 런타임 재설정'란에 체크 후 '무시하고 계속하기'를 하시면 됩니다."
      ]
    },
    {
      "cell_type": "markdown",
      "metadata": {
        "id": "VO7wvRYzxM8D",
        "colab_type": "text"
      },
      "source": [
        "# 1. Decision Tree"
      ]
    },
    {
      "cell_type": "markdown",
      "metadata": {
        "id": "SGPMM-UtxPn3",
        "colab_type": "text"
      },
      "source": [
        "## 와인 데이터 로드\n",
        "\n",
        "load_wine() 으로 와인 데이터셋을 로드하여 와인의 종류를 예측해본다. \n"
      ]
    },
    {
      "cell_type": "code",
      "metadata": {
        "id": "qXMqhwZDzhjT",
        "colab_type": "code",
        "colab": {}
      },
      "source": [
        "from sklearn.datasets import load_wine\n",
        "\n",
        "# 와인 데이터를 불러옵니다.\n",
        "data = load_wine()\n",
        "\n",
        "# 데이터에 대한 자세한 정보를 볼 수 있습니다.\n",
        "print(data.DESCR)\n",
        "\n",
        "# x: 독립변수(attribute)를 저장합니다.\n",
        "# y: 종속변수(class)를 저장합니다.\n",
        "x = data.data\n",
        "y = data.target"
      ],
      "execution_count": 0,
      "outputs": []
    },
    {
      "cell_type": "markdown",
      "metadata": {
        "id": "wK168tYt1Eoa",
        "colab_type": "text"
      },
      "source": [
        "## 트레이닝, 테스트 데이터 분리"
      ]
    },
    {
      "cell_type": "code",
      "metadata": {
        "id": "7UiGx9AS1NKf",
        "colab_type": "code",
        "colab": {}
      },
      "source": [
        "import numpy as np\n",
        "\n",
        "# Test를 해볼 인덱스를 0부터 (데이터개수-1)까지를 한번 random하게 섞는다.\n",
        "test_ids = np.random.permutation(len(x))\n",
        "\n",
        "x_train = x[test_ids[:-10]]\n",
        "x_test = x[test_ids[-10:]]\n",
        " \n",
        "y_train = y[test_ids[:-10]]\n",
        "y_test = y[test_ids[-10:]]"
      ],
      "execution_count": 0,
      "outputs": []
    },
    {
      "cell_type": "markdown",
      "metadata": {
        "id": "FajGjMqc11jx",
        "colab_type": "text"
      },
      "source": [
        "## 모델 정의"
      ]
    },
    {
      "cell_type": "code",
      "metadata": {
        "id": "lQilZtWJ14Lt",
        "colab_type": "code",
        "colab": {}
      },
      "source": [
        "from sklearn.tree import DecisionTreeClassifier\n",
        "\n",
        "model = DecisionTreeClassifier(max_depth=10, max_leaf_nodes=50, random_state=0)"
      ],
      "execution_count": 0,
      "outputs": []
    },
    {
      "cell_type": "markdown",
      "metadata": {
        "id": "NaE7y2i12L03",
        "colab_type": "text"
      },
      "source": [
        "## 모델 학습 및 예측"
      ]
    },
    {
      "cell_type": "code",
      "metadata": {
        "id": "VeOEN1K82Nkt",
        "colab_type": "code",
        "colab": {}
      },
      "source": [
        "model.fit(x_train, y_train)\n",
        "\n",
        "pred = model.predict(x_test)"
      ],
      "execution_count": 0,
      "outputs": []
    },
    {
      "cell_type": "markdown",
      "metadata": {
        "id": "NzBTfoV42UUU",
        "colab_type": "text"
      },
      "source": [
        "## 모델 평가\n",
        "Evaluation metric: Accuracy (정확도)"
      ]
    },
    {
      "cell_type": "code",
      "metadata": {
        "id": "HGKE3n1N2e3b",
        "colab_type": "code",
        "outputId": "cd481695-2d2f-44c0-ce37-c8b8ff4f7aea",
        "colab": {
          "base_uri": "https://localhost:8080/",
          "height": 34
        }
      },
      "source": [
        "from sklearn.metrics import accuracy_score\n",
        "\n",
        "print(\"accuracy: %.6f\" % accuracy_score(y_true=y_test, y_pred=pred))"
      ],
      "execution_count": 0,
      "outputs": [
        {
          "output_type": "stream",
          "text": [
            "accuracy: 0.900000\n"
          ],
          "name": "stdout"
        }
      ]
    },
    {
      "cell_type": "markdown",
      "metadata": {
        "id": "9vtiUYjQ20tw",
        "colab_type": "text"
      },
      "source": [
        "## 모델 분석: 시각화\n",
        "\n",
        "graphviz를 사용하여 생성된 트리를 그래프로 관찰합니다.\n",
        "\n",
        "graphviz 설치방법\n",
        "- pip install graphviz"
      ]
    },
    {
      "cell_type": "code",
      "metadata": {
        "id": "qfx930OO3cSV",
        "colab_type": "code",
        "outputId": "5ba4c26f-0946-4550-a2b2-4ee9b3556c6b",
        "colab": {
          "base_uri": "https://localhost:8080/",
          "height": 34
        }
      },
      "source": [
        "from sklearn.tree import export_graphviz\n",
        "import graphviz\n",
        "\n",
        "dot_data = export_graphviz(model, out_file=None, feature_names=data.feature_names)\n",
        "graph = graphviz.Source(dot_data)\n",
        "graph.format='png'\n",
        "graph.render(filename=\"tree\")"
      ],
      "execution_count": 0,
      "outputs": [
        {
          "output_type": "execute_result",
          "data": {
            "text/plain": [
              "'tree.png'"
            ]
          },
          "metadata": {
            "tags": []
          },
          "execution_count": 27
        }
      ]
    },
    {
      "cell_type": "markdown",
      "metadata": {
        "id": "sSC3YE5K6BJb",
        "colab_type": "text"
      },
      "source": [
        "## 실습 1. 스팸메일 판단 (20 minute practice)\n",
        "\n",
        "데이터 파일을 왼쪽 '파일'란에 끌어서 업로드 해주세요.\n",
        "\n",
        "스팸메일 데이터는 아래와 같습니다.\n",
        "- Spam_train.csv\n",
        "- Spam_test.csv\n",
        "\n",
        "\n",
        "'**아래에 코드를 작성해주세요**' 칸에 코드를 작성해주시면 됩니다."
      ]
    },
    {
      "cell_type": "code",
      "metadata": {
        "id": "R0kjVGBV6618",
        "colab_type": "code",
        "outputId": "2e50fc58-2cba-4316-f2a5-26479dab833c",
        "colab": {
          "base_uri": "https://localhost:8080/",
          "height": 130
        }
      },
      "source": [
        "from sklearn.metrics import accuracy_score\n",
        "from sklearn.tree import export_graphviz\n",
        "from sklearn.tree import DecisionTreeClassifier\n",
        "import pandas as pd\n",
        "import numpy as np\n",
        "import graphviz\n",
        "\n",
        "\n",
        "def main():\n",
        "\n",
        "    train_input = pd.read_csv(\"sample_data/Spam_train.csv\")\n",
        "    \n",
        "    ####################### 아래에 코드를 작성해주세요 #######################\n",
        "    \n",
        "    # 0. 테스트 데이터를 불러오세요!\n",
        "    \n",
        "    test_input = \n",
        "    \n",
        "    ##########################################################################\n",
        "\n",
        "    print(train_input.head())\n",
        "\n",
        "    x_train = np.array(train_input.loc[:, train_input.columns != 'spam'])\n",
        "    x_test = np.array(test_input.loc[:, test_input.columns != 'spam'])\n",
        "    \n",
        "    y_train = np.array(train_input['spam'])\n",
        "    y_test = np.array(test_input['spam'])\n",
        "    \n",
        "    ####################### 아래에 코드를 작성해주세요 #######################\n",
        "    \n",
        "    # 1. 모델 정의\n",
        "     \n",
        "\n",
        "    # 2. 모델 학습\n",
        "\n",
        "    \n",
        "    # 3. 모델 예측\n",
        "\n",
        "\n",
        "    ##########################################################################\n",
        "    \n",
        "    print(\"accuracy: %.6f\" % accuracy_score(y_true=y_test, y_pred=pred))\n",
        "    \n",
        "    \n",
        "\n",
        "    ####################### 아래에 코드를 작성해주세요 #######################\n",
        "\n",
        "    # 4. 모델 분석: 시각화하기\n",
        "    \n",
        "    dot_data =\n",
        "    \n",
        "    ##########################################################################\n",
        " \n",
        "    graph = graphviz.Source(dot_data)\n",
        "    graph.format = 'png'\n",
        "    graph.render(filename='spam_tree')\n",
        "    \n",
        "\n",
        "if __name__ == \"__main__\":\n",
        "    main()"
      ],
      "execution_count": 0,
      "outputs": [
        {
          "output_type": "error",
          "ename": "SyntaxError",
          "evalue": "ignored",
          "traceback": [
            "\u001b[0;36m  File \u001b[0;32m\"<ipython-input-28-f659629cc85c>\"\u001b[0;36m, line \u001b[0;32m17\u001b[0m\n\u001b[0;31m    test_input =\u001b[0m\n\u001b[0m                 ^\u001b[0m\n\u001b[0;31mSyntaxError\u001b[0m\u001b[0;31m:\u001b[0m invalid syntax\n"
          ]
        }
      ]
    },
    {
      "cell_type": "markdown",
      "metadata": {
        "id": "I9GLNSu0-FCc",
        "colab_type": "text"
      },
      "source": [
        "### 실습 1. 정답코드입니다"
      ]
    },
    {
      "cell_type": "code",
      "metadata": {
        "id": "_jFkmeq8-H4f",
        "colab_type": "code",
        "cellView": "both",
        "outputId": "dd6e3943-9196-47f8-ed6a-2f9447f15205",
        "colab": {
          "base_uri": "https://localhost:8080/",
          "height": 409
        }
      },
      "source": [
        "from sklearn.metrics import accuracy_score\n",
        "from sklearn.tree import export_graphviz\n",
        "from sklearn.tree import DecisionTreeClassifier\n",
        "import pandas as pd\n",
        "import numpy as np\n",
        "import graphviz\n",
        "\n",
        "\n",
        "def main():\n",
        "\n",
        "    train_input = pd.read_csv(\"sample_data/Spam_train.csv\")\n",
        "    test_input = pd.read_csv(\"sample_data/Spam_test.csv\")\n",
        "\n",
        "    print(train_input.head())\n",
        "\n",
        "    x_train = np.array(train_input.loc[:, train_input.columns != 'spam'])\n",
        "    y_train = np.array(train_input['spam'])\n",
        "    x_test = np.array(test_input.loc[:, test_input.columns != 'spam'])\n",
        "    y_test = np.array(test_input['spam'])\n",
        "\n",
        "    model = DecisionTreeClassifier(random_state=0, max_leaf_nodes=50)\n",
        "\n",
        "    model.fit(x_train, y_train)\n",
        "    pred = model.predict(x_test)\n",
        "\n",
        "    print(\"accuracy: %.6f\" % accuracy_score(y_true=y_test, y_pred=pred))\n",
        "\n",
        "    dot_data = export_graphviz(model, out_file=None, feature_names=train_input.columns[0:57])\n",
        "    graph = graphviz.Source(dot_data)\n",
        "    graph.format = 'png'\n",
        "    graph.render(filename=\"spam_tree\")\n",
        "\n",
        "if __name__ == \"__main__\":\n",
        "    main()"
      ],
      "execution_count": 0,
      "outputs": [
        {
          "output_type": "error",
          "ename": "FileNotFoundError",
          "evalue": "ignored",
          "traceback": [
            "\u001b[0;31m---------------------------------------------------------------------------\u001b[0m",
            "\u001b[0;31mFileNotFoundError\u001b[0m                         Traceback (most recent call last)",
            "\u001b[0;32m<ipython-input-9-27a3c8d022f1>\u001b[0m in \u001b[0;36m<module>\u001b[0;34m()\u001b[0m\n\u001b[1;32m     32\u001b[0m \u001b[0;34m\u001b[0m\u001b[0m\n\u001b[1;32m     33\u001b[0m \u001b[0;32mif\u001b[0m \u001b[0m__name__\u001b[0m \u001b[0;34m==\u001b[0m \u001b[0;34m\"__main__\"\u001b[0m\u001b[0;34m:\u001b[0m\u001b[0;34m\u001b[0m\u001b[0;34m\u001b[0m\u001b[0m\n\u001b[0;32m---> 34\u001b[0;31m     \u001b[0mmain\u001b[0m\u001b[0;34m(\u001b[0m\u001b[0;34m)\u001b[0m\u001b[0;34m\u001b[0m\u001b[0;34m\u001b[0m\u001b[0m\n\u001b[0m",
            "\u001b[0;32m<ipython-input-9-27a3c8d022f1>\u001b[0m in \u001b[0;36mmain\u001b[0;34m()\u001b[0m\n\u001b[1;32m      9\u001b[0m \u001b[0;32mdef\u001b[0m \u001b[0mmain\u001b[0m\u001b[0;34m(\u001b[0m\u001b[0;34m)\u001b[0m\u001b[0;34m:\u001b[0m\u001b[0;34m\u001b[0m\u001b[0;34m\u001b[0m\u001b[0m\n\u001b[1;32m     10\u001b[0m \u001b[0;34m\u001b[0m\u001b[0m\n\u001b[0;32m---> 11\u001b[0;31m     \u001b[0mtrain_input\u001b[0m \u001b[0;34m=\u001b[0m \u001b[0mpd\u001b[0m\u001b[0;34m.\u001b[0m\u001b[0mread_csv\u001b[0m\u001b[0;34m(\u001b[0m\u001b[0;34m\"sample_data/Spam_train.csv\"\u001b[0m\u001b[0;34m)\u001b[0m\u001b[0;34m\u001b[0m\u001b[0;34m\u001b[0m\u001b[0m\n\u001b[0m\u001b[1;32m     12\u001b[0m     \u001b[0mtest_input\u001b[0m \u001b[0;34m=\u001b[0m \u001b[0mpd\u001b[0m\u001b[0;34m.\u001b[0m\u001b[0mread_csv\u001b[0m\u001b[0;34m(\u001b[0m\u001b[0;34m\"sample_data/Spam_test.csv\"\u001b[0m\u001b[0;34m)\u001b[0m\u001b[0;34m\u001b[0m\u001b[0;34m\u001b[0m\u001b[0m\n\u001b[1;32m     13\u001b[0m \u001b[0;34m\u001b[0m\u001b[0m\n",
            "\u001b[0;32m/usr/local/lib/python3.6/dist-packages/pandas/io/parsers.py\u001b[0m in \u001b[0;36mparser_f\u001b[0;34m(filepath_or_buffer, sep, delimiter, header, names, index_col, usecols, squeeze, prefix, mangle_dupe_cols, dtype, engine, converters, true_values, false_values, skipinitialspace, skiprows, skipfooter, nrows, na_values, keep_default_na, na_filter, verbose, skip_blank_lines, parse_dates, infer_datetime_format, keep_date_col, date_parser, dayfirst, iterator, chunksize, compression, thousands, decimal, lineterminator, quotechar, quoting, doublequote, escapechar, comment, encoding, dialect, tupleize_cols, error_bad_lines, warn_bad_lines, delim_whitespace, low_memory, memory_map, float_precision)\u001b[0m\n\u001b[1;32m    700\u001b[0m                     skip_blank_lines=skip_blank_lines)\n\u001b[1;32m    701\u001b[0m \u001b[0;34m\u001b[0m\u001b[0m\n\u001b[0;32m--> 702\u001b[0;31m         \u001b[0;32mreturn\u001b[0m \u001b[0m_read\u001b[0m\u001b[0;34m(\u001b[0m\u001b[0mfilepath_or_buffer\u001b[0m\u001b[0;34m,\u001b[0m \u001b[0mkwds\u001b[0m\u001b[0;34m)\u001b[0m\u001b[0;34m\u001b[0m\u001b[0;34m\u001b[0m\u001b[0m\n\u001b[0m\u001b[1;32m    703\u001b[0m \u001b[0;34m\u001b[0m\u001b[0m\n\u001b[1;32m    704\u001b[0m     \u001b[0mparser_f\u001b[0m\u001b[0;34m.\u001b[0m\u001b[0m__name__\u001b[0m \u001b[0;34m=\u001b[0m \u001b[0mname\u001b[0m\u001b[0;34m\u001b[0m\u001b[0;34m\u001b[0m\u001b[0m\n",
            "\u001b[0;32m/usr/local/lib/python3.6/dist-packages/pandas/io/parsers.py\u001b[0m in \u001b[0;36m_read\u001b[0;34m(filepath_or_buffer, kwds)\u001b[0m\n\u001b[1;32m    427\u001b[0m \u001b[0;34m\u001b[0m\u001b[0m\n\u001b[1;32m    428\u001b[0m     \u001b[0;31m# Create the parser.\u001b[0m\u001b[0;34m\u001b[0m\u001b[0;34m\u001b[0m\u001b[0;34m\u001b[0m\u001b[0m\n\u001b[0;32m--> 429\u001b[0;31m     \u001b[0mparser\u001b[0m \u001b[0;34m=\u001b[0m \u001b[0mTextFileReader\u001b[0m\u001b[0;34m(\u001b[0m\u001b[0mfilepath_or_buffer\u001b[0m\u001b[0;34m,\u001b[0m \u001b[0;34m**\u001b[0m\u001b[0mkwds\u001b[0m\u001b[0;34m)\u001b[0m\u001b[0;34m\u001b[0m\u001b[0;34m\u001b[0m\u001b[0m\n\u001b[0m\u001b[1;32m    430\u001b[0m \u001b[0;34m\u001b[0m\u001b[0m\n\u001b[1;32m    431\u001b[0m     \u001b[0;32mif\u001b[0m \u001b[0mchunksize\u001b[0m \u001b[0;32mor\u001b[0m \u001b[0miterator\u001b[0m\u001b[0;34m:\u001b[0m\u001b[0;34m\u001b[0m\u001b[0;34m\u001b[0m\u001b[0m\n",
            "\u001b[0;32m/usr/local/lib/python3.6/dist-packages/pandas/io/parsers.py\u001b[0m in \u001b[0;36m__init__\u001b[0;34m(self, f, engine, **kwds)\u001b[0m\n\u001b[1;32m    893\u001b[0m             \u001b[0mself\u001b[0m\u001b[0;34m.\u001b[0m\u001b[0moptions\u001b[0m\u001b[0;34m[\u001b[0m\u001b[0;34m'has_index_names'\u001b[0m\u001b[0;34m]\u001b[0m \u001b[0;34m=\u001b[0m \u001b[0mkwds\u001b[0m\u001b[0;34m[\u001b[0m\u001b[0;34m'has_index_names'\u001b[0m\u001b[0;34m]\u001b[0m\u001b[0;34m\u001b[0m\u001b[0;34m\u001b[0m\u001b[0m\n\u001b[1;32m    894\u001b[0m \u001b[0;34m\u001b[0m\u001b[0m\n\u001b[0;32m--> 895\u001b[0;31m         \u001b[0mself\u001b[0m\u001b[0;34m.\u001b[0m\u001b[0m_make_engine\u001b[0m\u001b[0;34m(\u001b[0m\u001b[0mself\u001b[0m\u001b[0;34m.\u001b[0m\u001b[0mengine\u001b[0m\u001b[0;34m)\u001b[0m\u001b[0;34m\u001b[0m\u001b[0;34m\u001b[0m\u001b[0m\n\u001b[0m\u001b[1;32m    896\u001b[0m \u001b[0;34m\u001b[0m\u001b[0m\n\u001b[1;32m    897\u001b[0m     \u001b[0;32mdef\u001b[0m \u001b[0mclose\u001b[0m\u001b[0;34m(\u001b[0m\u001b[0mself\u001b[0m\u001b[0;34m)\u001b[0m\u001b[0;34m:\u001b[0m\u001b[0;34m\u001b[0m\u001b[0;34m\u001b[0m\u001b[0m\n",
            "\u001b[0;32m/usr/local/lib/python3.6/dist-packages/pandas/io/parsers.py\u001b[0m in \u001b[0;36m_make_engine\u001b[0;34m(self, engine)\u001b[0m\n\u001b[1;32m   1120\u001b[0m     \u001b[0;32mdef\u001b[0m \u001b[0m_make_engine\u001b[0m\u001b[0;34m(\u001b[0m\u001b[0mself\u001b[0m\u001b[0;34m,\u001b[0m \u001b[0mengine\u001b[0m\u001b[0;34m=\u001b[0m\u001b[0;34m'c'\u001b[0m\u001b[0;34m)\u001b[0m\u001b[0;34m:\u001b[0m\u001b[0;34m\u001b[0m\u001b[0;34m\u001b[0m\u001b[0m\n\u001b[1;32m   1121\u001b[0m         \u001b[0;32mif\u001b[0m \u001b[0mengine\u001b[0m \u001b[0;34m==\u001b[0m \u001b[0;34m'c'\u001b[0m\u001b[0;34m:\u001b[0m\u001b[0;34m\u001b[0m\u001b[0;34m\u001b[0m\u001b[0m\n\u001b[0;32m-> 1122\u001b[0;31m             \u001b[0mself\u001b[0m\u001b[0;34m.\u001b[0m\u001b[0m_engine\u001b[0m \u001b[0;34m=\u001b[0m \u001b[0mCParserWrapper\u001b[0m\u001b[0;34m(\u001b[0m\u001b[0mself\u001b[0m\u001b[0;34m.\u001b[0m\u001b[0mf\u001b[0m\u001b[0;34m,\u001b[0m \u001b[0;34m**\u001b[0m\u001b[0mself\u001b[0m\u001b[0;34m.\u001b[0m\u001b[0moptions\u001b[0m\u001b[0;34m)\u001b[0m\u001b[0;34m\u001b[0m\u001b[0;34m\u001b[0m\u001b[0m\n\u001b[0m\u001b[1;32m   1123\u001b[0m         \u001b[0;32melse\u001b[0m\u001b[0;34m:\u001b[0m\u001b[0;34m\u001b[0m\u001b[0;34m\u001b[0m\u001b[0m\n\u001b[1;32m   1124\u001b[0m             \u001b[0;32mif\u001b[0m \u001b[0mengine\u001b[0m \u001b[0;34m==\u001b[0m \u001b[0;34m'python'\u001b[0m\u001b[0;34m:\u001b[0m\u001b[0;34m\u001b[0m\u001b[0;34m\u001b[0m\u001b[0m\n",
            "\u001b[0;32m/usr/local/lib/python3.6/dist-packages/pandas/io/parsers.py\u001b[0m in \u001b[0;36m__init__\u001b[0;34m(self, src, **kwds)\u001b[0m\n\u001b[1;32m   1851\u001b[0m         \u001b[0mkwds\u001b[0m\u001b[0;34m[\u001b[0m\u001b[0;34m'usecols'\u001b[0m\u001b[0;34m]\u001b[0m \u001b[0;34m=\u001b[0m \u001b[0mself\u001b[0m\u001b[0;34m.\u001b[0m\u001b[0musecols\u001b[0m\u001b[0;34m\u001b[0m\u001b[0;34m\u001b[0m\u001b[0m\n\u001b[1;32m   1852\u001b[0m \u001b[0;34m\u001b[0m\u001b[0m\n\u001b[0;32m-> 1853\u001b[0;31m         \u001b[0mself\u001b[0m\u001b[0;34m.\u001b[0m\u001b[0m_reader\u001b[0m \u001b[0;34m=\u001b[0m \u001b[0mparsers\u001b[0m\u001b[0;34m.\u001b[0m\u001b[0mTextReader\u001b[0m\u001b[0;34m(\u001b[0m\u001b[0msrc\u001b[0m\u001b[0;34m,\u001b[0m \u001b[0;34m**\u001b[0m\u001b[0mkwds\u001b[0m\u001b[0;34m)\u001b[0m\u001b[0;34m\u001b[0m\u001b[0;34m\u001b[0m\u001b[0m\n\u001b[0m\u001b[1;32m   1854\u001b[0m         \u001b[0mself\u001b[0m\u001b[0;34m.\u001b[0m\u001b[0munnamed_cols\u001b[0m \u001b[0;34m=\u001b[0m \u001b[0mself\u001b[0m\u001b[0;34m.\u001b[0m\u001b[0m_reader\u001b[0m\u001b[0;34m.\u001b[0m\u001b[0munnamed_cols\u001b[0m\u001b[0;34m\u001b[0m\u001b[0;34m\u001b[0m\u001b[0m\n\u001b[1;32m   1855\u001b[0m \u001b[0;34m\u001b[0m\u001b[0m\n",
            "\u001b[0;32mpandas/_libs/parsers.pyx\u001b[0m in \u001b[0;36mpandas._libs.parsers.TextReader.__cinit__\u001b[0;34m()\u001b[0m\n",
            "\u001b[0;32mpandas/_libs/parsers.pyx\u001b[0m in \u001b[0;36mpandas._libs.parsers.TextReader._setup_parser_source\u001b[0;34m()\u001b[0m\n",
            "\u001b[0;31mFileNotFoundError\u001b[0m: [Errno 2] File b'sample_data/Spam_train.csv' does not exist: b'sample_data/Spam_train.csv'"
          ]
        }
      ]
    },
    {
      "cell_type": "markdown",
      "metadata": {
        "id": "0IiQUOUL_yZq",
        "colab_type": "text"
      },
      "source": [
        "# 2. Naive Bayes Classifier\n",
        "\n",
        "마찬가지로, 아래와 같은 순서로 진행됩니다.\n",
        "\n",
        "1. 데이터 로드\n",
        "2. 모델 정의\n",
        "3. 모델 학습\n",
        "4. 모델 예측\n",
        "5. 모델 평가\n",
        "6. 모델 분석"
      ]
    },
    {
      "cell_type": "markdown",
      "metadata": {
        "id": "fktXhZv-AWqB",
        "colab_type": "text"
      },
      "source": [
        "## 와인 데이터 로드\n",
        "\n",
        "load_wine() 으로 와인 데이터셋을 로드하여 와인의 종류를 예측해본다. "
      ]
    },
    {
      "cell_type": "code",
      "metadata": {
        "id": "or0jW4udAbg9",
        "colab_type": "code",
        "outputId": "731053ff-7d59-4e2e-a915-d04c5c4db216",
        "colab": {
          "base_uri": "https://localhost:8080/",
          "height": 1000
        }
      },
      "source": [
        "from sklearn.datasets import load_wine\n",
        "\n",
        "# 와인 데이터를 불러옵니다.\n",
        "data = load_wine()\n",
        "\n",
        "# 데이터에 대한 자세한 정보를 볼 수 있습니다.\n",
        "print(data.DESCR)\n",
        "\n",
        "# x: 독립변수(attribute)를 저장합니다.\n",
        "# y: 종속변수(class)를 저장합니다.\n",
        "x = data.data\n",
        "y = data.target"
      ],
      "execution_count": 0,
      "outputs": [
        {
          "output_type": "stream",
          "text": [
            ".. _wine_dataset:\n",
            "\n",
            "Wine recognition dataset\n",
            "------------------------\n",
            "\n",
            "**Data Set Characteristics:**\n",
            "\n",
            "    :Number of Instances: 178 (50 in each of three classes)\n",
            "    :Number of Attributes: 13 numeric, predictive attributes and the class\n",
            "    :Attribute Information:\n",
            " \t\t- Alcohol\n",
            " \t\t- Malic acid\n",
            " \t\t- Ash\n",
            "\t\t- Alcalinity of ash  \n",
            " \t\t- Magnesium\n",
            "\t\t- Total phenols\n",
            " \t\t- Flavanoids\n",
            " \t\t- Nonflavanoid phenols\n",
            " \t\t- Proanthocyanins\n",
            "\t\t- Color intensity\n",
            " \t\t- Hue\n",
            " \t\t- OD280/OD315 of diluted wines\n",
            " \t\t- Proline\n",
            "\n",
            "    - class:\n",
            "            - class_0\n",
            "            - class_1\n",
            "            - class_2\n",
            "\t\t\n",
            "    :Summary Statistics:\n",
            "    \n",
            "    ============================= ==== ===== ======= =====\n",
            "                                   Min   Max   Mean     SD\n",
            "    ============================= ==== ===== ======= =====\n",
            "    Alcohol:                      11.0  14.8    13.0   0.8\n",
            "    Malic Acid:                   0.74  5.80    2.34  1.12\n",
            "    Ash:                          1.36  3.23    2.36  0.27\n",
            "    Alcalinity of Ash:            10.6  30.0    19.5   3.3\n",
            "    Magnesium:                    70.0 162.0    99.7  14.3\n",
            "    Total Phenols:                0.98  3.88    2.29  0.63\n",
            "    Flavanoids:                   0.34  5.08    2.03  1.00\n",
            "    Nonflavanoid Phenols:         0.13  0.66    0.36  0.12\n",
            "    Proanthocyanins:              0.41  3.58    1.59  0.57\n",
            "    Colour Intensity:              1.3  13.0     5.1   2.3\n",
            "    Hue:                          0.48  1.71    0.96  0.23\n",
            "    OD280/OD315 of diluted wines: 1.27  4.00    2.61  0.71\n",
            "    Proline:                       278  1680     746   315\n",
            "    ============================= ==== ===== ======= =====\n",
            "\n",
            "    :Missing Attribute Values: None\n",
            "    :Class Distribution: class_0 (59), class_1 (71), class_2 (48)\n",
            "    :Creator: R.A. Fisher\n",
            "    :Donor: Michael Marshall (MARSHALL%PLU@io.arc.nasa.gov)\n",
            "    :Date: July, 1988\n",
            "\n",
            "This is a copy of UCI ML Wine recognition datasets.\n",
            "https://archive.ics.uci.edu/ml/machine-learning-databases/wine/wine.data\n",
            "\n",
            "The data is the results of a chemical analysis of wines grown in the same\n",
            "region in Italy by three different cultivators. There are thirteen different\n",
            "measurements taken for different constituents found in the three types of\n",
            "wine.\n",
            "\n",
            "Original Owners: \n",
            "\n",
            "Forina, M. et al, PARVUS - \n",
            "An Extendible Package for Data Exploration, Classification and Correlation. \n",
            "Institute of Pharmaceutical and Food Analysis and Technologies,\n",
            "Via Brigata Salerno, 16147 Genoa, Italy.\n",
            "\n",
            "Citation:\n",
            "\n",
            "Lichman, M. (2013). UCI Machine Learning Repository\n",
            "[https://archive.ics.uci.edu/ml]. Irvine, CA: University of California,\n",
            "School of Information and Computer Science. \n",
            "\n",
            ".. topic:: References\n",
            "\n",
            "  (1) S. Aeberhard, D. Coomans and O. de Vel, \n",
            "  Comparison of Classifiers in High Dimensional Settings, \n",
            "  Tech. Rep. no. 92-02, (1992), Dept. of Computer Science and Dept. of  \n",
            "  Mathematics and Statistics, James Cook University of North Queensland. \n",
            "  (Also submitted to Technometrics). \n",
            "\n",
            "  The data was used with many others for comparing various \n",
            "  classifiers. The classes are separable, though only RDA \n",
            "  has achieved 100% correct classification. \n",
            "  (RDA : 100%, QDA 99.4%, LDA 98.9%, 1NN 96.1% (z-transformed data)) \n",
            "  (All results using the leave-one-out technique) \n",
            "\n",
            "  (2) S. Aeberhard, D. Coomans and O. de Vel, \n",
            "  \"THE CLASSIFICATION PERFORMANCE OF RDA\" \n",
            "  Tech. Rep. no. 92-01, (1992), Dept. of Computer Science and Dept. of \n",
            "  Mathematics and Statistics, James Cook University of North Queensland. \n",
            "  (Also submitted to Journal of Chemometrics).\n",
            "\n"
          ],
          "name": "stdout"
        }
      ]
    },
    {
      "cell_type": "markdown",
      "metadata": {
        "id": "fTeviWpMAuhK",
        "colab_type": "text"
      },
      "source": [
        "## 트레이닝, 테스트 데이터 분리"
      ]
    },
    {
      "cell_type": "code",
      "metadata": {
        "id": "MyAw-iHTAvYt",
        "colab_type": "code",
        "colab": {}
      },
      "source": [
        "import numpy as np\n",
        "\n",
        "# Test를 해볼 인덱스를 0부터 (데이터개수-1)까지를 한번 random하게 섞는다.\n",
        "test_ids = np.random.permutation(len(x))\n",
        "\n",
        "x_train = x[test_ids[:-10]]\n",
        "x_test = x[test_ids[-10:]]\n",
        " \n",
        "y_train = y[test_ids[:-10]]\n",
        "y_test = y[test_ids[-10:]]"
      ],
      "execution_count": 0,
      "outputs": []
    },
    {
      "cell_type": "markdown",
      "metadata": {
        "id": "nPV1JiyEAwoh",
        "colab_type": "text"
      },
      "source": [
        "## 모델 정의"
      ]
    },
    {
      "cell_type": "code",
      "metadata": {
        "id": "ku4WVF0MA3pQ",
        "colab_type": "code",
        "colab": {}
      },
      "source": [
        "from sklearn.naive_bayes import GaussianNB, MultinomialNB, BernoulliNB\n",
        "\n",
        "model = GaussianNB()\n",
        "#model = MultinomialNB()\n",
        "#model = BernoulliNB()"
      ],
      "execution_count": 0,
      "outputs": []
    },
    {
      "cell_type": "markdown",
      "metadata": {
        "id": "hBy06WsUA4F1",
        "colab_type": "text"
      },
      "source": [
        ""
      ]
    },
    {
      "cell_type": "markdown",
      "metadata": {
        "id": "YmxVxlEqBCD9",
        "colab_type": "text"
      },
      "source": [
        "## 모델 학습 및 예측"
      ]
    },
    {
      "cell_type": "code",
      "metadata": {
        "id": "C72DaHb7BFVA",
        "colab_type": "code",
        "colab": {}
      },
      "source": [
        "model.fit(x_train, y_train)\n",
        "\n",
        "pred = model.predict(x_test)"
      ],
      "execution_count": 0,
      "outputs": []
    },
    {
      "cell_type": "markdown",
      "metadata": {
        "id": "ANlkozlRBM7T",
        "colab_type": "text"
      },
      "source": [
        "## 모델 평가\n",
        "- Evaluation Metric: Accuracy (정확도)"
      ]
    },
    {
      "cell_type": "code",
      "metadata": {
        "id": "mGpYhW5dBNoN",
        "colab_type": "code",
        "outputId": "7bdec5bc-86b0-49d5-8b5a-d1ba464a1882",
        "colab": {
          "base_uri": "https://localhost:8080/",
          "height": 34
        }
      },
      "source": [
        "from sklearn.metrics import accuracy_score\n",
        "\n",
        "print(\"accuracy: %.6f\" % accuracy_score(y_true=y_test, y_pred=pred))"
      ],
      "execution_count": 0,
      "outputs": [
        {
          "output_type": "stream",
          "text": [
            "accuracy: 1.000000\n"
          ],
          "name": "stdout"
        }
      ]
    },
    {
      "cell_type": "markdown",
      "metadata": {
        "id": "rKNB3inrBeWo",
        "colab_type": "text"
      },
      "source": [
        "## 모델 분석: 확률 예측값 출력"
      ]
    },
    {
      "cell_type": "code",
      "metadata": {
        "id": "m5Z4NnGiBlO5",
        "colab_type": "code",
        "outputId": "b1e20349-e1bd-4272-949e-d001800351ee",
        "colab": {
          "base_uri": "https://localhost:8080/",
          "height": 34
        }
      },
      "source": [
        "print(model.predict_proba(x_test[0].reshape(1,-1)))"
      ],
      "execution_count": 0,
      "outputs": [
        {
          "output_type": "stream",
          "text": [
            "[[4.67135926e-28 2.48052995e-06 9.99997519e-01]]\n"
          ],
          "name": "stdout"
        }
      ]
    },
    {
      "cell_type": "markdown",
      "metadata": {
        "id": "EZ3txzwXBzT8",
        "colab_type": "text"
      },
      "source": [
        "## 실습 2. 문장의 긍/부정 판단 (15 minute practice)\n",
        "\n",
        "데이터 파일을 왼쪽 '파일'란에 끌어서 업로드 해주세요.\n",
        "\n",
        "스팸메일 데이터는 아래와 같습니다.\n",
        "- SentimentSentence_train.csv\n",
        "- SentimentSentence_test.csv\n",
        "\n",
        "\n",
        "'**아래에 코드를 작성해주세요**' 칸에 코드를 작성해주시면 됩니다."
      ]
    },
    {
      "cell_type": "code",
      "metadata": {
        "id": "7bINWs9MB8fd",
        "colab_type": "code",
        "colab": {}
      },
      "source": [
        "from sklearn.naive_bayes import GaussianNB, MultinomialNB, BernoulliNB\n",
        "from sklearn.metrics import accuracy_score\n",
        "from sklearn.feature_extraction.text import TfidfVectorizer\n",
        "import pandas as pd\n",
        "import numpy as np\n",
        "\n",
        "\n",
        "def main():\n",
        "\n",
        "    ####################### 아래에 코드를 작성해주세요 #######################\n",
        "\n",
        "    # 0. 훈련 데이터, 테스트 데이터를 불러오세요!\n",
        "\n",
        "    train_input = \n",
        "       \n",
        "    test_input = \n",
        "    \n",
        "    print(train_input.head())\n",
        "\n",
        "    \n",
        "    # 1. 'sentence'인 train_input, test_input 데이터들을 array로 변환하여 각각 x_train_input, x_test_input에 저장하세요\n",
        "    # 힌트: 위의 Decision Tree 코드를 참고하시면 됩니다!\n",
        "    x_train_input = \n",
        "    x_test_input = \n",
        "    \n",
        "    # 2. 'label'인 train_input, test_input 데이터들을 array로 변환하여 각각 y_train, y_test에 저장하세요\n",
        "    y_train = \n",
        "    y_test = \n",
        "    \n",
        "    ##########################################################################\n",
        "\n",
        "    tfidf = TfidfVectorizer()\n",
        "    tfidf.fit(x_train_input)\n",
        "\n",
        "    x_train = tfidf.transform(x_train_input).toarray()\n",
        "    x_test = tfidf.transform(x_test_input).toarray()\n",
        "    \n",
        "    ####################### 아래에 코드를 작성해주세요 #######################\n",
        "    \n",
        "    # 1. 모델 정의\n",
        "     \n",
        "\n",
        "    # 2. 모델 학습\n",
        "\n",
        "    \n",
        "    # 3. 모델 예측\n",
        "\n",
        "\n",
        "    ##########################################################################\n",
        "    \n",
        "    print(\"accuracy: %.6f\" % accuracy_score(y_true=y_test, y_pred=pred))\n",
        "    \n",
        "   \n",
        "\n",
        "if __name__ == \"__main__\":\n",
        "    main()"
      ],
      "execution_count": 0,
      "outputs": []
    },
    {
      "cell_type": "markdown",
      "metadata": {
        "id": "GIxpyjl0FOB-",
        "colab_type": "text"
      },
      "source": [
        "### 실습 2. 정답코드입니다"
      ]
    },
    {
      "cell_type": "code",
      "metadata": {
        "id": "Wqwf3S4_FP_F",
        "colab_type": "code",
        "outputId": "5b997a59-2823-4d47-f30b-96381657b73f",
        "colab": {
          "base_uri": "https://localhost:8080/",
          "height": 136
        }
      },
      "source": [
        "from sklearn.naive_bayes import GaussianNB, MultinomialNB, BernoulliNB\n",
        "from sklearn.metrics import accuracy_score\n",
        "from sklearn.feature_extraction.text import TfidfVectorizer\n",
        "import pandas as pd\n",
        "import numpy as np\n",
        "\n",
        "\n",
        "def main():\n",
        "\n",
        "    train_input = pd.read_csv(\"sample_data/SentimentSentence_train.csv\")\n",
        "    test_input = pd.read_csv(\"sample_data/SentimentSentence_test.csv\")\n",
        "\n",
        "    print(train_input.head())\n",
        "\n",
        "    x_train_input = np.array(train_input['sentence'])\n",
        "    y_train = np.array(train_input['label'])\n",
        "    x_test_input = np.array(test_input['sentence'])\n",
        "    y_test = np.array(test_input['label'])\n",
        "\n",
        "    tfidf = TfidfVectorizer()\n",
        "    tfidf.fit(x_train_input)\n",
        "\n",
        "    x_train = tfidf.transform(x_train_input).toarray()\n",
        "    x_test = tfidf.transform(x_test_input).toarray()\n",
        "\n",
        "    #model = GaussianNB()\n",
        "    #model = MultinomialNB()\n",
        "    model = BernoulliNB()\n",
        "\n",
        "    model.fit(x_train, y_train)\n",
        "    pred = model.predict(x_test)\n",
        "\n",
        "    print(\"%.6f\" % accuracy_score(y_true=y_test, y_pred=pred))\n",
        "\n",
        "if __name__ == \"__main__\":\n",
        "    main()"
      ],
      "execution_count": 0,
      "outputs": [
        {
          "output_type": "stream",
          "text": [
            "                                            sentence  label\n",
            "0  level 5 spicy was perfect  where spice didn't ...      1\n",
            "1  they also now serve indian naan bread with hum...      1\n",
            "2  it kept getting worse and worse so now i'm off...      0\n",
            "3  not a single employee came out to see if we we...      0\n",
            "4  never been to hard rock casino before  will ne...      0\n",
            "0.815000\n"
          ],
          "name": "stdout"
        }
      ]
    },
    {
      "cell_type": "markdown",
      "metadata": {
        "id": "gXUZ8f0QF1cd",
        "colab_type": "text"
      },
      "source": [
        "# 3. K-Nearest Neighbor"
      ]
    },
    {
      "cell_type": "markdown",
      "metadata": {
        "id": "WXUWZylXGDlF",
        "colab_type": "text"
      },
      "source": [
        "## 붓꽃 데이터 로드\n",
        "\n",
        "load_iris() 으로 붓꽃 데이터셋을 로드하여 붓꽃의 종류를 예측해본다. "
      ]
    },
    {
      "cell_type": "code",
      "metadata": {
        "id": "1X7j6otoGHkZ",
        "colab_type": "code",
        "colab": {}
      },
      "source": [
        "from sklearn.datasets import load_iris\n",
        "\n",
        "data = load_iris()\n",
        "\n",
        "x = data.data\n",
        "y = data.target"
      ],
      "execution_count": 0,
      "outputs": []
    },
    {
      "cell_type": "markdown",
      "metadata": {
        "id": "DVaLqvrMGVgt",
        "colab_type": "text"
      },
      "source": [
        "## 트레이닝, 테스트 분리\n",
        "\n",
        "이번에는 직접 지정해주는 것이 아닌, sklearn에서 제공하는 train_test_split 함수를 사용하여 데이터를 분리합니다."
      ]
    },
    {
      "cell_type": "code",
      "metadata": {
        "id": "nuTvhvR7GVqj",
        "colab_type": "code",
        "colab": {}
      },
      "source": [
        "from sklearn.model_selection import train_test_split\n",
        "\n",
        "\n",
        "x_train, x_test, y_train, y_test = train_test_split(x, y, test_size=0.2, random_state=0)"
      ],
      "execution_count": 0,
      "outputs": []
    },
    {
      "cell_type": "markdown",
      "metadata": {
        "id": "3pRXSCThGV0p",
        "colab_type": "text"
      },
      "source": [
        "## 모델 정의"
      ]
    },
    {
      "cell_type": "code",
      "metadata": {
        "id": "le7hDlKWGV8D",
        "colab_type": "code",
        "colab": {}
      },
      "source": [
        "from sklearn.neighbors import KNeighborsClassifier\n",
        "\n",
        "model = KNeighborsClassifier(n_neighbors=5)"
      ],
      "execution_count": 0,
      "outputs": []
    },
    {
      "cell_type": "markdown",
      "metadata": {
        "id": "Ia8YOE3fGxb3",
        "colab_type": "text"
      },
      "source": [
        "##모델 학습 및 예측"
      ]
    },
    {
      "cell_type": "code",
      "metadata": {
        "id": "ilaRo6WMGxiH",
        "colab_type": "code",
        "colab": {}
      },
      "source": [
        "model.fit(x_train, y_train)  # 모델 학습\n",
        "\n",
        "pred = model.predict(x_test) # 모델 예측"
      ],
      "execution_count": 0,
      "outputs": []
    },
    {
      "cell_type": "markdown",
      "metadata": {
        "id": "BPsZ2RH7Gxoh",
        "colab_type": "text"
      },
      "source": [
        "##모델 평가"
      ]
    },
    {
      "cell_type": "code",
      "metadata": {
        "id": "8hwVDo_HGxuC",
        "colab_type": "code",
        "outputId": "c4378b14-3e8a-4dab-a913-7bda2883dee8",
        "colab": {
          "base_uri": "https://localhost:8080/",
          "height": 34
        }
      },
      "source": [
        "from sklearn.metrics import accuracy_score\n",
        "\n",
        "print(\"accuracy: %.6f\" % accuracy_score(y_true=y_test, y_pred=pred))"
      ],
      "execution_count": 0,
      "outputs": [
        {
          "output_type": "stream",
          "text": [
            "accuracy: 0.966667\n"
          ],
          "name": "stdout"
        }
      ]
    },
    {
      "cell_type": "markdown",
      "metadata": {
        "id": "djqKrgdCGx0P",
        "colab_type": "text"
      },
      "source": [
        "##모델 분석: 어느 K가 제일 좋을까?"
      ]
    },
    {
      "cell_type": "code",
      "metadata": {
        "id": "jqIBx03oGx56",
        "colab_type": "code",
        "outputId": "b13b9b44-5031-4143-934c-8a8d588094d9",
        "colab": {
          "base_uri": "https://localhost:8080/",
          "height": 283
        }
      },
      "source": [
        "import numpy as np\n",
        "import matplotlib.pyplot as plt\n",
        "\n",
        "neighbors = np.arange(1, 10)\n",
        "test_accuracy = np.empty(len(neighbors))\n",
        "\n",
        "for i, k in enumerate(neighbors):\n",
        "    model = KNeighborsClassifier(n_neighbors=k)  # 모델 정의\n",
        "    model.fit(x_train, y_train)  # 모델 학습\n",
        "    pred = model.predict(x_test)\n",
        "\n",
        "    test_accuracy[i] = accuracy_score(y_test, pred)\n",
        "\n",
        "plt.plot(neighbors, test_accuracy, label='Test Accuracy')\n",
        "plt.legend()\n",
        "plt.xlabel('Number of neighbors')\n",
        "plt.ylabel('Accuracy')\n",
        "plt.show()"
      ],
      "execution_count": 0,
      "outputs": [
        {
          "output_type": "display_data",
          "data": {
            "image/png": "[encoded data removed]",
            "text/plain": [
              "<Figure size 432x288 with 1 Axes>"
            ]
          },
          "metadata": {
            "tags": []
          }
        }
      ]
    },
    {
      "cell_type": "markdown",
      "metadata": {
        "id": "20CToCZGGx_r",
        "colab_type": "text"
      },
      "source": [
        "## 실습 3. 비만 여부 판단 (15 min practice)\n",
        "\n",
        "데이터 파일을 왼쪽 '파일'란에 끌어서 업로드 해주세요.\n",
        "\n",
        "스팸메일 데이터는 아래와 같습니다.\n",
        "- diabetes_train.csv\n",
        "- diabetes_test.csv\n",
        "\n",
        "\n",
        "'**아래에 코드를 작성해주세요**' 칸에 코드를 작성해주시면 됩니다."
      ]
    },
    {
      "cell_type": "code",
      "metadata": {
        "id": "WZQ0ttdbGyGk",
        "colab_type": "code",
        "colab": {}
      },
      "source": [
        "from sklearn.neighbors import KNeighborsClassifier\n",
        "from sklearn.metrics import accuracy_score\n",
        "import pandas as pd\n",
        "import numpy as np\n",
        "\n",
        "\n",
        "def main():\n",
        "  \n",
        "    diabetes_data = pd.read_csv('sample_data/diabetes.csv')\n",
        "\n",
        "    print(diabetes_data.head())\n",
        "    \n",
        "    x = diabetes_data.drop(columns=['Outcome'])\n",
        "    y = diabetes_data['Outcome'].values\n",
        "\n",
        "    ####################### 아래에 코드를 작성해주세요 #######################\n",
        "\n",
        "    # 1. 훈련 데이터, 테스트 데이터를 불러오세요! (train:test = 4: 1)\n",
        "    x_train, x_test, y_train, y_test = \n",
        "    \n",
        "    \n",
        "    ##########################################################################\n",
        "   \n",
        "    \n",
        "    neighbors = np.arange(1, 50)\n",
        "    test_accuracy = np.empty(len(neighbors)) \n",
        "    \n",
        "    for i , k in enumerate(neighbors):\n",
        "      \n",
        "        ####################### 아래에 코드를 작성해주세요 #######################\n",
        "    \n",
        "        # 1. 모델 정의\n",
        "     \n",
        "\n",
        "        # 2. 모델 학습\n",
        "\n",
        "    \n",
        "        # 3. 모델 예측\n",
        "\n",
        "\n",
        "        ##########################################################################\n",
        "        \n",
        "        test_accuracy[i] = accuracy_score(y_test, pred)\n",
        "\n",
        "              \n",
        "    plt.plot(neighbors, test_accuracy, label='Test Accuracy')\n",
        "    plt.legend()\n",
        "    plt.xlabel('Number of neighbors')\n",
        "    plt.ylabel('Accuracy')\n",
        "    plt.show()\n",
        "\n",
        "if __name__ == \"__main__\":\n",
        "    main() "
      ],
      "execution_count": 0,
      "outputs": []
    },
    {
      "cell_type": "markdown",
      "metadata": {
        "id": "SjSIS652HyDq",
        "colab_type": "text"
      },
      "source": [
        "###실습 3. 정답코드입니다"
      ]
    },
    {
      "cell_type": "code",
      "metadata": {
        "id": "tpw_5VpaHyI4",
        "colab_type": "code",
        "outputId": "14e60948-fd64-4cd5-ff86-6ca7995132f3",
        "colab": {
          "base_uri": "https://localhost:8080/",
          "height": 419
        }
      },
      "source": [
        "from sklearn.neighbors import KNeighborsClassifier\n",
        "from sklearn.metrics import accuracy_score\n",
        "import pandas as pd\n",
        "import numpy as np\n",
        "\n",
        "\n",
        "def main():\n",
        "  \n",
        "\n",
        "    diabetes_data = pd.read_csv('sample_data/diabetes.csv')\n",
        "    \n",
        "    print(diabetes_data.head())\n",
        "    \n",
        "    x = diabetes_data.drop(columns=['Outcome'])\n",
        "    y = diabetes_data['Outcome'].values\n",
        "\n",
        "    x_train, x_test, y_train, y_test = train_test_split(x, y, test_size=0.2, random_state=0)\n",
        "    neighbors = np.arange(1, 50)\n",
        "    test_accuracy = np.empty(len(neighbors)) \n",
        "    \n",
        "    for i , k in enumerate(neighbors):\n",
        "        model = KNeighborsClassifier(n_neighbors=k)\n",
        "        model.fit(x_train, y_train)\n",
        "        pred = model.predict(x_test)\n",
        "        \n",
        "        test_accuracy[i] = accuracy_score(y_test, pred)\n",
        "\n",
        "              \n",
        "    plt.plot(neighbors, test_accuracy, label='Test Accuracy')\n",
        "    plt.legend()\n",
        "    plt.xlabel('Number of neighbors')\n",
        "    plt.ylabel('Accuracy')\n",
        "    plt.show()\n",
        "\n",
        "if __name__ == \"__main__\":\n",
        "    main()"
      ],
      "execution_count": 0,
      "outputs": [
        {
          "output_type": "stream",
          "text": [
            "   Pregnancies  Glucose  BloodPressure  ...  DiabetesPedigreeFunction  Age  Outcome\n",
            "0            6      148             72  ...                     0.627   50        1\n",
            "1            1       85             66  ...                     0.351   31        0\n",
            "2            8      183             64  ...                     0.672   32        1\n",
            "3            1       89             66  ...                     0.167   21        0\n",
            "4            0      137             40  ...                     2.288   33        1\n",
            "\n",
            "[5 rows x 9 columns]\n"
          ],
          "name": "stdout"
        },
        {
          "output_type": "display_data",
          "data": {
            "image/png": "[encoded data removed]",
            "text/plain": [
              "<Figure size 432x288 with 1 Axes>"
            ]
          },
          "metadata": {
            "tags": []
          }
        }
      ]
    },
    {
      "cell_type": "markdown",
      "metadata": {
        "id": "Kmao8ATJH3zZ",
        "colab_type": "text"
      },
      "source": [
        "# 4. 실습 응용 \n",
        "\n",
        "정확도 (Accuracy) 뿐만이 아니라, Precision, recall, F1-score도 계산하는 법에 대해서 실습합니다!\n",
        "\n",
        "- average = **None**: 각 클래스별 평가방법 점수\n",
        "- average = '**macro**': 평가방법의 평균 점수"
      ]
    },
    {
      "cell_type": "code",
      "metadata": {
        "id": "7zsWwaQgH35G",
        "colab_type": "code",
        "outputId": "cde0d5ea-58e1-4e8b-fc6a-a9103970297c",
        "colab": {
          "base_uri": "https://localhost:8080/",
          "height": 85
        }
      },
      "source": [
        "from sklearn.metrics import accuracy_score, precision_score, recall_score, f1_score\n",
        "from sklearn.datasets import load_wine\n",
        "from sklearn.tree import DecisionTreeClassifier\n",
        "import numpy as np\n",
        "\n",
        "\n",
        "def main():\n",
        "    data = load_wine()\n",
        "    x = data.data\n",
        "    y = data.target\n",
        "\n",
        "    test_ids = np.random.permutation(len(x))\n",
        "    x_train = x[test_ids[:-10]]\n",
        "    x_test = x[test_ids[-10:]]\n",
        "\n",
        "    y_train = y[test_ids[:-10]]\n",
        "    y_test = y[test_ids[-10:]]\n",
        "\n",
        "    model = DecisionTreeClassifier(max_depth=10, max_leaf_nodes=50, random_state=0)\n",
        "\n",
        "    model.fit(x_train, y_train)\n",
        "    pred = model.predict(x_test)\n",
        "\n",
        "    print(\"accuracy: %.6f\" % accuracy_score(y_true=y_test, y_pred=pred))\n",
        "    print(\"precision:\", precision_score(y_true=y_test, y_pred=pred, average=None), precision_score(y_true=y_test, y_pred=pred, average='macro'))\n",
        "    print(\"recall:\", recall_score(y_true=y_test, y_pred=pred, average=None), recall_score(y_true=y_test, y_pred=pred, average='macro'))\n",
        "    print(\"f1-score:\", f1_score(y_true=y_test, y_pred=pred, average=None), f1_score(y_true=y_test, y_pred=pred, average='macro'))\n",
        "\n",
        "if __name__ == \"__main__\":\n",
        "    main()"
      ],
      "execution_count": 0,
      "outputs": [
        {
          "output_type": "stream",
          "text": [
            "accuracy: 0.900000\n",
            "precision: [1.         0.83333333 1.        ] 0.9444444444444445\n",
            "recall: [1.         1.         0.66666667] 0.8888888888888888\n",
            "f1-score: [1.         0.90909091 0.8       ] 0.903030303030303\n"
          ],
          "name": "stdout"
        }
      ]
    },
    {
      "cell_type": "markdown",
      "metadata": {
        "id": "IMQJDAEjH3_X",
        "colab_type": "text"
      },
      "source": [
        "## 실습 4. 모델 비교 및 평가 (25 min practice)\n",
        "\n",
        "데이터 파일을 왼쪽 '파일'란에 끌어서 업로드 해주세요.\n",
        "\n",
        "3개의 데이터\n",
        "- Spam_train.csv\n",
        "- Spam_test.csv\n",
        "- SentimentSentence_train.csv\n",
        "- SentimentSentence_test.csv\n",
        "- diabetes.csv\n",
        "\n",
        "\n",
        "아래 칸에 **처음부터 코드를 작성 (From scratch)**해주시면 됩니다.\n",
        "지금까지 배운 내용을 총 복습할 수 있습니다."
      ]
    },
    {
      "cell_type": "code",
      "metadata": {
        "id": "iNvhTXXUH4E7",
        "colab_type": "code",
        "colab": {}
      },
      "source": [
        "# From scratch\n",
        "# 힌트: "
      ],
      "execution_count": 0,
      "outputs": []
    },
    {
      "cell_type": "markdown",
      "metadata": {
        "id": "LXyWwPccH4K7",
        "colab_type": "text"
      },
      "source": [
        "### 실습 4. 정답코드입니다"
      ]
    },
    {
      "cell_type": "code",
      "metadata": {
        "id": "K-E2aw7zH4RA",
        "colab_type": "code",
        "outputId": "5d3becee-63b1-4a41-8408-31b897c51d80",
        "colab": {
          "base_uri": "https://localhost:8080/",
          "height": 731
        }
      },
      "source": [
        "from sklearn.metrics import accuracy_score, precision_score, recall_score, f1_score\n",
        "from sklearn.tree import DecisionTreeClassifier\n",
        "from sklearn.naive_bayes import GaussianNB, MultinomialNB, BernoulliNB\n",
        "from sklearn.neighbors import KNeighborsClassifier\n",
        "from sklearn.feature_extraction.text import TfidfVectorizer\n",
        "import pandas as pd\n",
        "import numpy as np\n",
        "\n",
        "\n",
        "def main():\n",
        "  \n",
        "    # 1. 데이터 로드\n",
        "    \n",
        "    # 스팸 데이터\n",
        "    train_input = pd.read_csv(\"sample_data/Spam_train.csv\")\n",
        "    test_input = pd.read_csv(\"sample_data/Spam_test.csv\")\n",
        "\n",
        "    print(train_input.head())\n",
        "\n",
        "    x_train = np.array(train_input.loc[:, train_input.columns != 'spam'])\n",
        "    y_train = np.array(train_input['spam'])\n",
        "    x_test = np.array(test_input.loc[:, test_input.columns != 'spam'])\n",
        "    y_test = np.array(test_input['spam'])\n",
        "    \n",
        "\n",
        "#     # 문장 긍부정\n",
        "#     train_input = pd.read_csv(\"sample_data/SentimentSentence_train.csv\")\n",
        "#     test_input = pd.read_csv(\"sample_data/SentimentSentence_test.csv\")\n",
        "\n",
        "#     x_train_input = np.array(train_input['sentence'])\n",
        "#     y_train = np.array(train_input['label'])\n",
        "#     x_test_input = np.array(test_input['sentence'])\n",
        "#     y_test = np.array(test_input['label'])\n",
        "\n",
        "#     tfidf = TfidfVectorizer()\n",
        "#     tfidf.fit(x_train_input)\n",
        "\n",
        "#     x_train = tfidf.transform(x_train_input).toarray()\n",
        "#     x_test = tfidf.transform(x_test_input).toarray()\n",
        "    \n",
        "    \n",
        "    \n",
        "#     # 비만여부 데이터\n",
        "#     diabetes_data = pd.read_csv('sample_data/diabetes.csv')    \n",
        "#     x = diabetes_data.drop(columns=['Outcome'])\n",
        "#     y = diabetes_data['Outcome'].values\n",
        "\n",
        "#     x_train, x_test, y_train, y_test = train_test_split(x, y, test_size=0.2, random_state=0)\n",
        "    \n",
        "    \n",
        "    # 2. 모델 정의\n",
        "    classifiers = [\n",
        "        DecisionTreeClassifier(),\n",
        "        GaussianNB(),\n",
        "        KNeighborsClassifier(5)\n",
        "        \n",
        "    ]  \n",
        "    \n",
        "    for model in classifiers:\n",
        "\n",
        "      \n",
        "        # 3. 모델 학습\n",
        "        model.fit(x_train, y_train)\n",
        "        \n",
        "        # 4. 모델 예측\n",
        "        pred = model.predict(x_test)\n",
        "        \n",
        "        print(model)\n",
        "        print('\\n')\n",
        "        \n",
        "        # 5. 모델 평가\n",
        "        print(\"accuracy: %.6f\" % accuracy_score(y_true=y_test, y_pred=pred))\n",
        "        print(\"precision:\", precision_score(y_true=y_test, y_pred=pred, average='macro'))\n",
        "        print(\"recall:\", recall_score(y_true=y_test, y_pred=pred, average='macro'))\n",
        "        print(\"f1-score:\", f1_score(y_true=y_test, y_pred=pred, average='macro'))\n",
        "        print('\\n')\n",
        "\n",
        "\n",
        "if __name__ == \"__main__\":\n",
        "    main()"
      ],
      "execution_count": 0,
      "outputs": [
        {
          "output_type": "stream",
          "text": [
            "   word_freq_make  word_freq_address  ...  capital_run_length_total  spam\n",
            "0             0.0               0.00  ...                       617     1\n",
            "1             0.0               0.00  ...                        37     0\n",
            "2             0.0               0.00  ...                         2     0\n",
            "3             0.0               0.19  ...                       472     0\n",
            "4             0.0               0.00  ...                       149     1\n",
            "\n",
            "[5 rows x 58 columns]\n",
            "DecisionTreeClassifier(class_weight=None, criterion='gini', max_depth=None,\n",
            "                       max_features=None, max_leaf_nodes=None,\n",
            "                       min_impurity_decrease=0.0, min_impurity_split=None,\n",
            "                       min_samples_leaf=1, min_samples_split=2,\n",
            "                       min_weight_fraction_leaf=0.0, presort=False,\n",
            "                       random_state=None, splitter='best')\n",
            "\n",
            "\n",
            "accuracy: 0.917301\n",
            "precision: 0.9125642007679542\n",
            "recall: 0.915518520350131\n",
            "f1-score: 0.9139640305493963\n",
            "\n",
            "\n",
            "GaussianNB(priors=None, var_smoothing=1e-09)\n",
            "\n",
            "\n",
            "accuracy: 0.800871\n",
            "precision: 0.8167541653869779\n",
            "recall: 0.8264254982443994\n",
            "f1-score: 0.8004537272913881\n",
            "\n",
            "\n",
            "KNeighborsClassifier(algorithm='auto', leaf_size=30, metric='minkowski',\n",
            "                     metric_params=None, n_jobs=None, n_neighbors=5, p=2,\n",
            "                     weights='uniform')\n",
            "\n",
            "\n",
            "accuracy: 0.812840\n",
            "precision: 0.8057960086462574\n",
            "recall: 0.8008357647989713\n",
            "f1-score: 0.803039365212277\n",
            "\n",
            "\n"
          ],
          "name": "stdout"
        }
      ]
    },
    {
      "cell_type": "markdown",
      "metadata": {
        "id": "eYDTUDdVH4W7",
        "colab_type": "text"
      },
      "source": [
        ""
      ]
    },
    {
      "cell_type": "markdown",
      "metadata": {
        "id": "DGT_NWmmViVG",
        "colab_type": "text"
      },
      "source": [
        "# 5. Excercise 1. 타이타닉 생존 여부 분류\n",
        "\n",
        "데이터 파일을 왼쪽 '파일'란에 끌어서 업로드 해주세요.\n",
        "\n",
        "타이타닉 생존 데이터는 아래와 같습니다.\n",
        "- survived_train.csv\n",
        "- survived_test.csv\n",
        "\n",
        "\n",
        "제출 포맷에 맞게 csv파일을 작성하여 '**Submit Predictions**' 칸에 업로드하시면 됩니다.\n",
        "\n",
        "링크: https://www.kaggle.com/c/titanic/submit\n"
      ]
    },
    {
      "cell_type": "code",
      "metadata": {
        "id": "_tQBnpPlH4ov",
        "colab_type": "code",
        "cellView": "both",
        "colab": {}
      },
      "source": [
        "# You can do everything!"
      ],
      "execution_count": 0,
      "outputs": []
    },
    {
      "cell_type": "markdown",
      "metadata": {
        "id": "Q4cCH91uWbml",
        "colab_type": "text"
      },
      "source": [
        "# 6. Exercise 실습 2. 식용 버섯 분류\n",
        "\n",
        "데이터 파일을 왼쪽 '파일'란에 끌어서 업로드 해주세요.\n",
        "\n",
        "데이터는 아래와 같습니다.\n",
        "- mushrooms.csv\n",
        "\n",
        "**교차검증(Fold = 10)을 사용하여 각 모델 별 평균 정확도를 구해보세요!**"
      ]
    },
    {
      "cell_type": "code",
      "metadata": {
        "id": "QZD_mR_rWbso",
        "colab_type": "code",
        "colab": {}
      },
      "source": [
        "# You can do everything!"
      ],
      "execution_count": 0,
      "outputs": []
    }
  ]
}